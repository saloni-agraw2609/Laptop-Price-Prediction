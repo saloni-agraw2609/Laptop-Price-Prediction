{
  "cells": [
    {
      "cell_type": "code",
      "execution_count": null,
      "metadata": {
        "id": "-Vdnn7zohjQf"
      },
      "outputs": [],
      "source": [
        "# Importing necessary libraries\n",
        "import pandas as pd\n",
        "import numpy as np\n",
        "import matplotlib.pyplot as plt\n",
        "import seaborn as sns\n",
        "%matplotlib inline"
      ]
    },
    {
      "cell_type": "code",
      "execution_count": null,
      "metadata": {
        "id": "XVfwbYNSieS6"
      },
      "outputs": [],
      "source": [
        "# Reading csv file\n",
        "laptop = pd.read_csv(\"/content/drive/MyDrive/Colab Notebooks/Laptop Price Prediction/laptop.csv\")"
      ]
    },
    {
      "cell_type": "code",
      "execution_count": null,
      "metadata": {
        "colab": {
          "base_uri": "https://localhost:8080/",
          "height": 293
        },
        "id": "UFlXUUOujIkG",
        "outputId": "8bc39d08-8afb-423e-9548-654deefc6d95"
      },
      "outputs": [],
      "source": [
        "# Fetching first five rows\n",
        "laptop.head()"
      ]
    },
    {
      "cell_type": "code",
      "execution_count": null,
      "metadata": {
        "colab": {
          "base_uri": "https://localhost:8080/"
        },
        "id": "Qfg-Xe3yjNDA",
        "outputId": "976e70f6-b8c2-4fa1-e4e0-6443bccaf166"
      },
      "outputs": [],
      "source": [
        "# Fetching information about data\n",
        "laptop.info()"
      ]
    },
    {
      "cell_type": "code",
      "execution_count": null,
      "metadata": {
        "colab": {
          "base_uri": "https://localhost:8080/",
          "height": 300
        },
        "id": "JZnV3flNkKLo",
        "outputId": "c1fd33d9-e901-48b9-e6ab-afd20e5a350b"
      },
      "outputs": [],
      "source": [
        "# Fetching statistical data\n",
        "laptop.describe()"
      ]
    },
    {
      "cell_type": "code",
      "execution_count": null,
      "metadata": {
        "colab": {
          "base_uri": "https://localhost:8080/"
        },
        "id": "pw26V1bRSq9o",
        "outputId": "75d36d81-b1c4-494e-8c55-393802fdd314"
      },
      "outputs": [],
      "source": [
        "# Fetching column names\n",
        "laptop.columns"
      ]
    },
    {
      "cell_type": "markdown",
      "metadata": {
        "id": "xzGtvXjAjeIg"
      },
      "source": [
        "# Exploratory Data Analysis"
      ]
    },
    {
      "cell_type": "code",
      "execution_count": null,
      "metadata": {
        "colab": {
          "base_uri": "https://localhost:8080/"
        },
        "id": "O-PG-SrQTksy",
        "outputId": "d4a49d67-fb82-4304-84d6-4d030160a8fa"
      },
      "outputs": [],
      "source": [
        "# Unique company names and their counts\n",
        "laptop['Company'].value_counts()"
      ]
    },
    {
      "cell_type": "code",
      "execution_count": null,
      "metadata": {
        "colab": {
          "base_uri": "https://localhost:8080/",
          "height": 521
        },
        "id": "5Yst7KkhVAC7",
        "outputId": "caf2a682-95db-4f24-8127-bc81485bb907"
      },
      "outputs": [],
      "source": [
        "# Company column analysis\n",
        "\n",
        "company_counts = laptop['Company'].value_counts()\n",
        "\n",
        "plt.figure(figsize=(8,6))\n",
        "plt.pie(company_counts, labels=company_counts.index, autopct='%1.1f%%')\n",
        "plt.title('Company Distribution')\n",
        "plt.show()\n"
      ]
    },
    {
      "cell_type": "code",
      "execution_count": null,
      "metadata": {
        "colab": {
          "base_uri": "https://localhost:8080/",
          "height": 507
        },
        "id": "EK5QSsXCNP39",
        "outputId": "8123e46c-9639-4a0b-fefb-4bc66b49e485"
      },
      "outputs": [],
      "source": [
        "# comparing company and their average prices\n",
        "\n",
        "import matplotlib.pyplot as plt\n",
        "sns.barplot(x = 'Company', y = 'Price_euros', data = laptop, hue = 'Company', palette = 'magma')\n",
        "plt.xticks(rotation = 90)\n",
        "plt.show()\n"
      ]
    },
    {
      "cell_type": "code",
      "execution_count": null,
      "metadata": {
        "colab": {
          "base_uri": "https://localhost:8080/"
        },
        "id": "dxADKBchUCrG",
        "outputId": "d226404a-33d8-48bf-f5b3-1eee1e9b025a"
      },
      "outputs": [],
      "source": [
        "# Unique TypeNames and their counts\n",
        "laptop['TypeName'].value_counts()"
      ]
    },
    {
      "cell_type": "code",
      "execution_count": null,
      "metadata": {
        "colab": {
          "base_uri": "https://localhost:8080/",
          "height": 521
        },
        "id": "AlDaoZFfV4mI",
        "outputId": "e3de3670-a9d1-49c2-be10-d0cd21b92cd0"
      },
      "outputs": [],
      "source": [
        "# TypeName column analysis\n",
        "\n",
        "type_counts = laptop['TypeName'].value_counts()\n",
        "\n",
        "plt.figure(figsize=(8,6))\n",
        "plt.pie(type_counts, labels=type_counts.index, autopct='%1.1f%%')\n",
        "plt.title('TypeName Distribution')\n",
        "plt.show()\n"
      ]
    },
    {
      "cell_type": "code",
      "execution_count": null,
      "metadata": {
        "colab": {
          "base_uri": "https://localhost:8080/",
          "height": 559
        },
        "id": "4Xdf2FZKPhAO",
        "outputId": "25b0a167-5cb2-44cd-cdbe-d5919adc6077"
      },
      "outputs": [],
      "source": [
        "# comparing typename and average price_euros\n",
        "\n",
        "import matplotlib.pyplot as plt\n",
        "sns.barplot(x = 'TypeName', y = 'Price_euros', data = laptop, hue = 'TypeName', palette = 'magma')\n",
        "plt.xticks(rotation = 90)\n",
        "plt.show()\n"
      ]
    },
    {
      "cell_type": "code",
      "execution_count": null,
      "metadata": {
        "colab": {
          "base_uri": "https://localhost:8080/"
        },
        "id": "wKffM_gfUehq",
        "outputId": "02baa382-8b63-4048-82b7-4dba33f04ae0"
      },
      "outputs": [],
      "source": [
        "# Unique Inches values and their counts\n",
        "laptop['Inches'].value_counts()"
      ]
    },
    {
      "cell_type": "code",
      "execution_count": null,
      "metadata": {
        "colab": {
          "base_uri": "https://localhost:8080/",
          "height": 466
        },
        "id": "HJYyey67URNY",
        "outputId": "c3220e58-56ad-44a4-8bfa-423ac079c6cf"
      },
      "outputs": [],
      "source": [
        "# countplot of inches column\n",
        "\n",
        "sns.countplot(x = 'Inches', data = laptop, hue = 'Inches', palette = 'viridis')\n",
        "plt.xticks(rotation = 90)\n",
        "plt.show()\n"
      ]
    },
    {
      "cell_type": "code",
      "execution_count": null,
      "metadata": {
        "colab": {
          "base_uri": "https://localhost:8080/",
          "height": 624
        },
        "id": "OY4HZx4iQ41g",
        "outputId": "fcaf55f8-718f-4c87-d964-1494b0cd4a40"
      },
      "outputs": [],
      "source": [
        "# Price density with inches\n",
        "\n",
        "sns.jointplot(x= 'Inches', y = 'Price_euros', data = laptop, kind = 'kde', fill = True)"
      ]
    },
    {
      "cell_type": "code",
      "execution_count": null,
      "metadata": {
        "colab": {
          "base_uri": "https://localhost:8080/"
        },
        "id": "yWCvxiTXe_CY",
        "outputId": "8b071cf8-441b-4722-9b72-98a64d1f46cf"
      },
      "outputs": [],
      "source": [
        "# Unique Cpu names and their counts\n",
        "laptop['Cpu'].value_counts()"
      ]
    },
    {
      "cell_type": "code",
      "execution_count": null,
      "metadata": {
        "colab": {
          "base_uri": "https://localhost:8080/",
          "height": 449
        },
        "id": "t-BHFLrfcCWU",
        "outputId": "d4c15017-eaf9-4167-e655-9d78bdaddb11"
      },
      "outputs": [],
      "source": [
        "# Analyzing ram and price\n",
        "\n",
        "sns.stripplot(x='Ram', y='Price_euros', hue = 'Ram', palette = 'magma', data=laptop)\n",
        "plt.show()\n"
      ]
    },
    {
      "cell_type": "markdown",
      "metadata": {
        "id": "eoPoQGiHl-bz"
      },
      "source": [
        "# Data Preprocessing"
      ]
    },
    {
      "cell_type": "code",
      "execution_count": null,
      "metadata": {
        "colab": {
          "base_uri": "https://localhost:8080/"
        },
        "id": "4Y_01nMzuPX4",
        "outputId": "2bdd9185-66b2-4567-8973-c69ea3d89679"
      },
      "outputs": [],
      "source": [
        "# Checking null values\n",
        "laptop.isnull().sum()"
      ]
    },
    {
      "cell_type": "code",
      "execution_count": null,
      "metadata": {
        "colab": {
          "base_uri": "https://localhost:8080/"
        },
        "id": "9JT8RyyIuWVa",
        "outputId": "f0b9f0bc-cc68-4e78-e2d9-0ffe19c00aa3"
      },
      "outputs": [],
      "source": [
        "# checking duplicate values\n",
        "laptop.duplicated().sum()"
      ]
    },
    {
      "cell_type": "code",
      "execution_count": null,
      "metadata": {
        "colab": {
          "base_uri": "https://localhost:8080/",
          "height": 206
        },
        "id": "DCAZ6Dhcl5Mq",
        "outputId": "8cd771ed-c34b-4f85-f076-519cd5259a35"
      },
      "outputs": [],
      "source": [
        "# Dropping columns which are of no use for our project\n",
        "laptop.drop(['laptop_ID', 'Product'], axis = 1, inplace = True)\n",
        "\n",
        "laptop.head()"
      ]
    },
    {
      "cell_type": "code",
      "execution_count": null,
      "metadata": {
        "colab": {
          "base_uri": "https://localhost:8080/",
          "height": 206
        },
        "id": "SBxEPcUeAcT6",
        "outputId": "0db08934-bc90-4caf-fc37-ab1ea7328fbd"
      },
      "outputs": [],
      "source": [
        "# Removing kg from weight column and changing its datatype to float\n",
        "laptop['Weight'] = laptop['Weight'].astype(str).str.replace('kg', '').astype('float64')\n",
        "\n",
        "laptop.head()"
      ]
    },
    {
      "cell_type": "code",
      "execution_count": null,
      "metadata": {
        "colab": {
          "base_uri": "https://localhost:8080/",
          "height": 624
        },
        "id": "w8R05Bs9m-gk",
        "outputId": "a824434d-cfa5-43bb-cad0-d62353502a9f"
      },
      "outputs": [],
      "source": [
        "# Weight analysis with price\n",
        "sns.jointplot(x = 'Weight', y = 'Price_euros', data = laptop, kind ='kde', fill = True)"
      ]
    },
    {
      "cell_type": "code",
      "execution_count": null,
      "metadata": {
        "colab": {
          "base_uri": "https://localhost:8080/"
        },
        "id": "lLIedv7hxoZw",
        "outputId": "4ccc81d0-4f0c-44e0-c451-3d84f439a8e4"
      },
      "outputs": [],
      "source": [
        "!pip install category_encoders"
      ]
    },
    {
      "cell_type": "code",
      "execution_count": null,
      "metadata": {
        "colab": {
          "base_uri": "https://localhost:8080/",
          "height": 206
        },
        "id": "XDtVuET0IREI",
        "outputId": "ac1b1794-159e-44c4-8fa6-38b7032579b4"
      },
      "outputs": [],
      "source": [
        "# target encoding on Company, TypeName, ScreenResolution, Cpu, Ram, Memory, Gpu, OpSys columns\n",
        "\n",
        "import category_encoders as ce\n",
        "\n",
        "target_cols = ['Company', 'TypeName', 'ScreenResolution', 'Cpu', 'Ram', 'Memory', 'Gpu', 'OpSys']\n",
        "\n",
        "for col in target_cols:\n",
        "    # Create a target encoder object\n",
        "    target_encoder = ce.TargetEncoder(cols=[col])\n",
        "\n",
        "    # Fit the encoder on the data\n",
        "    target_encoder.fit(laptop[col], laptop['Price_euros'])\n",
        "\n",
        "    # Transform the data\n",
        "    laptop[col] = target_encoder.transform(laptop[col])\n",
        "\n",
        "laptop.head()\n"
      ]
    },
    {
      "cell_type": "code",
      "execution_count": null,
      "metadata": {
        "colab": {
          "base_uri": "https://localhost:8080/",
          "height": 959
        },
        "id": "AVZTSQcJeQPK",
        "outputId": "db34d2a6-e441-4db3-ff60-ad3fb80850c3"
      },
      "outputs": [],
      "source": [
        "# Correlation analysis\n",
        "plt.figure(figsize=(12, 10))\n",
        "sns.heatmap(laptop.corr(numeric_only = True) , annot = True, cmap = 'YlGnBu')"
      ]
    },
    {
      "cell_type": "code",
      "execution_count": null,
      "metadata": {
        "id": "BZY6yPG_pNr3"
      },
      "outputs": [],
      "source": [
        "# Dividing the data into into input and output variables\n",
        "X = laptop.drop(['Price_euros'], axis = 1)\n",
        "y = laptop['Price_euros']"
      ]
    },
    {
      "cell_type": "code",
      "execution_count": null,
      "metadata": {
        "id": "YLoZxwBRNCe4"
      },
      "outputs": [],
      "source": [
        "# Performing standard scaling to put all the numerical features on a similar scale\n",
        "from sklearn.preprocessing import StandardScaler\n",
        "sc = StandardScaler()\n",
        "X = sc.fit_transform(X)"
      ]
    },
    {
      "cell_type": "code",
      "execution_count": null,
      "metadata": {
        "id": "Lss0AWb5qqvO"
      },
      "outputs": [],
      "source": [
        "# Dividing X and y into train-test-split\n",
        "from sklearn.model_selection import train_test_split\n",
        "X_train, X_test, y_train, y_test = train_test_split(X, y, test_size = 0.2, random_state=101)"
      ]
    },
    {
      "cell_type": "code",
      "execution_count": null,
      "metadata": {
        "id": "7YEspUmAssCo"
      },
      "outputs": [],
      "source": [
        "# Importing libraries for evaluating the model\n",
        "from sklearn.metrics import mean_squared_error, r2_score"
      ]
    },
    {
      "cell_type": "markdown",
      "metadata": {
        "id": "84Rzekkrr1be"
      },
      "source": [
        "# Modeling"
      ]
    },
    {
      "cell_type": "markdown",
      "metadata": {
        "id": "y3INQkUsvh0B"
      },
      "source": [
        "### GradientBoostingRegressor"
      ]
    },
    {
      "cell_type": "code",
      "execution_count": null,
      "metadata": {
        "colab": {
          "base_uri": "https://localhost:8080/",
          "height": 74
        },
        "id": "2rXxcfCpvkx3",
        "outputId": "bb2500dd-8170-48f6-9655-c8a303a937be"
      },
      "outputs": [],
      "source": [
        "# Training a model\n",
        "from sklearn.ensemble import GradientBoostingRegressor\n",
        "gb = GradientBoostingRegressor(max_depth=6, n_estimators=50)\n",
        "gb.fit(X_train, y_train)"
      ]
    },
    {
      "cell_type": "code",
      "execution_count": null,
      "metadata": {
        "colab": {
          "base_uri": "https://localhost:8080/"
        },
        "id": "4Y0d6Xcsv5nD",
        "outputId": "e665108b-ad50-42d0-d1f6-9d8325cad193"
      },
      "outputs": [],
      "source": [
        "# Training Accuracy\n",
        "\n",
        "# Predictions on the train det\n",
        "gb_train_pred = gb.predict(X_train)\n",
        "\n",
        "# Evaluation\n",
        "gb_train_rmse = np.sqrt(mean_squared_error(y_train, gb_train_pred))\n",
        "gb_train_r2 = r2_score(y_train, gb_train_pred)\n",
        "\n",
        "print('Training RMSE:', gb_train_rmse)\n",
        "print('Training R2 Score:', gb_train_r2)"
      ]
    },
    {
      "cell_type": "code",
      "execution_count": null,
      "metadata": {
        "colab": {
          "base_uri": "https://localhost:8080/"
        },
        "id": "QPOxoiDYwQi2",
        "outputId": "613e78aa-fa36-41e5-ca5a-90c13419449f"
      },
      "outputs": [],
      "source": [
        "# Testing Accuracy\n",
        "\n",
        "# Predictions on the train det\n",
        "gb_test_pred = gb.predict(X_test)\n",
        "\n",
        "# Evaluation\n",
        "gb_test_rmse = np.sqrt(mean_squared_error(y_test, gb_test_pred))\n",
        "gb_test_r2 = r2_score(y_test, gb_test_pred)\n",
        "\n",
        "print('Testing RMSE:', gb_test_rmse)\n",
        "print('Testing R2 Score:', gb_test_r2)"
      ]
    },
    {
      "cell_type": "markdown",
      "metadata": {
        "id": "5tNWwxTxCs3e"
      },
      "source": [
        "### CatBoostRegressor"
      ]
    },
    {
      "cell_type": "code",
      "execution_count": null,
      "metadata": {
        "id": "OttzmqWeC7Uu"
      },
      "outputs": [],
      "source": [
        "# Installing catboost\n",
        "!!pip install catboost\n",
        "from catboost import CatBoostRegressor"
      ]
    },
    {
      "cell_type": "code",
      "execution_count": null,
      "metadata": {
        "colab": {
          "base_uri": "https://localhost:8080/",
          "height": 225,
          "referenced_widgets": [
            "97645cc816ea4b5aa0ae38921e7be823"
          ]
        },
        "id": "NknbBdc5Cw3E",
        "outputId": "1464da38-c894-4eb6-b3af-2f99d3765b4a"
      },
      "outputs": [],
      "source": [
        "# cat boost regressor\n",
        "\n",
        "\n",
        "# Define the model\n",
        "cat = CatBoostRegressor(iterations= 945,\n",
        "                        learning_rate=0.04,\n",
        "                        depth= 7,\n",
        "                        loss_function='RMSE',\n",
        "                        eval_metric='RMSE',\n",
        "                        l2_leaf_reg=3)\n",
        "\n",
        "# Fit the model\n",
        "cat.fit(X_train, y_train,\n",
        "         eval_set=(X_test, y_test),\n",
        "         verbose=200,\n",
        "         plot=True)\n"
      ]
    },
    {
      "cell_type": "code",
      "execution_count": null,
      "metadata": {
        "colab": {
          "base_uri": "https://localhost:8080/"
        },
        "id": "Fl5oLxq6LAXc",
        "outputId": "512ab74d-7000-45b3-ed90-c3d871870c52"
      },
      "outputs": [],
      "source": [
        "# Training Accuracy\n",
        "\n",
        "# Predictions for the train dataset\n",
        "cat_train_pred = cat.predict(X_train)\n",
        "\n",
        "# evaluation\n",
        "cat_train_rmse = np.sqrt(mean_squared_error(y_train, cat_train_pred))\n",
        "cat_train_r2 = r2_score(y_train, cat_train_pred)\n",
        "\n",
        "print('Training RMSE:', cat_train_rmse)\n",
        "print('Training r2_score:', cat_train_r2)"
      ]
    },
    {
      "cell_type": "code",
      "execution_count": null,
      "metadata": {
        "colab": {
          "base_uri": "https://localhost:8080/"
        },
        "id": "-AzNLvYuL2ea",
        "outputId": "165dab5c-cd6c-4081-f008-d4f43f05200d"
      },
      "outputs": [],
      "source": [
        "# Testing Accuracy\n",
        "\n",
        "# Predictions on the train det\n",
        "cat_test_pred = cat.predict(X_test)\n",
        "\n",
        "# Evaluation\n",
        "cat_test_rmse = np.sqrt(mean_squared_error(y_test, cat_test_pred))\n",
        "cat_test_r2 = r2_score(y_test, cat_test_pred)\n",
        "\n",
        "print('Testing RMSE:', cat_test_rmse)\n",
        "print('Testing R2 Score:', cat_test_r2)"
      ]
    },
    {
      "cell_type": "markdown",
      "metadata": {
        "id": "ZP0S39_UaZt1"
      },
      "source": [
        "# Result analysis"
      ]
    },
    {
      "cell_type": "code",
      "execution_count": null,
      "metadata": {
        "colab": {
          "base_uri": "https://localhost:8080/",
          "height": 1000
        },
        "id": "Bb5ALNx8634B",
        "outputId": "67ec85ba-42fd-44cc-9c69-cbb259bcb8e0"
      },
      "outputs": [],
      "source": [
        "# Result Analysis of training data\n",
        "\n",
        "# Create a figure with 3 rows and 2 columns\n",
        "fig, axes = plt.subplots(2, 2, figsize=(20, 15))\n",
        "\n",
        "# Scatter plot for Gradient Boosting Regressor\n",
        "axes[0, 0].scatter(y_train, gb_train_pred, marker = '*' , c = 'orange', label = 'Gradient Boosting Regressor - Train')\n",
        "axes[0, 0].set_title('Gradient Boosting Regressor - Train')\n",
        "axes[0, 0].set_xlabel('Actual')\n",
        "axes[0, 0].set_ylabel('Predicted')\n",
        "axes[0, 0].legend()\n",
        "\n",
        "# Regression line for Gradient Boosting Regressor\n",
        "m, b = np.polyfit(y_train, gb_train_pred, 1)\n",
        "axes[0, 0].plot(y_train, m * y_train + b, linestyle='--', color='black', linewidth=2)\n",
        "\n",
        "# Scatter plot for Cat Boost Regressor\n",
        "axes[1, 0].scatter(y_train, cat_train_pred, marker = '*' , c = 'orange', label = 'cat Boost Regressor - Train')\n",
        "axes[1, 0].set_title('cat Boost Regressor - Train')\n",
        "axes[1, 0].set_xlabel('Actual')\n",
        "axes[1, 0].set_ylabel('Predicted')\n",
        "axes[1, 0].legend()\n",
        "\n",
        "# Regression line for Cat Boost Regressor\n",
        "m, b = np.polyfit(y_train, cat_train_pred, 1)\n",
        "axes[1, 0].plot(y_train, m * y_train + b, linestyle='--', color='black', linewidth=2)\n",
        "\n",
        "# Show the plot\n",
        "plt.show()\n"
      ]
    },
    {
      "cell_type": "code",
      "execution_count": null,
      "metadata": {
        "colab": {
          "base_uri": "https://localhost:8080/",
          "height": 1000
        },
        "id": "qhZpiNxn6NXc",
        "outputId": "8ce6eb4a-29f5-41a6-c5bc-0223985f7b04"
      },
      "outputs": [],
      "source": [
        "# Result Analysis of Testing Data\n",
        "\n",
        "# Create a figure with 3 rows and 2 columns\n",
        "fig, axes = plt.subplots(2, 2, figsize=(20, 15))\n",
        "\n",
        "# Scatter plot for Gradient Boosting Regressor\n",
        "axes[0, 0].scatter(y_test, gb_test_pred, marker = '*' , c = 'orange', label = 'Gradient Boosting Regressor - Test')\n",
        "axes[0, 0].set_title('Gradient Boosting Regressor - Test')\n",
        "axes[0, 0].set_xlabel('Actual')\n",
        "axes[0, 0].set_ylabel('Predicted')\n",
        "axes[0, 0].legend()\n",
        "\n",
        "# Regression line for Gradient Boosting Regressor\n",
        "m, b = np.polyfit(y_test, gb_test_pred, 1)\n",
        "axes[0, 0].plot(y_test, m * y_test + b, linestyle='--', color='black', linewidth=2)\n",
        "\n",
        "\n",
        "# Scatter plot for Cat Boost Regressor\n",
        "axes[1, 0].scatter(y_test, cat_test_pred, marker = '*' , c = 'orange', label = 'Cat Boost Regressor - Test')\n",
        "axes[1, 0].set_title('Cat Boost Regressor - Test')\n",
        "axes[1, 0].set_xlabel('Actual')\n",
        "axes[1, 0].set_ylabel('Predicted')\n",
        "axes[1, 0].legend()\n",
        "\n",
        "# Regression line for  Cat Boost Regressor\n",
        "m, b = np.polyfit(y_test, cat_test_pred, 1)\n",
        "axes[1, 0].plot(y_test, m * y_test + b, linestyle='--', color='black', linewidth=2)\n",
        "\n",
        "# Show the plot\n",
        "plt.show()\n"
      ]
    },
    {
      "cell_type": "code",
      "execution_count": null,
      "metadata": {
        "id": "703a62ok4yec"
      },
      "outputs": [],
      "source": []
    }
  ],
  "metadata": {
    "colab": {
      "provenance": []
    },
    "kernelspec": {
      "display_name": "Python 3",
      "name": "python3"
    },
    "language_info": {
      "name": "python"
    },
    "widgets": {
      "application/vnd.jupyter.widget-state+json": {
        "97645cc816ea4b5aa0ae38921e7be823": {
          "model_module": "catboost-widget",
          "model_module_version": "^1.0.0",
          "model_name": "CatboostWidgetModel",
          "state": {
            "_dom_classes": [],
            "_model_module": "catboost-widget",
            "_model_module_version": "^1.0.0",
            "_model_name": "CatboostWidgetModel",
            "_view_count": null,
            "_view_module": "catboost-widget",
            "_view_module_version": "^1.0.0",
            "_view_name": "CatboostWidgetView",
            "data": {
              "catboost_info": {
                "content": {
                  "data": {
                    "iterations": [
                      {
                        "iteration": 0,
                        "learn": [
                          685.7757396
                        ],
                        "passed_time": 0.04908717369,
                        "remaining_time": 46.33829197,
                        "test": [
                          665.5422304
                        ]
                      },
                      {
                        "iteration": 1,
                        "learn": [
                          669.078266
                        ],
                        "passed_time": 0.05103163028,
                        "remaining_time": 24.06141368,
                        "test": [
                          648.5601741
                        ]
                      },
                      {
                        "iteration": 2,
                        "learn": [
                          653.3549168
                        ],
                        "passed_time": 0.05231219228,
                        "remaining_time": 16.42602838,
                        "test": [
                          632.3846202
                        ]
                      },
                      {
                        "iteration": 3,
                        "learn": [
                          637.9392163
                        ],
                        "passed_time": 0.05352775758,
                        "remaining_time": 12.59240497,
                        "test": [
                          617.7271435
                        ]
                      },
                      {
                        "iteration": 4,
                        "learn": [
                          623.9848476
                        ],
                        "passed_time": 0.0548292217,
                        "remaining_time": 10.30789368,
                        "test": [
                          604.1830663
                        ]
                      },
                      {
                        "iteration": 5,
                        "learn": [
                          610.8278702
                        ],
                        "passed_time": 0.05606478735,
                        "remaining_time": 8.77413922,
                        "test": [
                          591.779501
                        ]
                      },
                      {
                        "iteration": 6,
                        "learn": [
                          597.5997937
                        ],
                        "passed_time": 0.05733653207,
                        "remaining_time": 7.683095298,
                        "test": [
                          578.0996332
                        ]
                      },
                      {
                        "iteration": 7,
                        "learn": [
                          585.4950996
                        ],
                        "passed_time": 0.05850746326,
                        "remaining_time": 6.852686635,
                        "test": [
                          565.8747167
                        ]
                      },
                      {
                        "iteration": 8,
                        "learn": [
                          572.9034391
                        ],
                        "passed_time": 0.05982073907,
                        "remaining_time": 6.221356863,
                        "test": [
                          553.18699
                        ]
                      },
                      {
                        "iteration": 9,
                        "learn": [
                          561.23812
                        ],
                        "passed_time": 0.06101787938,
                        "remaining_time": 5.705171722,
                        "test": [
                          540.7906521
                        ]
                      },
                      {
                        "iteration": 10,
                        "learn": [
                          550.6036072
                        ],
                        "passed_time": 0.06229735417,
                        "remaining_time": 5.289611709,
                        "test": [
                          530.8684286
                        ]
                      },
                      {
                        "iteration": 11,
                        "learn": [
                          538.8973628
                        ],
                        "passed_time": 0.06351035959,
                        "remaining_time": 4.937930458,
                        "test": [
                          519.4826868
                        ]
                      },
                      {
                        "iteration": 12,
                        "learn": [
                          528.3363846
                        ],
                        "passed_time": 0.0647278257,
                        "remaining_time": 4.640487196,
                        "test": [
                          508.4216598
                        ]
                      },
                      {
                        "iteration": 13,
                        "learn": [
                          518.2912768
                        ],
                        "passed_time": 0.06611067843,
                        "remaining_time": 4.396360116,
                        "test": [
                          497.9432786
                        ]
                      },
                      {
                        "iteration": 14,
                        "learn": [
                          508.7326918
                        ],
                        "passed_time": 0.06744011297,
                        "remaining_time": 4.181287004,
                        "test": [
                          488.1514819
                        ]
                      },
                      {
                        "iteration": 15,
                        "learn": [
                          499.629315
                        ],
                        "passed_time": 0.06880744785,
                        "remaining_time": 3.995132441,
                        "test": [
                          478.1607018
                        ]
                      },
                      {
                        "iteration": 16,
                        "learn": [
                          490.8319398
                        ],
                        "passed_time": 0.06961686188,
                        "remaining_time": 3.800261637,
                        "test": [
                          469.1402737
                        ]
                      },
                      {
                        "iteration": 17,
                        "learn": [
                          482.4879293
                        ],
                        "passed_time": 0.07096641767,
                        "remaining_time": 3.65477051,
                        "test": [
                          460.8826856
                        ]
                      },
                      {
                        "iteration": 18,
                        "learn": [
                          473.5163949
                        ],
                        "passed_time": 0.07218750814,
                        "remaining_time": 3.518191186,
                        "test": [
                          452.5577415
                        ]
                      },
                      {
                        "iteration": 19,
                        "learn": [
                          465.465791
                        ],
                        "passed_time": 0.07337423398,
                        "remaining_time": 3.393558322,
                        "test": [
                          445.6093643
                        ]
                      },
                      {
                        "iteration": 20,
                        "learn": [
                          457.9828119
                        ],
                        "passed_time": 0.07461321127,
                        "remaining_time": 3.282981296,
                        "test": [
                          437.8536333
                        ]
                      },
                      {
                        "iteration": 21,
                        "learn": [
                          450.5208339
                        ],
                        "passed_time": 0.07578823771,
                        "remaining_time": 3.179661064,
                        "test": [
                          430.4267167
                        ]
                      },
                      {
                        "iteration": 22,
                        "learn": [
                          442.7922869
                        ],
                        "passed_time": 0.07700749736,
                        "remaining_time": 3.086996199,
                        "test": [
                          423.4528393
                        ]
                      },
                      {
                        "iteration": 23,
                        "learn": [
                          436.2266425
                        ],
                        "passed_time": 0.07823960273,
                        "remaining_time": 3.002444755,
                        "test": [
                          416.9802645
                        ]
                      },
                      {
                        "iteration": 24,
                        "learn": [
                          430.1203454
                        ],
                        "passed_time": 0.07940548644,
                        "remaining_time": 2.922121901,
                        "test": [
                          410.8716551
                        ]
                      },
                      {
                        "iteration": 25,
                        "learn": [
                          423.9488158
                        ],
                        "passed_time": 0.08086321448,
                        "remaining_time": 2.85820362,
                        "test": [
                          405.1400633
                        ]
                      },
                      {
                        "iteration": 26,
                        "learn": [
                          418.6263819
                        ],
                        "passed_time": 0.08221012404,
                        "remaining_time": 2.795144217,
                        "test": [
                          400.4237397
                        ]
                      },
                      {
                        "iteration": 27,
                        "learn": [
                          413.1115144
                        ],
                        "passed_time": 0.08357436908,
                        "remaining_time": 2.737060587,
                        "test": [
                          394.7213712
                        ]
                      },
                      {
                        "iteration": 28,
                        "learn": [
                          407.7449819
                        ],
                        "passed_time": 0.08489499996,
                        "remaining_time": 2.681511033,
                        "test": [
                          389.661558
                        ]
                      },
                      {
                        "iteration": 29,
                        "learn": [
                          402.8056199
                        ],
                        "passed_time": 0.08622600123,
                        "remaining_time": 2.629893038,
                        "test": [
                          384.7828525
                        ]
                      },
                      {
                        "iteration": 30,
                        "learn": [
                          397.5868683
                        ],
                        "passed_time": 0.08756765651,
                        "remaining_time": 2.581833485,
                        "test": [
                          380.4706913
                        ]
                      },
                      {
                        "iteration": 31,
                        "learn": [
                          392.5127176
                        ],
                        "passed_time": 0.08887350132,
                        "remaining_time": 2.535672085,
                        "test": [
                          376.186467
                        ]
                      },
                      {
                        "iteration": 32,
                        "learn": [
                          387.0290419
                        ],
                        "passed_time": 0.09017689308,
                        "remaining_time": 2.492161409,
                        "test": [
                          371.2526352
                        ]
                      },
                      {
                        "iteration": 33,
                        "learn": [
                          382.3667263
                        ],
                        "passed_time": 0.0910375477,
                        "remaining_time": 2.439270763,
                        "test": [
                          366.8297641
                        ]
                      },
                      {
                        "iteration": 34,
                        "learn": [
                          377.9058969
                        ],
                        "passed_time": 0.09239282774,
                        "remaining_time": 2.402213521,
                        "test": [
                          362.5973793
                        ]
                      },
                      {
                        "iteration": 35,
                        "learn": [
                          373.480433
                        ],
                        "passed_time": 0.09372368084,
                        "remaining_time": 2.366522941,
                        "test": [
                          358.9700016
                        ]
                      },
                      {
                        "iteration": 36,
                        "learn": [
                          368.4448335
                        ],
                        "passed_time": 0.09494250278,
                        "remaining_time": 2.329940339,
                        "test": [
                          354.8314754
                        ]
                      },
                      {
                        "iteration": 37,
                        "learn": [
                          364.6813868
                        ],
                        "passed_time": 0.09608727802,
                        "remaining_time": 2.29345161,
                        "test": [
                          352.3901881
                        ]
                      },
                      {
                        "iteration": 38,
                        "learn": [
                          360.871759
                        ],
                        "passed_time": 0.09736870862,
                        "remaining_time": 2.26195,
                        "test": [
                          349.0479772
                        ]
                      },
                      {
                        "iteration": 39,
                        "learn": [
                          357.148349
                        ],
                        "passed_time": 0.09857098231,
                        "remaining_time": 2.230168475,
                        "test": [
                          345.6472664
                        ]
                      },
                      {
                        "iteration": 40,
                        "learn": [
                          353.1310257
                        ],
                        "passed_time": 0.09980443852,
                        "remaining_time": 2.200566157,
                        "test": [
                          342.6660421
                        ]
                      },
                      {
                        "iteration": 41,
                        "learn": [
                          349.3208502
                        ],
                        "passed_time": 0.1011063849,
                        "remaining_time": 2.173787275,
                        "test": [
                          340.5098056
                        ]
                      },
                      {
                        "iteration": 42,
                        "learn": [
                          345.9911554
                        ],
                        "passed_time": 0.1032180962,
                        "remaining_time": 2.165179599,
                        "test": [
                          338.268547
                        ]
                      },
                      {
                        "iteration": 43,
                        "learn": [
                          342.4209295
                        ],
                        "passed_time": 0.1054841529,
                        "remaining_time": 2.160027767,
                        "test": [
                          335.3667213
                        ]
                      },
                      {
                        "iteration": 44,
                        "learn": [
                          338.5876327
                        ],
                        "passed_time": 0.1067585606,
                        "remaining_time": 2.135171213,
                        "test": [
                          332.8152608
                        ]
                      },
                      {
                        "iteration": 45,
                        "learn": [
                          335.4792732
                        ],
                        "passed_time": 0.1089111017,
                        "remaining_time": 2.128501748,
                        "test": [
                          330.3448915
                        ]
                      },
                      {
                        "iteration": 46,
                        "learn": [
                          331.714651
                        ],
                        "passed_time": 0.110939035,
                        "remaining_time": 2.119643689,
                        "test": [
                          326.7308945
                        ]
                      },
                      {
                        "iteration": 47,
                        "learn": [
                          329.0379578
                        ],
                        "passed_time": 0.1125744513,
                        "remaining_time": 2.103735058,
                        "test": [
                          324.4559735
                        ]
                      },
                      {
                        "iteration": 48,
                        "learn": [
                          326.1185367
                        ],
                        "passed_time": 0.1144843514,
                        "remaining_time": 2.09342814,
                        "test": [
                          322.07403
                        ]
                      },
                      {
                        "iteration": 49,
                        "learn": [
                          323.5086518
                        ],
                        "passed_time": 0.1158394224,
                        "remaining_time": 2.073525661,
                        "test": [
                          320.7425059
                        ]
                      },
                      {
                        "iteration": 50,
                        "learn": [
                          320.9188988
                        ],
                        "passed_time": 0.1180030892,
                        "remaining_time": 2.068524741,
                        "test": [
                          319.0039889
                        ]
                      },
                      {
                        "iteration": 51,
                        "learn": [
                          317.9464418
                        ],
                        "passed_time": 0.1200858493,
                        "remaining_time": 2.062243527,
                        "test": [
                          316.6984486
                        ]
                      },
                      {
                        "iteration": 52,
                        "learn": [
                          315.5497983
                        ],
                        "passed_time": 0.121673758,
                        "remaining_time": 2.047792304,
                        "test": [
                          314.6164684
                        ]
                      },
                      {
                        "iteration": 53,
                        "learn": [
                          312.7645729
                        ],
                        "passed_time": 0.1230890323,
                        "remaining_time": 2.030969033,
                        "test": [
                          312.5629896
                        ]
                      },
                      {
                        "iteration": 54,
                        "learn": [
                          310.1436911
                        ],
                        "passed_time": 0.1245908999,
                        "remaining_time": 2.016107289,
                        "test": [
                          311.4472039
                        ]
                      },
                      {
                        "iteration": 55,
                        "learn": [
                          307.7989494
                        ],
                        "passed_time": 0.1262566915,
                        "remaining_time": 2.004324977,
                        "test": [
                          309.7678985
                        ]
                      },
                      {
                        "iteration": 56,
                        "learn": [
                          305.9518681
                        ],
                        "passed_time": 0.1281566453,
                        "remaining_time": 1.996545632,
                        "test": [
                          308.7852527
                        ]
                      },
                      {
                        "iteration": 57,
                        "learn": [
                          303.7605789
                        ],
                        "passed_time": 0.1294327171,
                        "remaining_time": 1.979427932,
                        "test": [
                          307.0934778
                        ]
                      },
                      {
                        "iteration": 58,
                        "learn": [
                          301.5466542
                        ],
                        "passed_time": 0.1310593848,
                        "remaining_time": 1.968112117,
                        "test": [
                          305.5353263
                        ]
                      },
                      {
                        "iteration": 59,
                        "learn": [
                          299.5744688
                        ],
                        "passed_time": 0.1330404309,
                        "remaining_time": 1.962346355,
                        "test": [
                          304.4486603
                        ]
                      },
                      {
                        "iteration": 60,
                        "learn": [
                          297.634038
                        ],
                        "passed_time": 0.1349133679,
                        "remaining_time": 1.955137987,
                        "test": [
                          303.5382784
                        ]
                      },
                      {
                        "iteration": 61,
                        "learn": [
                          296.0217473
                        ],
                        "passed_time": 0.1367572237,
                        "remaining_time": 1.947687556,
                        "test": [
                          302.7019875
                        ]
                      },
                      {
                        "iteration": 62,
                        "learn": [
                          294.4166399
                        ],
                        "passed_time": 0.1384815587,
                        "remaining_time": 1.938741821,
                        "test": [
                          301.6091888
                        ]
                      },
                      {
                        "iteration": 63,
                        "learn": [
                          292.6695231
                        ],
                        "passed_time": 0.1398233376,
                        "remaining_time": 1.924755631,
                        "test": [
                          300.627816
                        ]
                      },
                      {
                        "iteration": 64,
                        "learn": [
                          290.8598196
                        ],
                        "passed_time": 0.1414999177,
                        "remaining_time": 1.915691193,
                        "test": [
                          299.6890813
                        ]
                      },
                      {
                        "iteration": 65,
                        "learn": [
                          288.9157022
                        ],
                        "passed_time": 0.1434316345,
                        "remaining_time": 1.910248586,
                        "test": [
                          298.6303285
                        ]
                      },
                      {
                        "iteration": 66,
                        "learn": [
                          287.0751852
                        ],
                        "passed_time": 0.1450741618,
                        "remaining_time": 1.901121105,
                        "test": [
                          297.2808599
                        ]
                      },
                      {
                        "iteration": 67,
                        "learn": [
                          285.2789321
                        ],
                        "passed_time": 0.1463676068,
                        "remaining_time": 1.887711635,
                        "test": [
                          296.2845657
                        ]
                      },
                      {
                        "iteration": 68,
                        "learn": [
                          283.6430674
                        ],
                        "passed_time": 0.1478703703,
                        "remaining_time": 1.877310788,
                        "test": [
                          295.060419
                        ]
                      },
                      {
                        "iteration": 69,
                        "learn": [
                          281.8368327
                        ],
                        "passed_time": 0.1492489287,
                        "remaining_time": 1.865611608,
                        "test": [
                          294.3644433
                        ]
                      },
                      {
                        "iteration": 70,
                        "learn": [
                          280.3229154
                        ],
                        "passed_time": 0.150718977,
                        "remaining_time": 1.855329379,
                        "test": [
                          293.40579
                        ]
                      },
                      {
                        "iteration": 71,
                        "learn": [
                          278.9239352
                        ],
                        "passed_time": 0.1525333715,
                        "remaining_time": 1.84946713,
                        "test": [
                          292.6626481
                        ]
                      },
                      {
                        "iteration": 72,
                        "learn": [
                          277.5158728
                        ],
                        "passed_time": 0.1543665983,
                        "remaining_time": 1.843940736,
                        "test": [
                          292.0925183
                        ]
                      },
                      {
                        "iteration": 73,
                        "learn": [
                          276.1260742
                        ],
                        "passed_time": 0.1557288875,
                        "remaining_time": 1.832971095,
                        "test": [
                          291.5698025
                        ]
                      },
                      {
                        "iteration": 74,
                        "learn": [
                          274.9693019
                        ],
                        "passed_time": 0.1572225333,
                        "remaining_time": 1.823781386,
                        "test": [
                          290.6909048
                        ]
                      },
                      {
                        "iteration": 75,
                        "learn": [
                          273.6219679
                        ],
                        "passed_time": 0.1589746296,
                        "remaining_time": 1.817749383,
                        "test": [
                          289.864664
                        ]
                      },
                      {
                        "iteration": 76,
                        "learn": [
                          271.9853753
                        ],
                        "passed_time": 0.1608248796,
                        "remaining_time": 1.812935006,
                        "test": [
                          289.4925759
                        ]
                      },
                      {
                        "iteration": 77,
                        "learn": [
                          270.2072264
                        ],
                        "passed_time": 0.1621120226,
                        "remaining_time": 1.801937482,
                        "test": [
                          288.4102694
                        ]
                      },
                      {
                        "iteration": 78,
                        "learn": [
                          268.8975174
                        ],
                        "passed_time": 0.1633993884,
                        "remaining_time": 1.791188232,
                        "test": [
                          287.9689442
                        ]
                      },
                      {
                        "iteration": 79,
                        "learn": [
                          267.8080243
                        ],
                        "passed_time": 0.1645475634,
                        "remaining_time": 1.77917053,
                        "test": [
                          287.5976433
                        ]
                      },
                      {
                        "iteration": 80,
                        "learn": [
                          266.9342281
                        ],
                        "passed_time": 0.165823937,
                        "remaining_time": 1.768788662,
                        "test": [
                          287.2665124
                        ]
                      },
                      {
                        "iteration": 81,
                        "learn": [
                          265.5995354
                        ],
                        "passed_time": 0.1670446766,
                        "remaining_time": 1.758043365,
                        "test": [
                          286.8113441
                        ]
                      },
                      {
                        "iteration": 82,
                        "learn": [
                          264.6789375
                        ],
                        "passed_time": 0.1682924239,
                        "remaining_time": 1.747808065,
                        "test": [
                          286.3619032
                        ]
                      },
                      {
                        "iteration": 83,
                        "learn": [
                          263.6134424
                        ],
                        "passed_time": 0.1695613492,
                        "remaining_time": 1.73800383,
                        "test": [
                          285.9163765
                        ]
                      },
                      {
                        "iteration": 84,
                        "learn": [
                          262.463148
                        ],
                        "passed_time": 0.1707123369,
                        "remaining_time": 1.727207173,
                        "test": [
                          285.44592
                        ]
                      },
                      {
                        "iteration": 85,
                        "learn": [
                          261.4148554
                        ],
                        "passed_time": 0.171875073,
                        "remaining_time": 1.716752183,
                        "test": [
                          284.9858136
                        ]
                      },
                      {
                        "iteration": 86,
                        "learn": [
                          260.2417407
                        ],
                        "passed_time": 0.1731576908,
                        "remaining_time": 1.707693089,
                        "test": [
                          284.3782841
                        ]
                      },
                      {
                        "iteration": 87,
                        "learn": [
                          259.2352473
                        ],
                        "passed_time": 0.1743387483,
                        "remaining_time": 1.697821674,
                        "test": [
                          283.8206214
                        ]
                      },
                      {
                        "iteration": 88,
                        "learn": [
                          258.1432604
                        ],
                        "passed_time": 0.1756286971,
                        "remaining_time": 1.689192862,
                        "test": [
                          283.5792568
                        ]
                      },
                      {
                        "iteration": 89,
                        "learn": [
                          257.1392408
                        ],
                        "passed_time": 0.1768164288,
                        "remaining_time": 1.679756074,
                        "test": [
                          282.9433622
                        ]
                      },
                      {
                        "iteration": 90,
                        "learn": [
                          256.3370812
                        ],
                        "passed_time": 0.1776169865,
                        "remaining_time": 1.666867104,
                        "test": [
                          282.7659618
                        ]
                      },
                      {
                        "iteration": 91,
                        "learn": [
                          255.3868843
                        ],
                        "passed_time": 0.1788853141,
                        "remaining_time": 1.658577967,
                        "test": [
                          282.4120353
                        ]
                      },
                      {
                        "iteration": 92,
                        "learn": [
                          254.4452573
                        ],
                        "passed_time": 0.1802068959,
                        "remaining_time": 1.650927691,
                        "test": [
                          281.8031013
                        ]
                      },
                      {
                        "iteration": 93,
                        "learn": [
                          253.3344941
                        ],
                        "passed_time": 0.1814303103,
                        "remaining_time": 1.642523341,
                        "test": [
                          281.1669149
                        ]
                      },
                      {
                        "iteration": 94,
                        "learn": [
                          252.2795991
                        ],
                        "passed_time": 0.1826840928,
                        "remaining_time": 1.634541883,
                        "test": [
                          280.5171775
                        ]
                      },
                      {
                        "iteration": 95,
                        "learn": [
                          251.3977831
                        ],
                        "passed_time": 0.1839906962,
                        "remaining_time": 1.627167719,
                        "test": [
                          279.9558858
                        ]
                      },
                      {
                        "iteration": 96,
                        "learn": [
                          250.4157669
                        ],
                        "passed_time": 0.1851753653,
                        "remaining_time": 1.618852678,
                        "test": [
                          279.5088436
                        ]
                      },
                      {
                        "iteration": 97,
                        "learn": [
                          249.2222655
                        ],
                        "passed_time": 0.1863573009,
                        "remaining_time": 1.61065953,
                        "test": [
                          279.037483
                        ]
                      },
                      {
                        "iteration": 98,
                        "learn": [
                          248.5863807
                        ],
                        "passed_time": 0.1875380107,
                        "remaining_time": 1.602597546,
                        "test": [
                          278.8498022
                        ]
                      },
                      {
                        "iteration": 99,
                        "learn": [
                          247.9726801
                        ],
                        "passed_time": 0.1888330724,
                        "remaining_time": 1.595639462,
                        "test": [
                          278.541404
                        ]
                      },
                      {
                        "iteration": 100,
                        "learn": [
                          246.8607305
                        ],
                        "passed_time": 0.1899707299,
                        "remaining_time": 1.587478178,
                        "test": [
                          278.1200659
                        ]
                      },
                      {
                        "iteration": 101,
                        "learn": [
                          245.7667559
                        ],
                        "passed_time": 0.1912037061,
                        "remaining_time": 1.580242394,
                        "test": [
                          277.9990107
                        ]
                      },
                      {
                        "iteration": 102,
                        "learn": [
                          245.1615782
                        ],
                        "passed_time": 0.1925034494,
                        "remaining_time": 1.573668975,
                        "test": [
                          277.8458259
                        ]
                      },
                      {
                        "iteration": 103,
                        "learn": [
                          244.421842
                        ],
                        "passed_time": 0.193645718,
                        "remaining_time": 1.565923546,
                        "test": [
                          277.6213962
                        ]
                      },
                      {
                        "iteration": 104,
                        "learn": [
                          243.5520038
                        ],
                        "passed_time": 0.1947757262,
                        "remaining_time": 1.55820581,
                        "test": [
                          277.3147477
                        ]
                      },
                      {
                        "iteration": 105,
                        "learn": [
                          242.7114092
                        ],
                        "passed_time": 0.1960451947,
                        "remaining_time": 1.551716211,
                        "test": [
                          276.7246775
                        ]
                      },
                      {
                        "iteration": 106,
                        "learn": [
                          241.9759117
                        ],
                        "passed_time": 0.197758847,
                        "remaining_time": 1.548802933,
                        "test": [
                          276.2437585
                        ]
                      },
                      {
                        "iteration": 107,
                        "learn": [
                          241.4273435
                        ],
                        "passed_time": 0.1986085663,
                        "remaining_time": 1.539216389,
                        "test": [
                          276.0128786
                        ]
                      },
                      {
                        "iteration": 108,
                        "learn": [
                          240.7387852
                        ],
                        "passed_time": 0.199852692,
                        "remaining_time": 1.532815142,
                        "test": [
                          276.0029096
                        ]
                      },
                      {
                        "iteration": 109,
                        "learn": [
                          240.1922715
                        ],
                        "passed_time": 0.2011346966,
                        "remaining_time": 1.526795197,
                        "test": [
                          275.7607199
                        ]
                      },
                      {
                        "iteration": 110,
                        "learn": [
                          239.6222957
                        ],
                        "passed_time": 0.2024115902,
                        "remaining_time": 1.520822218,
                        "test": [
                          275.3963049
                        ]
                      },
                      {
                        "iteration": 111,
                        "learn": [
                          238.6488596
                        ],
                        "passed_time": 0.2036735168,
                        "remaining_time": 1.514821781,
                        "test": [
                          274.9808821
                        ]
                      },
                      {
                        "iteration": 112,
                        "learn": [
                          237.8674763
                        ],
                        "passed_time": 0.204880452,
                        "remaining_time": 1.508500319,
                        "test": [
                          274.6287216
                        ]
                      },
                      {
                        "iteration": 113,
                        "learn": [
                          237.0845611
                        ],
                        "passed_time": 0.206005471,
                        "remaining_time": 1.50167146,
                        "test": [
                          273.8521135
                        ]
                      },
                      {
                        "iteration": 114,
                        "learn": [
                          236.4068251
                        ],
                        "passed_time": 0.2072278378,
                        "remaining_time": 1.495644394,
                        "test": [
                          273.5145371
                        ]
                      },
                      {
                        "iteration": 115,
                        "learn": [
                          235.6556627
                        ],
                        "passed_time": 0.2084340935,
                        "remaining_time": 1.489585031,
                        "test": [
                          272.9427028
                        ]
                      },
                      {
                        "iteration": 116,
                        "learn": [
                          234.9925068
                        ],
                        "passed_time": 0.2096458781,
                        "remaining_time": 1.483647753,
                        "test": [
                          272.4711884
                        ]
                      },
                      {
                        "iteration": 117,
                        "learn": [
                          234.2409645
                        ],
                        "passed_time": 0.2109297195,
                        "remaining_time": 1.478295577,
                        "test": [
                          272.2312293
                        ]
                      },
                      {
                        "iteration": 118,
                        "learn": [
                          233.5442966
                        ],
                        "passed_time": 0.2122940127,
                        "remaining_time": 1.473570206,
                        "test": [
                          271.6181379
                        ]
                      },
                      {
                        "iteration": 119,
                        "learn": [
                          233.0344933
                        ],
                        "passed_time": 0.2134425146,
                        "remaining_time": 1.467417288,
                        "test": [
                          271.2991092
                        ]
                      },
                      {
                        "iteration": 120,
                        "learn": [
                          232.4098109
                        ],
                        "passed_time": 0.2146426398,
                        "remaining_time": 1.461698638,
                        "test": [
                          271.0389002
                        ]
                      },
                      {
                        "iteration": 121,
                        "learn": [
                          231.6655805
                        ],
                        "passed_time": 0.2158345813,
                        "remaining_time": 1.455998856,
                        "test": [
                          270.3781433
                        ]
                      },
                      {
                        "iteration": 122,
                        "learn": [
                          231.2964527
                        ],
                        "passed_time": 0.2171848202,
                        "remaining_time": 1.451430262,
                        "test": [
                          270.2031363
                        ]
                      },
                      {
                        "iteration": 123,
                        "learn": [
                          230.9593028
                        ],
                        "passed_time": 0.21844527,
                        "remaining_time": 1.446319086,
                        "test": [
                          270.1156404
                        ]
                      },
                      {
                        "iteration": 124,
                        "learn": [
                          230.3430302
                        ],
                        "passed_time": 0.2195991462,
                        "remaining_time": 1.440570399,
                        "test": [
                          269.9189516
                        ]
                      },
                      {
                        "iteration": 125,
                        "learn": [
                          229.720175
                        ],
                        "passed_time": 0.2207461449,
                        "remaining_time": 1.434849942,
                        "test": [
                          269.7040847
                        ]
                      },
                      {
                        "iteration": 126,
                        "learn": [
                          229.0660657
                        ],
                        "passed_time": 0.2218830801,
                        "remaining_time": 1.429136689,
                        "test": [
                          269.3860489
                        ]
                      },
                      {
                        "iteration": 127,
                        "learn": [
                          228.3203429
                        ],
                        "passed_time": 0.2232522585,
                        "remaining_time": 1.424977306,
                        "test": [
                          269.3094455
                        ]
                      },
                      {
                        "iteration": 128,
                        "learn": [
                          227.8967086
                        ],
                        "passed_time": 0.2245916158,
                        "remaining_time": 1.420672546,
                        "test": [
                          269.2088942
                        ]
                      },
                      {
                        "iteration": 129,
                        "learn": [
                          227.2445881
                        ],
                        "passed_time": 0.2258300399,
                        "remaining_time": 1.415780635,
                        "test": [
                          268.564641
                        ]
                      },
                      {
                        "iteration": 130,
                        "learn": [
                          226.8519605
                        ],
                        "passed_time": 0.2274163723,
                        "remaining_time": 1.413106314,
                        "test": [
                          268.4703636
                        ]
                      },
                      {
                        "iteration": 131,
                        "learn": [
                          226.3178551
                        ],
                        "passed_time": 0.2286708016,
                        "remaining_time": 1.408404255,
                        "test": [
                          268.2190008
                        ]
                      },
                      {
                        "iteration": 132,
                        "learn": [
                          225.8547555
                        ],
                        "passed_time": 0.2298666547,
                        "remaining_time": 1.403396418,
                        "test": [
                          268.0790128
                        ]
                      },
                      {
                        "iteration": 133,
                        "learn": [
                          225.3882955
                        ],
                        "passed_time": 0.2311037184,
                        "remaining_time": 1.398694893,
                        "test": [
                          268.0613944
                        ]
                      },
                      {
                        "iteration": 134,
                        "learn": [
                          224.9201275
                        ],
                        "passed_time": 0.2322507745,
                        "remaining_time": 1.393504647,
                        "test": [
                          268.0165002
                        ]
                      },
                      {
                        "iteration": 135,
                        "learn": [
                          224.247447
                        ],
                        "passed_time": 0.2333860761,
                        "remaining_time": 1.388303938,
                        "test": [
                          267.7671189
                        ]
                      },
                      {
                        "iteration": 136,
                        "learn": [
                          223.5512299
                        ],
                        "passed_time": 0.2346211059,
                        "remaining_time": 1.383750756,
                        "test": [
                          267.1195335
                        ]
                      },
                      {
                        "iteration": 137,
                        "learn": [
                          223.09728
                        ],
                        "passed_time": 0.2357832852,
                        "remaining_time": 1.378819646,
                        "test": [
                          266.8874328
                        ]
                      },
                      {
                        "iteration": 138,
                        "learn": [
                          222.4295081
                        ],
                        "passed_time": 0.2370301044,
                        "remaining_time": 1.374433555,
                        "test": [
                          266.6138948
                        ]
                      },
                      {
                        "iteration": 139,
                        "learn": [
                          222.0215921
                        ],
                        "passed_time": 0.2382455197,
                        "remaining_time": 1.369911738,
                        "test": [
                          266.6124856
                        ]
                      },
                      {
                        "iteration": 140,
                        "learn": [
                          221.6011012
                        ],
                        "passed_time": 0.240733461,
                        "remaining_time": 1.372692927,
                        "test": [
                          266.5340198
                        ]
                      },
                      {
                        "iteration": 141,
                        "learn": [
                          220.9959418
                        ],
                        "passed_time": 0.2426661464,
                        "remaining_time": 1.372259969,
                        "test": [
                          266.2995536
                        ]
                      },
                      {
                        "iteration": 142,
                        "learn": [
                          220.3550763
                        ],
                        "passed_time": 0.2442254297,
                        "remaining_time": 1.369711851,
                        "test": [
                          266.0886713
                        ]
                      },
                      {
                        "iteration": 143,
                        "learn": [
                          219.8951194
                        ],
                        "passed_time": 0.2455654274,
                        "remaining_time": 1.36595769,
                        "test": [
                          266.0390256
                        ]
                      },
                      {
                        "iteration": 144,
                        "learn": [
                          219.6241845
                        ],
                        "passed_time": 0.2467364036,
                        "remaining_time": 1.361304295,
                        "test": [
                          265.8995087
                        ]
                      },
                      {
                        "iteration": 145,
                        "learn": [
                          219.1013388
                        ],
                        "passed_time": 0.2479350402,
                        "remaining_time": 1.35684998,
                        "test": [
                          265.4201732
                        ]
                      },
                      {
                        "iteration": 146,
                        "learn": [
                          218.7152091
                        ],
                        "passed_time": 0.2491135642,
                        "remaining_time": 1.352330777,
                        "test": [
                          265.3281321
                        ]
                      },
                      {
                        "iteration": 147,
                        "learn": [
                          218.2837455
                        ],
                        "passed_time": 0.2503028026,
                        "remaining_time": 1.347914417,
                        "test": [
                          264.8833915
                        ]
                      },
                      {
                        "iteration": 148,
                        "learn": [
                          217.8492606
                        ],
                        "passed_time": 0.2515775004,
                        "remaining_time": 1.343997921,
                        "test": [
                          264.8091044
                        ]
                      },
                      {
                        "iteration": 149,
                        "learn": [
                          217.4481415
                        ],
                        "passed_time": 0.2527427291,
                        "remaining_time": 1.339536464,
                        "test": [
                          264.5035442
                        ]
                      },
                      {
                        "iteration": 150,
                        "learn": [
                          216.9429667
                        ],
                        "passed_time": 0.2539012127,
                        "remaining_time": 1.335083198,
                        "test": [
                          264.170133
                        ]
                      },
                      {
                        "iteration": 151,
                        "learn": [
                          216.4351125
                        ],
                        "passed_time": 0.2552082793,
                        "remaining_time": 1.331448457,
                        "test": [
                          264.0487371
                        ]
                      },
                      {
                        "iteration": 152,
                        "learn": [
                          216.0678733
                        ],
                        "passed_time": 0.2564777787,
                        "remaining_time": 1.327649678,
                        "test": [
                          264.0931578
                        ]
                      },
                      {
                        "iteration": 153,
                        "learn": [
                          215.8276637
                        ],
                        "passed_time": 0.2576585235,
                        "remaining_time": 1.323427871,
                        "test": [
                          264.0414084
                        ]
                      },
                      {
                        "iteration": 154,
                        "learn": [
                          215.2722605
                        ],
                        "passed_time": 0.258902821,
                        "remaining_time": 1.319569216,
                        "test": [
                          264.1628027
                        ]
                      },
                      {
                        "iteration": 155,
                        "learn": [
                          214.787712
                        ],
                        "passed_time": 0.2600802032,
                        "remaining_time": 1.315405643,
                        "test": [
                          264.0182755
                        ]
                      },
                      {
                        "iteration": 156,
                        "learn": [
                          214.2687456
                        ],
                        "passed_time": 0.2612610752,
                        "remaining_time": 1.311297626,
                        "test": [
                          263.8089334
                        ]
                      },
                      {
                        "iteration": 157,
                        "learn": [
                          213.7095757
                        ],
                        "passed_time": 0.262486875,
                        "remaining_time": 1.307450447,
                        "test": [
                          263.3973992
                        ]
                      },
                      {
                        "iteration": 158,
                        "learn": [
                          213.4253889
                        ],
                        "passed_time": 0.2637317924,
                        "remaining_time": 1.303730748,
                        "test": [
                          263.4390404
                        ]
                      },
                      {
                        "iteration": 159,
                        "learn": [
                          213.0069979
                        ],
                        "passed_time": 0.2649281733,
                        "remaining_time": 1.29980385,
                        "test": [
                          263.3108547
                        ]
                      },
                      {
                        "iteration": 160,
                        "learn": [
                          212.4001494
                        ],
                        "passed_time": 0.2661755142,
                        "remaining_time": 1.296159026,
                        "test": [
                          262.796289
                        ]
                      },
                      {
                        "iteration": 161,
                        "learn": [
                          211.8820866
                        ],
                        "passed_time": 0.2673354278,
                        "remaining_time": 1.292121234,
                        "test": [
                          262.4165677
                        ]
                      },
                      {
                        "iteration": 162,
                        "learn": [
                          211.3814219
                        ],
                        "passed_time": 0.2684701763,
                        "remaining_time": 1.287998024,
                        "test": [
                          262.3123326
                        ]
                      },
                      {
                        "iteration": 163,
                        "learn": [
                          210.9748474
                        ],
                        "passed_time": 0.2697349972,
                        "remaining_time": 1.284530688,
                        "test": [
                          262.2156098
                        ]
                      },
                      {
                        "iteration": 164,
                        "learn": [
                          210.6384598
                        ],
                        "passed_time": 0.2709777421,
                        "remaining_time": 1.28098569,
                        "test": [
                          262.0695392
                        ]
                      },
                      {
                        "iteration": 165,
                        "learn": [
                          210.3722372
                        ],
                        "passed_time": 0.2721375943,
                        "remaining_time": 1.277079433,
                        "test": [
                          261.9571341
                        ]
                      },
                      {
                        "iteration": 166,
                        "learn": [
                          209.9624227
                        ],
                        "passed_time": 0.2732532455,
                        "remaining_time": 1.27300015,
                        "test": [
                          261.9355761
                        ]
                      },
                      {
                        "iteration": 167,
                        "learn": [
                          209.457737
                        ],
                        "passed_time": 0.2744782594,
                        "remaining_time": 1.26946195,
                        "test": [
                          261.8261231
                        ]
                      },
                      {
                        "iteration": 168,
                        "learn": [
                          209.0052285
                        ],
                        "passed_time": 0.2757760424,
                        "remaining_time": 1.26628526,
                        "test": [
                          261.7713832
                        ]
                      },
                      {
                        "iteration": 169,
                        "learn": [
                          208.577106
                        ],
                        "passed_time": 0.2769975078,
                        "remaining_time": 1.262782756,
                        "test": [
                          261.6084986
                        ]
                      },
                      {
                        "iteration": 170,
                        "learn": [
                          208.0890788
                        ],
                        "passed_time": 0.2781513713,
                        "remaining_time": 1.259000944,
                        "test": [
                          261.4539621
                        ]
                      },
                      {
                        "iteration": 171,
                        "learn": [
                          207.5766987
                        ],
                        "passed_time": 0.2793602905,
                        "remaining_time": 1.25549712,
                        "test": [
                          261.5087356
                        ]
                      },
                      {
                        "iteration": 172,
                        "learn": [
                          207.1248328
                        ],
                        "passed_time": 0.2805301213,
                        "remaining_time": 1.251845397,
                        "test": [
                          261.3339273
                        ]
                      },
                      {
                        "iteration": 173,
                        "learn": [
                          206.6866547
                        ],
                        "passed_time": 0.2817555502,
                        "remaining_time": 1.248468559,
                        "test": [
                          260.8586967
                        ]
                      },
                      {
                        "iteration": 174,
                        "learn": [
                          206.0798021
                        ],
                        "passed_time": 0.2830128502,
                        "remaining_time": 1.245256541,
                        "test": [
                          260.2796379
                        ]
                      },
                      {
                        "iteration": 175,
                        "learn": [
                          205.8107402
                        ],
                        "passed_time": 0.2842832927,
                        "remaining_time": 1.24212416,
                        "test": [
                          260.1512905
                        ]
                      },
                      {
                        "iteration": 176,
                        "learn": [
                          205.4498886
                        ],
                        "passed_time": 0.2855300169,
                        "remaining_time": 1.238909904,
                        "test": [
                          260.0176937
                        ]
                      },
                      {
                        "iteration": 177,
                        "learn": [
                          204.87691
                        ],
                        "passed_time": 0.2867130843,
                        "remaining_time": 1.235443459,
                        "test": [
                          259.7065116
                        ]
                      },
                      {
                        "iteration": 178,
                        "learn": [
                          204.3608414
                        ],
                        "passed_time": 0.287901555,
                        "remaining_time": 1.232025649,
                        "test": [
                          259.3802913
                        ]
                      },
                      {
                        "iteration": 179,
                        "learn": [
                          204.0477372
                        ],
                        "passed_time": 0.2890713595,
                        "remaining_time": 1.228553278,
                        "test": [
                          259.2557245
                        ]
                      },
                      {
                        "iteration": 180,
                        "learn": [
                          203.795044
                        ],
                        "passed_time": 0.2903745835,
                        "remaining_time": 1.225669513,
                        "test": [
                          259.1362158
                        ]
                      },
                      {
                        "iteration": 181,
                        "learn": [
                          203.4909424
                        ],
                        "passed_time": 0.2915646801,
                        "remaining_time": 1.222328851,
                        "test": [
                          258.9116636
                        ]
                      },
                      {
                        "iteration": 182,
                        "learn": [
                          202.8828866
                        ],
                        "passed_time": 0.2929185538,
                        "remaining_time": 1.21969365,
                        "test": [
                          258.5013423
                        ]
                      },
                      {
                        "iteration": 183,
                        "learn": [
                          202.3737268
                        ],
                        "passed_time": 0.29409012,
                        "remaining_time": 1.216318377,
                        "test": [
                          258.276936
                        ]
                      },
                      {
                        "iteration": 184,
                        "learn": [
                          201.9562257
                        ],
                        "passed_time": 0.2952985379,
                        "remaining_time": 1.213118318,
                        "test": [
                          257.9638505
                        ]
                      },
                      {
                        "iteration": 185,
                        "learn": [
                          201.5780049
                        ],
                        "passed_time": 0.296500278,
                        "remaining_time": 1.209912425,
                        "test": [
                          257.9116808
                        ]
                      },
                      {
                        "iteration": 186,
                        "learn": [
                          201.0948568
                        ],
                        "passed_time": 0.2977206049,
                        "remaining_time": 1.206803307,
                        "test": [
                          257.9554192
                        ]
                      },
                      {
                        "iteration": 187,
                        "learn": [
                          200.7252119
                        ],
                        "passed_time": 0.2989243899,
                        "remaining_time": 1.203647676,
                        "test": [
                          257.8471675
                        ]
                      },
                      {
                        "iteration": 188,
                        "learn": [
                          199.9500545
                        ],
                        "passed_time": 0.3001878409,
                        "remaining_time": 1.200751364,
                        "test": [
                          257.0695707
                        ]
                      },
                      {
                        "iteration": 189,
                        "learn": [
                          199.5805124
                        ],
                        "passed_time": 0.3014295599,
                        "remaining_time": 1.197785883,
                        "test": [
                          256.9647687
                        ]
                      },
                      {
                        "iteration": 190,
                        "learn": [
                          198.9451546
                        ],
                        "passed_time": 0.3025777999,
                        "remaining_time": 1.19446943,
                        "test": [
                          256.4563244
                        ]
                      },
                      {
                        "iteration": 191,
                        "learn": [
                          198.4896209
                        ],
                        "passed_time": 0.3037844311,
                        "remaining_time": 1.191404566,
                        "test": [
                          256.2212946
                        ]
                      },
                      {
                        "iteration": 192,
                        "learn": [
                          197.9257049
                        ],
                        "passed_time": 0.3050069515,
                        "remaining_time": 1.188420868,
                        "test": [
                          256.0882055
                        ]
                      },
                      {
                        "iteration": 193,
                        "learn": [
                          197.6315232
                        ],
                        "passed_time": 0.3062172153,
                        "remaining_time": 1.18540788,
                        "test": [
                          256.0257885
                        ]
                      },
                      {
                        "iteration": 194,
                        "learn": [
                          197.3133153
                        ],
                        "passed_time": 0.3073515211,
                        "remaining_time": 1.182121235,
                        "test": [
                          255.962995
                        ]
                      },
                      {
                        "iteration": 195,
                        "learn": [
                          196.8351748
                        ],
                        "passed_time": 0.308568244,
                        "remaining_time": 1.179171504,
                        "test": [
                          255.732956
                        ]
                      },
                      {
                        "iteration": 196,
                        "learn": [
                          196.4128359
                        ],
                        "passed_time": 0.3096932889,
                        "remaining_time": 1.175891269,
                        "test": [
                          255.4438242
                        ]
                      },
                      {
                        "iteration": 197,
                        "learn": [
                          195.9281803
                        ],
                        "passed_time": 0.3108707893,
                        "remaining_time": 1.172830705,
                        "test": [
                          255.0604563
                        ]
                      },
                      {
                        "iteration": 198,
                        "learn": [
                          195.6041366
                        ],
                        "passed_time": 0.312069195,
                        "remaining_time": 1.169867435,
                        "test": [
                          254.8957334
                        ]
                      },
                      {
                        "iteration": 199,
                        "learn": [
                          194.9840246
                        ],
                        "passed_time": 0.3132851685,
                        "remaining_time": 1.166987253,
                        "test": [
                          254.6915501
                        ]
                      },
                      {
                        "iteration": 200,
                        "learn": [
                          194.5979186
                        ],
                        "passed_time": 0.314607287,
                        "remaining_time": 1.164516525,
                        "test": [
                          254.6567509
                        ]
                      },
                      {
                        "iteration": 201,
                        "learn": [
                          194.202074
                        ],
                        "passed_time": 0.3164742357,
                        "remaining_time": 1.164061174,
                        "test": [
                          254.5166717
                        ]
                      },
                      {
                        "iteration": 202,
                        "learn": [
                          193.8106409
                        ],
                        "passed_time": 0.3177210889,
                        "remaining_time": 1.16132536,
                        "test": [
                          254.1010089
                        ]
                      },
                      {
                        "iteration": 203,
                        "learn": [
                          193.3912959
                        ],
                        "passed_time": 0.3189401427,
                        "remaining_time": 1.158503165,
                        "test": [
                          254.1488924
                        ]
                      },
                      {
                        "iteration": 204,
                        "learn": [
                          192.9496104
                        ],
                        "passed_time": 0.3201376834,
                        "remaining_time": 1.155618955,
                        "test": [
                          254.0736853
                        ]
                      },
                      {
                        "iteration": 205,
                        "learn": [
                          192.5691827
                        ],
                        "passed_time": 0.3214033003,
                        "remaining_time": 1.152995335,
                        "test": [
                          253.5704932
                        ]
                      },
                      {
                        "iteration": 206,
                        "learn": [
                          192.0617211
                        ],
                        "passed_time": 0.3226481037,
                        "remaining_time": 1.15031063,
                        "test": [
                          253.0585224
                        ]
                      },
                      {
                        "iteration": 207,
                        "learn": [
                          191.7622946
                        ],
                        "passed_time": 0.3238674933,
                        "remaining_time": 1.147549724,
                        "test": [
                          252.9715575
                        ]
                      },
                      {
                        "iteration": 208,
                        "learn": [
                          191.2917106
                        ],
                        "passed_time": 0.3250031445,
                        "remaining_time": 1.144508681,
                        "test": [
                          252.5654318
                        ]
                      },
                      {
                        "iteration": 209,
                        "learn": [
                          190.9197072
                        ],
                        "passed_time": 0.3261241809,
                        "remaining_time": 1.141434633,
                        "test": [
                          252.5265682
                        ]
                      },
                      {
                        "iteration": 210,
                        "learn": [
                          190.5623136
                        ],
                        "passed_time": 0.3273407411,
                        "remaining_time": 1.138711393,
                        "test": [
                          252.3512115
                        ]
                      },
                      {
                        "iteration": 211,
                        "learn": [
                          190.2380997
                        ],
                        "passed_time": 0.3285870117,
                        "remaining_time": 1.136105092,
                        "test": [
                          252.1198562
                        ]
                      },
                      {
                        "iteration": 212,
                        "learn": [
                          189.8856193
                        ],
                        "passed_time": 0.3298537485,
                        "remaining_time": 1.133581896,
                        "test": [
                          252.1072007
                        ]
                      },
                      {
                        "iteration": 213,
                        "learn": [
                          189.2508366
                        ],
                        "passed_time": 0.3311707077,
                        "remaining_time": 1.131241997,
                        "test": [
                          251.6291906
                        ]
                      },
                      {
                        "iteration": 214,
                        "learn": [
                          188.9064987
                        ],
                        "passed_time": 0.3323499781,
                        "remaining_time": 1.128444112,
                        "test": [
                          251.6032003
                        ]
                      },
                      {
                        "iteration": 215,
                        "learn": [
                          188.3472712
                        ],
                        "passed_time": 0.3335653275,
                        "remaining_time": 1.12578298,
                        "test": [
                          251.3532758
                        ]
                      },
                      {
                        "iteration": 216,
                        "learn": [
                          188.1408849
                        ],
                        "passed_time": 0.3347884819,
                        "remaining_time": 1.123161359,
                        "test": [
                          251.1957844
                        ]
                      },
                      {
                        "iteration": 217,
                        "learn": [
                          187.870467
                        ],
                        "passed_time": 0.3360525888,
                        "remaining_time": 1.120689138,
                        "test": [
                          250.9909265
                        ]
                      },
                      {
                        "iteration": 218,
                        "learn": [
                          187.4417329
                        ],
                        "passed_time": 0.337275291,
                        "remaining_time": 1.118090691,
                        "test": [
                          250.7514375
                        ]
                      },
                      {
                        "iteration": 219,
                        "learn": [
                          187.2116308
                        ],
                        "passed_time": 0.3384503234,
                        "remaining_time": 1.115347657,
                        "test": [
                          250.6688783
                        ]
                      },
                      {
                        "iteration": 220,
                        "learn": [
                          186.8241656
                        ],
                        "passed_time": 0.3396484905,
                        "remaining_time": 1.112694602,
                        "test": [
                          250.5909308
                        ]
                      },
                      {
                        "iteration": 221,
                        "learn": [
                          186.409175
                        ],
                        "passed_time": 0.3409471443,
                        "remaining_time": 1.110381916,
                        "test": [
                          250.2402808
                        ]
                      },
                      {
                        "iteration": 222,
                        "learn": [
                          185.8572035
                        ],
                        "passed_time": 0.3422308766,
                        "remaining_time": 1.108030013,
                        "test": [
                          249.9094858
                        ]
                      },
                      {
                        "iteration": 223,
                        "learn": [
                          185.5866414
                        ],
                        "passed_time": 0.3434431552,
                        "remaining_time": 1.105457656,
                        "test": [
                          249.7802563
                        ]
                      },
                      {
                        "iteration": 224,
                        "learn": [
                          185.2058212
                        ],
                        "passed_time": 0.3446714458,
                        "remaining_time": 1.102948627,
                        "test": [
                          249.5545464
                        ]
                      },
                      {
                        "iteration": 225,
                        "learn": [
                          184.9028531
                        ],
                        "passed_time": 0.345879646,
                        "remaining_time": 1.100387015,
                        "test": [
                          249.4628554
                        ]
                      },
                      {
                        "iteration": 226,
                        "learn": [
                          184.7276672
                        ],
                        "passed_time": 0.3470261352,
                        "remaining_time": 1.097642137,
                        "test": [
                          249.3986108
                        ]
                      },
                      {
                        "iteration": 227,
                        "learn": [
                          184.4075799
                        ],
                        "passed_time": 0.3482897013,
                        "remaining_time": 1.095279455,
                        "test": [
                          249.168874
                        ]
                      },
                      {
                        "iteration": 228,
                        "learn": [
                          184.1386285
                        ],
                        "passed_time": 0.3495123935,
                        "remaining_time": 1.092798575,
                        "test": [
                          249.1881394
                        ]
                      },
                      {
                        "iteration": 229,
                        "learn": [
                          183.7360441
                        ],
                        "passed_time": 0.3507044659,
                        "remaining_time": 1.090233448,
                        "test": [
                          248.8767779
                        ]
                      },
                      {
                        "iteration": 230,
                        "learn": [
                          183.3136569
                        ],
                        "passed_time": 0.3518644076,
                        "remaining_time": 1.087580896,
                        "test": [
                          248.6192783
                        ]
                      },
                      {
                        "iteration": 231,
                        "learn": [
                          183.0847474
                        ],
                        "passed_time": 0.3530890047,
                        "remaining_time": 1.085139915,
                        "test": [
                          248.5345732
                        ]
                      },
                      {
                        "iteration": 232,
                        "learn": [
                          182.7172337
                        ],
                        "passed_time": 0.3543373838,
                        "remaining_time": 1.082782048,
                        "test": [
                          248.2500934
                        ]
                      },
                      {
                        "iteration": 233,
                        "learn": [
                          182.4303192
                        ],
                        "passed_time": 0.3555876228,
                        "remaining_time": 1.080439316,
                        "test": [
                          248.2353072
                        ]
                      },
                      {
                        "iteration": 234,
                        "learn": [
                          182.1536889
                        ],
                        "passed_time": 0.3567416553,
                        "remaining_time": 1.077815214,
                        "test": [
                          248.0119226
                        ]
                      },
                      {
                        "iteration": 235,
                        "learn": [
                          181.7449774
                        ],
                        "passed_time": 0.3579491856,
                        "remaining_time": 1.075364291,
                        "test": [
                          247.7856645
                        ]
                      },
                      {
                        "iteration": 236,
                        "learn": [
                          181.4380582
                        ],
                        "passed_time": 0.3591356882,
                        "remaining_time": 1.072861043,
                        "test": [
                          247.6643376
                        ]
                      },
                      {
                        "iteration": 237,
                        "learn": [
                          181.0968183
                        ],
                        "passed_time": 0.3604192678,
                        "remaining_time": 1.070657237,
                        "test": [
                          247.3256434
                        ]
                      },
                      {
                        "iteration": 238,
                        "learn": [
                          180.8052515
                        ],
                        "passed_time": 0.3616311115,
                        "remaining_time": 1.068249225,
                        "test": [
                          247.3114529
                        ]
                      },
                      {
                        "iteration": 239,
                        "learn": [
                          180.6133815
                        ],
                        "passed_time": 0.3628966565,
                        "remaining_time": 1.066008929,
                        "test": [
                          247.2909121
                        ]
                      },
                      {
                        "iteration": 240,
                        "learn": [
                          180.2512337
                        ],
                        "passed_time": 0.3640588009,
                        "remaining_time": 1.063474671,
                        "test": [
                          247.1078648
                        ]
                      },
                      {
                        "iteration": 241,
                        "learn": [
                          180.0084372
                        ],
                        "passed_time": 0.3651639472,
                        "remaining_time": 1.060786177,
                        "test": [
                          247.026768
                        ]
                      },
                      {
                        "iteration": 242,
                        "learn": [
                          179.7561606
                        ],
                        "passed_time": 0.3663957176,
                        "remaining_time": 1.058476518,
                        "test": [
                          246.9167699
                        ]
                      },
                      {
                        "iteration": 243,
                        "learn": [
                          179.6137937
                        ],
                        "passed_time": 0.3675980995,
                        "remaining_time": 1.056091261,
                        "test": [
                          246.9411799
                        ]
                      },
                      {
                        "iteration": 244,
                        "learn": [
                          179.417092
                        ],
                        "passed_time": 0.3688042771,
                        "remaining_time": 1.053726506,
                        "test": [
                          246.9716335
                        ]
                      },
                      {
                        "iteration": 245,
                        "learn": [
                          179.1067935
                        ],
                        "passed_time": 0.3700391159,
                        "remaining_time": 1.05145261,
                        "test": [
                          246.9642941
                        ]
                      },
                      {
                        "iteration": 246,
                        "learn": [
                          178.83852
                        ],
                        "passed_time": 0.3712504601,
                        "remaining_time": 1.049120733,
                        "test": [
                          247.2034363
                        ]
                      },
                      {
                        "iteration": 247,
                        "learn": [
                          178.5623232
                        ],
                        "passed_time": 0.3724085605,
                        "remaining_time": 1.046648253,
                        "test": [
                          247.1098781
                        ]
                      },
                      {
                        "iteration": 248,
                        "learn": [
                          178.33556
                        ],
                        "passed_time": 0.3735311387,
                        "remaining_time": 1.044087038,
                        "test": [
                          247.01771
                        ]
                      },
                      {
                        "iteration": 249,
                        "learn": [
                          177.9836907
                        ],
                        "passed_time": 0.3747314862,
                        "remaining_time": 1.041753532,
                        "test": [
                          246.7086105
                        ]
                      },
                      {
                        "iteration": 250,
                        "learn": [
                          177.7170819
                        ],
                        "passed_time": 0.3758662605,
                        "remaining_time": 1.039247748,
                        "test": [
                          246.4641325
                        ]
                      },
                      {
                        "iteration": 251,
                        "learn": [
                          177.4613908
                        ],
                        "passed_time": 0.3770089395,
                        "remaining_time": 1.036774584,
                        "test": [
                          246.3615236
                        ]
                      },
                      {
                        "iteration": 252,
                        "learn": [
                          177.2243521
                        ],
                        "passed_time": 0.3782244035,
                        "remaining_time": 1.034511017,
                        "test": [
                          246.3824138
                        ]
                      },
                      {
                        "iteration": 253,
                        "learn": [
                          176.7471113
                        ],
                        "passed_time": 0.3794340054,
                        "remaining_time": 1.032239755,
                        "test": [
                          246.0595489
                        ]
                      },
                      {
                        "iteration": 254,
                        "learn": [
                          176.4306065
                        ],
                        "passed_time": 0.3806627419,
                        "remaining_time": 1.030028596,
                        "test": [
                          245.9802072
                        ]
                      },
                      {
                        "iteration": 255,
                        "learn": [
                          176.1611348
                        ],
                        "passed_time": 0.381817677,
                        "remaining_time": 1.027626482,
                        "test": [
                          245.7660085
                        ]
                      },
                      {
                        "iteration": 256,
                        "learn": [
                          175.8095067
                        ],
                        "passed_time": 0.3831021593,
                        "remaining_time": 1.025580878,
                        "test": [
                          245.4822733
                        ]
                      },
                      {
                        "iteration": 257,
                        "learn": [
                          175.5614112
                        ],
                        "passed_time": 0.3852898654,
                        "remaining_time": 1.025946269,
                        "test": [
                          245.3992274
                        ]
                      },
                      {
                        "iteration": 258,
                        "learn": [
                          175.1750837
                        ],
                        "passed_time": 0.387411008,
                        "remaining_time": 1.026115643,
                        "test": [
                          245.3108537
                        ]
                      },
                      {
                        "iteration": 259,
                        "learn": [
                          175.0486573
                        ],
                        "passed_time": 0.3897024725,
                        "remaining_time": 1.026716129,
                        "test": [
                          245.3200711
                        ]
                      },
                      {
                        "iteration": 260,
                        "learn": [
                          174.6681474
                        ],
                        "passed_time": 0.3916513861,
                        "remaining_time": 1.026396736,
                        "test": [
                          244.9772831
                        ]
                      },
                      {
                        "iteration": 261,
                        "learn": [
                          174.522371
                        ],
                        "passed_time": 0.3935290766,
                        "remaining_time": 1.025879234,
                        "test": [
                          245.0127322
                        ]
                      },
                      {
                        "iteration": 262,
                        "learn": [
                          174.1621621
                        ],
                        "passed_time": 0.3952713866,
                        "remaining_time": 1.025000326,
                        "test": [
                          244.8726064
                        ]
                      },
                      {
                        "iteration": 263,
                        "learn": [
                          173.7114397
                        ],
                        "passed_time": 0.3985386071,
                        "remaining_time": 1.028048452,
                        "test": [
                          244.8390132
                        ]
                      },
                      {
                        "iteration": 264,
                        "learn": [
                          173.3689625
                        ],
                        "passed_time": 0.4036127153,
                        "remaining_time": 1.035685458,
                        "test": [
                          244.7292062
                        ]
                      },
                      {
                        "iteration": 265,
                        "learn": [
                          173.0437455
                        ],
                        "passed_time": 0.4054393651,
                        "remaining_time": 1.034937327,
                        "test": [
                          244.7604852
                        ]
                      },
                      {
                        "iteration": 266,
                        "learn": [
                          172.7588708
                        ],
                        "passed_time": 0.4106938919,
                        "remaining_time": 1.042885613,
                        "test": [
                          244.6829286
                        ]
                      },
                      {
                        "iteration": 267,
                        "learn": [
                          172.4728166
                        ],
                        "passed_time": 0.4128541848,
                        "remaining_time": 1.042918967,
                        "test": [
                          244.7119482
                        ]
                      },
                      {
                        "iteration": 268,
                        "learn": [
                          172.3785459
                        ],
                        "passed_time": 0.4146229321,
                        "remaining_time": 1.041952052,
                        "test": [
                          244.729419
                        ]
                      },
                      {
                        "iteration": 269,
                        "learn": [
                          172.0104764
                        ],
                        "passed_time": 0.4178347473,
                        "remaining_time": 1.044586868,
                        "test": [
                          244.5845786
                        ]
                      },
                      {
                        "iteration": 270,
                        "learn": [
                          171.6357957
                        ],
                        "passed_time": 0.4229096949,
                        "remaining_time": 1.051812304,
                        "test": [
                          244.5757983
                        ]
                      },
                      {
                        "iteration": 271,
                        "learn": [
                          171.2929399
                        ],
                        "passed_time": 0.428756589,
                        "remaining_time": 1.060857296,
                        "test": [
                          244.5535194
                        ]
                      },
                      {
                        "iteration": 272,
                        "learn": [
                          171.0312779
                        ],
                        "passed_time": 0.432114585,
                        "remaining_time": 1.063666671,
                        "test": [
                          244.37323
                        ]
                      },
                      {
                        "iteration": 273,
                        "learn": [
                          170.6505443
                        ],
                        "passed_time": 0.4339527647,
                        "remaining_time": 1.062709143,
                        "test": [
                          244.146582
                        ]
                      },
                      {
                        "iteration": 274,
                        "learn": [
                          170.4891674
                        ],
                        "passed_time": 0.4391107959,
                        "remaining_time": 1.069833575,
                        "test": [
                          243.9782336
                        ]
                      },
                      {
                        "iteration": 275,
                        "learn": [
                          170.2444217
                        ],
                        "passed_time": 0.4409022016,
                        "remaining_time": 1.068708597,
                        "test": [
                          243.778285
                        ]
                      },
                      {
                        "iteration": 276,
                        "learn": [
                          170.1076137
                        ],
                        "passed_time": 0.4427455696,
                        "remaining_time": 1.067704117,
                        "test": [
                          243.7970163
                        ]
                      },
                      {
                        "iteration": 277,
                        "learn": [
                          169.7860859
                        ],
                        "passed_time": 0.4484370247,
                        "remaining_time": 1.075926243,
                        "test": [
                          243.5657026
                        ]
                      },
                      {
                        "iteration": 278,
                        "learn": [
                          169.7003012
                        ],
                        "passed_time": 0.4510259082,
                        "remaining_time": 1.076642491,
                        "test": [
                          243.4456902
                        ]
                      },
                      {
                        "iteration": 279,
                        "learn": [
                          169.5267916
                        ],
                        "passed_time": 0.4528872518,
                        "remaining_time": 1.075607223,
                        "test": [
                          243.3777995
                        ]
                      },
                      {
                        "iteration": 280,
                        "learn": [
                          169.0892508
                        ],
                        "passed_time": 0.4571218906,
                        "remaining_time": 1.080174147,
                        "test": [
                          243.2790854
                        ]
                      },
                      {
                        "iteration": 281,
                        "learn": [
                          168.8785736
                        ],
                        "passed_time": 0.4603843187,
                        "remaining_time": 1.082392919,
                        "test": [
                          243.2955418
                        ]
                      },
                      {
                        "iteration": 282,
                        "learn": [
                          168.7618182
                        ],
                        "passed_time": 0.4621067188,
                        "remaining_time": 1.080970487,
                        "test": [
                          243.3550551
                        ]
                      },
                      {
                        "iteration": 283,
                        "learn": [
                          168.5022149
                        ],
                        "passed_time": 0.4652483529,
                        "remaining_time": 1.082849159,
                        "test": [
                          243.280277
                        ]
                      },
                      {
                        "iteration": 284,
                        "learn": [
                          168.1627502
                        ],
                        "passed_time": 0.4709888742,
                        "remaining_time": 1.090711077,
                        "test": [
                          243.2536026
                        ]
                      },
                      {
                        "iteration": 285,
                        "learn": [
                          167.9130018
                        ],
                        "passed_time": 0.4728081489,
                        "remaining_time": 1.089442553,
                        "test": [
                          243.1438644
                        ]
                      },
                      {
                        "iteration": 286,
                        "learn": [
                          167.6862903
                        ],
                        "passed_time": 0.4759673672,
                        "remaining_time": 1.091242257,
                        "test": [
                          243.1148547
                        ]
                      },
                      {
                        "iteration": 287,
                        "learn": [
                          167.3900162
                        ],
                        "passed_time": 0.4792062742,
                        "remaining_time": 1.093189313,
                        "test": [
                          243.0167515
                        ]
                      },
                      {
                        "iteration": 288,
                        "learn": [
                          167.1790327
                        ],
                        "passed_time": 0.4804980361,
                        "remaining_time": 1.090680663,
                        "test": [
                          243.0006045
                        ]
                      },
                      {
                        "iteration": 289,
                        "learn": [
                          166.9963635
                        ],
                        "passed_time": 0.4817230755,
                        "remaining_time": 1.088029705,
                        "test": [
                          242.971445
                        ]
                      },
                      {
                        "iteration": 290,
                        "learn": [
                          166.7628099
                        ],
                        "passed_time": 0.4828972128,
                        "remaining_time": 1.085274148,
                        "test": [
                          242.9426154
                        ]
                      },
                      {
                        "iteration": 291,
                        "learn": [
                          166.5144617
                        ],
                        "passed_time": 0.4841358729,
                        "remaining_time": 1.082673716,
                        "test": [
                          242.9798087
                        ]
                      },
                      {
                        "iteration": 292,
                        "learn": [
                          166.2606955
                        ],
                        "passed_time": 0.4853654466,
                        "remaining_time": 1.080062359,
                        "test": [
                          242.8548365
                        ]
                      },
                      {
                        "iteration": 293,
                        "learn": [
                          165.9517095
                        ],
                        "passed_time": 0.4878535165,
                        "remaining_time": 1.080247072,
                        "test": [
                          242.7294578
                        ]
                      },
                      {
                        "iteration": 294,
                        "learn": [
                          165.5370615
                        ],
                        "passed_time": 0.4913049173,
                        "remaining_time": 1.082536258,
                        "test": [
                          242.5746933
                        ]
                      },
                      {
                        "iteration": 295,
                        "learn": [
                          165.2067224
                        ],
                        "passed_time": 0.4929408959,
                        "remaining_time": 1.080806221,
                        "test": [
                          242.4816804
                        ]
                      },
                      {
                        "iteration": 296,
                        "learn": [
                          165.0178096
                        ],
                        "passed_time": 0.494688826,
                        "remaining_time": 1.079321075,
                        "test": [
                          242.4132469
                        ]
                      },
                      {
                        "iteration": 297,
                        "learn": [
                          164.8360513
                        ],
                        "passed_time": 0.4966886416,
                        "remaining_time": 1.078381044,
                        "test": [
                          242.3508971
                        ]
                      },
                      {
                        "iteration": 298,
                        "learn": [
                          164.6314023
                        ],
                        "passed_time": 0.4984255751,
                        "remaining_time": 1.076865958,
                        "test": [
                          242.313583
                        ]
                      },
                      {
                        "iteration": 299,
                        "learn": [
                          164.3323638
                        ],
                        "passed_time": 0.4997979556,
                        "remaining_time": 1.074565605,
                        "test": [
                          242.3566508
                        ]
                      },
                      {
                        "iteration": 300,
                        "learn": [
                          164.0627978
                        ],
                        "passed_time": 0.501060304,
                        "remaining_time": 1.072035999,
                        "test": [
                          242.4940019
                        ]
                      },
                      {
                        "iteration": 301,
                        "learn": [
                          163.8871862
                        ],
                        "passed_time": 0.502365092,
                        "remaining_time": 1.069605146,
                        "test": [
                          242.4512856
                        ]
                      },
                      {
                        "iteration": 302,
                        "learn": [
                          163.5597052
                        ],
                        "passed_time": 0.5036848802,
                        "remaining_time": 1.067213509,
                        "test": [
                          242.3530928
                        ]
                      },
                      {
                        "iteration": 303,
                        "learn": [
                          163.2737961
                        ],
                        "passed_time": 0.5049259724,
                        "remaining_time": 1.064662988,
                        "test": [
                          242.1541018
                        ]
                      },
                      {
                        "iteration": 304,
                        "learn": [
                          163.0496189
                        ],
                        "passed_time": 0.5061721789,
                        "remaining_time": 1.062131785,
                        "test": [
                          242.0749201
                        ]
                      },
                      {
                        "iteration": 305,
                        "learn": [
                          162.8560035
                        ],
                        "passed_time": 0.50840475,
                        "remaining_time": 1.061668743,
                        "test": [
                          242.0564296
                        ]
                      },
                      {
                        "iteration": 306,
                        "learn": [
                          162.6416973
                        ],
                        "passed_time": 0.5105267421,
                        "remaining_time": 1.06096437,
                        "test": [
                          241.9027333
                        ]
                      },
                      {
                        "iteration": 307,
                        "learn": [
                          162.3547596
                        ],
                        "passed_time": 0.5126237683,
                        "remaining_time": 1.060199157,
                        "test": [
                          241.764931
                        ]
                      },
                      {
                        "iteration": 308,
                        "learn": [
                          162.0832298
                        ],
                        "passed_time": 0.5140153542,
                        "remaining_time": 1.05797335,
                        "test": [
                          241.7607942
                        ]
                      },
                      {
                        "iteration": 309,
                        "learn": [
                          161.7538758
                        ],
                        "passed_time": 0.5153477827,
                        "remaining_time": 1.055631748,
                        "test": [
                          241.6667596
                        ]
                      },
                      {
                        "iteration": 310,
                        "learn": [
                          161.5999358
                        ],
                        "passed_time": 0.5166161998,
                        "remaining_time": 1.053166144,
                        "test": [
                          241.6616176
                        ]
                      },
                      {
                        "iteration": 311,
                        "learn": [
                          161.3825453
                        ],
                        "passed_time": 0.5179418523,
                        "remaining_time": 1.050824335,
                        "test": [
                          241.5283965
                        ]
                      },
                      {
                        "iteration": 312,
                        "learn": [
                          161.0582213
                        ],
                        "passed_time": 0.5191977524,
                        "remaining_time": 1.048348177,
                        "test": [
                          241.4159115
                        ]
                      },
                      {
                        "iteration": 313,
                        "learn": [
                          160.8662737
                        ],
                        "passed_time": 0.5204322903,
                        "remaining_time": 1.045836864,
                        "test": [
                          241.3736273
                        ]
                      },
                      {
                        "iteration": 314,
                        "learn": [
                          160.6641059
                        ],
                        "passed_time": 0.5216304779,
                        "remaining_time": 1.043260956,
                        "test": [
                          241.4196861
                        ]
                      },
                      {
                        "iteration": 315,
                        "learn": [
                          160.2871588
                        ],
                        "passed_time": 0.5230148505,
                        "remaining_time": 1.04106437,
                        "test": [
                          241.1332681
                        ]
                      },
                      {
                        "iteration": 316,
                        "learn": [
                          160.2017286
                        ],
                        "passed_time": 0.5243150756,
                        "remaining_time": 1.038706207,
                        "test": [
                          241.1703617
                        ]
                      },
                      {
                        "iteration": 317,
                        "learn": [
                          160.0553823
                        ],
                        "passed_time": 0.5255493545,
                        "remaining_time": 1.036224671,
                        "test": [
                          241.1036816
                        ]
                      },
                      {
                        "iteration": 318,
                        "learn": [
                          159.8436489
                        ],
                        "passed_time": 0.5268058577,
                        "remaining_time": 1.033794567,
                        "test": [
                          241.1021292
                        ]
                      },
                      {
                        "iteration": 319,
                        "learn": [
                          159.5873922
                        ],
                        "passed_time": 0.5281085632,
                        "remaining_time": 1.031462037,
                        "test": [
                          241.017339
                        ]
                      },
                      {
                        "iteration": 320,
                        "learn": [
                          159.4135034
                        ],
                        "passed_time": 0.5293391995,
                        "remaining_time": 1.028995827,
                        "test": [
                          240.9563292
                        ]
                      },
                      {
                        "iteration": 321,
                        "learn": [
                          159.2911504
                        ],
                        "passed_time": 0.530724583,
                        "remaining_time": 1.026836693,
                        "test": [
                          240.9242663
                        ]
                      },
                      {
                        "iteration": 322,
                        "learn": [
                          158.9156067
                        ],
                        "passed_time": 0.5319937961,
                        "remaining_time": 1.024458641,
                        "test": [
                          240.7172379
                        ]
                      },
                      {
                        "iteration": 323,
                        "learn": [
                          158.7204869
                        ],
                        "passed_time": 0.5332633886,
                        "remaining_time": 1.022088162,
                        "test": [
                          240.6306024
                        ]
                      },
                      {
                        "iteration": 324,
                        "learn": [
                          158.533532
                        ],
                        "passed_time": 0.5344344103,
                        "remaining_time": 1.019536413,
                        "test": [
                          240.4569844
                        ]
                      },
                      {
                        "iteration": 325,
                        "learn": [
                          158.315422
                        ],
                        "passed_time": 0.5356988004,
                        "remaining_time": 1.017170422,
                        "test": [
                          240.4597793
                        ]
                      },
                      {
                        "iteration": 326,
                        "learn": [
                          158.0102362
                        ],
                        "passed_time": 0.5369112758,
                        "remaining_time": 1.014713053,
                        "test": [
                          240.5117118
                        ]
                      },
                      {
                        "iteration": 327,
                        "learn": [
                          157.9321191
                        ],
                        "passed_time": 0.5380535544,
                        "remaining_time": 1.012131229,
                        "test": [
                          240.5569788
                        ]
                      },
                      {
                        "iteration": 328,
                        "learn": [
                          157.7934796
                        ],
                        "passed_time": 0.5392799605,
                        "remaining_time": 1.009715671,
                        "test": [
                          240.4380919
                        ]
                      },
                      {
                        "iteration": 329,
                        "learn": [
                          157.5454023
                        ],
                        "passed_time": 0.5405053503,
                        "remaining_time": 1.007305425,
                        "test": [
                          240.4452215
                        ]
                      },
                      {
                        "iteration": 330,
                        "learn": [
                          157.4005136
                        ],
                        "passed_time": 0.5416512773,
                        "remaining_time": 1.004754937,
                        "test": [
                          240.2907884
                        ]
                      },
                      {
                        "iteration": 331,
                        "learn": [
                          157.110022
                        ],
                        "passed_time": 0.5428181509,
                        "remaining_time": 1.002251586,
                        "test": [
                          240.103309
                        ]
                      },
                      {
                        "iteration": 332,
                        "learn": [
                          156.8970628
                        ],
                        "passed_time": 0.5439386874,
                        "remaining_time": 0.9996711012,
                        "test": [
                          239.9708272
                        ]
                      },
                      {
                        "iteration": 333,
                        "learn": [
                          156.6256004
                        ],
                        "passed_time": 0.5451690747,
                        "remaining_time": 0.9973003132,
                        "test": [
                          239.8190793
                        ]
                      },
                      {
                        "iteration": 334,
                        "learn": [
                          156.3822553
                        ],
                        "passed_time": 0.546407542,
                        "remaining_time": 0.9949510466,
                        "test": [
                          239.8423736
                        ]
                      },
                      {
                        "iteration": 335,
                        "learn": [
                          156.0537884
                        ],
                        "passed_time": 0.5478608907,
                        "remaining_time": 0.9929978644,
                        "test": [
                          239.7559434
                        ]
                      },
                      {
                        "iteration": 336,
                        "learn": [
                          155.9197597
                        ],
                        "passed_time": 0.549153478,
                        "remaining_time": 0.9907576102,
                        "test": [
                          239.7981745
                        ]
                      },
                      {
                        "iteration": 337,
                        "learn": [
                          155.7543183
                        ],
                        "passed_time": 0.5504457012,
                        "remaining_time": 0.9885223096,
                        "test": [
                          239.6643028
                        ]
                      },
                      {
                        "iteration": 338,
                        "learn": [
                          155.4838309
                        ],
                        "passed_time": 0.5517190318,
                        "remaining_time": 0.9862588002,
                        "test": [
                          239.7418902
                        ]
                      },
                      {
                        "iteration": 339,
                        "learn": [
                          155.2697248
                        ],
                        "passed_time": 0.5529888371,
                        "remaining_time": 0.9839948424,
                        "test": [
                          239.7257531
                        ]
                      },
                      {
                        "iteration": 340,
                        "learn": [
                          155.1816222
                        ],
                        "passed_time": 0.5541243019,
                        "remaining_time": 0.9814987634,
                        "test": [
                          239.7525557
                        ]
                      },
                      {
                        "iteration": 341,
                        "learn": [
                          154.972774
                        ],
                        "passed_time": 0.5553157625,
                        "remaining_time": 0.9791093707,
                        "test": [
                          239.7587253
                        ]
                      },
                      {
                        "iteration": 342,
                        "learn": [
                          154.7028005
                        ],
                        "passed_time": 0.5565358993,
                        "remaining_time": 0.9767772927,
                        "test": [
                          239.6788324
                        ]
                      },
                      {
                        "iteration": 343,
                        "learn": [
                          154.5781971
                        ],
                        "passed_time": 0.5578191667,
                        "remaining_time": 0.9745619743,
                        "test": [
                          239.5637857
                        ]
                      },
                      {
                        "iteration": 344,
                        "learn": [
                          154.3553984
                        ],
                        "passed_time": 0.5590139557,
                        "remaining_time": 0.9721981839,
                        "test": [
                          239.4453553
                        ]
                      },
                      {
                        "iteration": 345,
                        "learn": [
                          153.9975179
                        ],
                        "passed_time": 0.5601671528,
                        "remaining_time": 0.9697691461,
                        "test": [
                          239.3671247
                        ]
                      },
                      {
                        "iteration": 346,
                        "learn": [
                          153.8590862
                        ],
                        "passed_time": 0.5613956093,
                        "remaining_time": 0.9674771595,
                        "test": [
                          239.4168033
                        ]
                      },
                      {
                        "iteration": 347,
                        "learn": [
                          153.7207999
                        ],
                        "passed_time": 0.5625146967,
                        "remaining_time": 0.9650036608,
                        "test": [
                          239.4437237
                        ]
                      },
                      {
                        "iteration": 348,
                        "learn": [
                          153.5174476
                        ],
                        "passed_time": 0.5637074427,
                        "remaining_time": 0.9626637131,
                        "test": [
                          239.3823997
                        ]
                      },
                      {
                        "iteration": 349,
                        "learn": [
                          153.1688882
                        ],
                        "passed_time": 0.565047174,
                        "remaining_time": 0.9605801958,
                        "test": [
                          239.3346571
                        ]
                      },
                      {
                        "iteration": 350,
                        "learn": [
                          152.8074762
                        ],
                        "passed_time": 0.5663694639,
                        "remaining_time": 0.9584714005,
                        "test": [
                          239.0763173
                        ]
                      },
                      {
                        "iteration": 351,
                        "learn": [
                          152.6866627
                        ],
                        "passed_time": 0.5749424964,
                        "remaining_time": 0.9685821032,
                        "test": [
                          238.9683724
                        ]
                      },
                      {
                        "iteration": 352,
                        "learn": [
                          152.3590578
                        ],
                        "passed_time": 0.577661871,
                        "remaining_time": 0.9687700499,
                        "test": [
                          238.7914224
                        ]
                      },
                      {
                        "iteration": 353,
                        "learn": [
                          152.2054412
                        ],
                        "passed_time": 0.5802047732,
                        "remaining_time": 0.9686469519,
                        "test": [
                          238.7997992
                        ]
                      },
                      {
                        "iteration": 354,
                        "learn": [
                          151.9534688
                        ],
                        "passed_time": 0.5816873082,
                        "remaining_time": 0.9667479206,
                        "test": [
                          238.7436498
                        ]
                      },
                      {
                        "iteration": 355,
                        "learn": [
                          151.701412
                        ],
                        "passed_time": 0.5834519102,
                        "remaining_time": 0.9653179076,
                        "test": [
                          238.7081975
                        ]
                      },
                      {
                        "iteration": 356,
                        "learn": [
                          151.5867901
                        ],
                        "passed_time": 0.585575175,
                        "remaining_time": 0.9644767588,
                        "test": [
                          238.6072221
                        ]
                      },
                      {
                        "iteration": 357,
                        "learn": [
                          151.3272845
                        ],
                        "passed_time": 0.5870888398,
                        "remaining_time": 0.9626289077,
                        "test": [
                          238.5043755
                        ]
                      },
                      {
                        "iteration": 358,
                        "learn": [
                          151.1576533
                        ],
                        "passed_time": 0.5883427049,
                        "remaining_time": 0.9603588443,
                        "test": [
                          238.429107
                        ]
                      },
                      {
                        "iteration": 359,
                        "learn": [
                          151.0152918
                        ],
                        "passed_time": 0.5902640759,
                        "remaining_time": 0.9591791233,
                        "test": [
                          238.4347505
                        ]
                      },
                      {
                        "iteration": 360,
                        "learn": [
                          150.8665084
                        ],
                        "passed_time": 0.591516467,
                        "remaining_time": 0.9569130658,
                        "test": [
                          238.4418973
                        ]
                      },
                      {
                        "iteration": 361,
                        "learn": [
                          150.4738951
                        ],
                        "passed_time": 0.5931846226,
                        "remaining_time": 0.9553221961,
                        "test": [
                          238.2747607
                        ]
                      },
                      {
                        "iteration": 362,
                        "learn": [
                          150.2652621
                        ],
                        "passed_time": 0.5946702601,
                        "remaining_time": 0.9534382683,
                        "test": [
                          238.2302039
                        ]
                      },
                      {
                        "iteration": 363,
                        "learn": [
                          150.103284
                        ],
                        "passed_time": 0.5959582281,
                        "remaining_time": 0.951241018,
                        "test": [
                          238.2063454
                        ]
                      },
                      {
                        "iteration": 364,
                        "learn": [
                          149.8558657
                        ],
                        "passed_time": 0.5978547953,
                        "remaining_time": 0.9500158391,
                        "test": [
                          238.2255791
                        ]
                      },
                      {
                        "iteration": 365,
                        "learn": [
                          149.6013661
                        ],
                        "passed_time": 0.599129869,
                        "remaining_time": 0.9478038091,
                        "test": [
                          238.2287946
                        ]
                      },
                      {
                        "iteration": 366,
                        "learn": [
                          149.4972478
                        ],
                        "passed_time": 0.6010037287,
                        "remaining_time": 0.9465399323,
                        "test": [
                          238.2019023
                        ]
                      },
                      {
                        "iteration": 367,
                        "learn": [
                          149.2968225
                        ],
                        "passed_time": 0.6024351185,
                        "remaining_time": 0.9445789765,
                        "test": [
                          238.0830885
                        ]
                      },
                      {
                        "iteration": 368,
                        "learn": [
                          149.0532508
                        ],
                        "passed_time": 0.6035968965,
                        "remaining_time": 0.9422000336,
                        "test": [
                          237.967589
                        ]
                      },
                      {
                        "iteration": 369,
                        "learn": [
                          148.9228984
                        ],
                        "passed_time": 0.6055656482,
                        "remaining_time": 0.9410817506,
                        "test": [
                          237.9716737
                        ]
                      },
                      {
                        "iteration": 370,
                        "learn": [
                          148.6325819
                        ],
                        "passed_time": 0.6068220764,
                        "remaining_time": 0.9388567975,
                        "test": [
                          237.8755564
                        ]
                      },
                      {
                        "iteration": 371,
                        "learn": [
                          148.4305328
                        ],
                        "passed_time": 0.6087865161,
                        "remaining_time": 0.9377276176,
                        "test": [
                          237.925641
                        ]
                      },
                      {
                        "iteration": 372,
                        "learn": [
                          148.2936894
                        ],
                        "passed_time": 0.610225276,
                        "remaining_time": 0.9357878227,
                        "test": [
                          237.8739258
                        ]
                      },
                      {
                        "iteration": 373,
                        "learn": [
                          148.0281888
                        ],
                        "passed_time": 0.6118547335,
                        "remaining_time": 0.9341418525,
                        "test": [
                          238.0490562
                        ]
                      },
                      {
                        "iteration": 374,
                        "learn": [
                          147.8354503
                        ],
                        "passed_time": 0.6131938458,
                        "remaining_time": 0.9320546456,
                        "test": [
                          238.0802527
                        ]
                      },
                      {
                        "iteration": 375,
                        "learn": [
                          147.6332092
                        ],
                        "passed_time": 0.6145876502,
                        "remaining_time": 0.9300541834,
                        "test": [
                          238.0581609
                        ]
                      },
                      {
                        "iteration": 376,
                        "learn": [
                          147.5098165
                        ],
                        "passed_time": 0.6158499195,
                        "remaining_time": 0.9278587647,
                        "test": [
                          238.0680754
                        ]
                      },
                      {
                        "iteration": 377,
                        "learn": [
                          147.2351909
                        ],
                        "passed_time": 0.6171079863,
                        "remaining_time": 0.9256619794,
                        "test": [
                          238.0346397
                        ]
                      },
                      {
                        "iteration": 378,
                        "learn": [
                          146.9209846
                        ],
                        "passed_time": 0.6185212611,
                        "remaining_time": 0.9237019361,
                        "test": [
                          237.834572
                        ]
                      },
                      {
                        "iteration": 379,
                        "learn": [
                          146.703623
                        ],
                        "passed_time": 0.6199760707,
                        "remaining_time": 0.9218065261,
                        "test": [
                          237.842522
                        ]
                      },
                      {
                        "iteration": 380,
                        "learn": [
                          146.6291109
                        ],
                        "passed_time": 0.6212620842,
                        "remaining_time": 0.9196635577,
                        "test": [
                          237.8815107
                        ]
                      },
                      {
                        "iteration": 381,
                        "learn": [
                          146.4374724
                        ],
                        "passed_time": 0.6226917891,
                        "remaining_time": 0.9177368515,
                        "test": [
                          237.8629879
                        ]
                      },
                      {
                        "iteration": 382,
                        "learn": [
                          146.2632736
                        ],
                        "passed_time": 0.6262197551,
                        "remaining_time": 0.9188916511,
                        "test": [
                          237.8262616
                        ]
                      },
                      {
                        "iteration": 383,
                        "learn": [
                          146.1148895
                        ],
                        "passed_time": 0.6281821217,
                        "remaining_time": 0.9177348184,
                        "test": [
                          237.8639913
                        ]
                      },
                      {
                        "iteration": 384,
                        "learn": [
                          145.9378568
                        ],
                        "passed_time": 0.6302800501,
                        "remaining_time": 0.9167709819,
                        "test": [
                          237.7797386
                        ]
                      },
                      {
                        "iteration": 385,
                        "learn": [
                          145.6691098
                        ],
                        "passed_time": 0.6352590994,
                        "remaining_time": 0.9199736699,
                        "test": [
                          237.7035255
                        ]
                      },
                      {
                        "iteration": 386,
                        "learn": [
                          145.501841
                        ],
                        "passed_time": 0.6379920534,
                        "remaining_time": 0.9198955188,
                        "test": [
                          237.7329513
                        ]
                      },
                      {
                        "iteration": 387,
                        "learn": [
                          145.4036115
                        ],
                        "passed_time": 0.6399095086,
                        "remaining_time": 0.9186329801,
                        "test": [
                          237.7178966
                        ]
                      },
                      {
                        "iteration": 388,
                        "learn": [
                          145.275382
                        ],
                        "passed_time": 0.64496544,
                        "remaining_time": 0.9218529168,
                        "test": [
                          237.7130356
                        ]
                      },
                      {
                        "iteration": 389,
                        "learn": [
                          144.9938824
                        ],
                        "passed_time": 0.6477100483,
                        "remaining_time": 0.9217412226,
                        "test": [
                          237.5594932
                        ]
                      },
                      {
                        "iteration": 390,
                        "learn": [
                          144.7927751
                        ],
                        "passed_time": 0.6496228542,
                        "remaining_time": 0.9204374968,
                        "test": [
                          237.505658
                        ]
                      },
                      {
                        "iteration": 391,
                        "learn": [
                          144.5732287
                        ],
                        "passed_time": 0.6548696132,
                        "remaining_time": 0.9238339186,
                        "test": [
                          237.408262
                        ]
                      },
                      {
                        "iteration": 392,
                        "learn": [
                          144.2276151
                        ],
                        "passed_time": 0.6574176315,
                        "remaining_time": 0.9233957573,
                        "test": [
                          237.2633822
                        ]
                      },
                      {
                        "iteration": 393,
                        "learn": [
                          144.1050461
                        ],
                        "passed_time": 0.6593951314,
                        "remaining_time": 0.922149029,
                        "test": [
                          237.1913062
                        ]
                      },
                      {
                        "iteration": 394,
                        "learn": [
                          143.7903397
                        ],
                        "passed_time": 0.66493813,
                        "remaining_time": 0.925863219,
                        "test": [
                          237.0456535
                        ]
                      },
                      {
                        "iteration": 395,
                        "learn": [
                          143.5164327
                        ],
                        "passed_time": 0.6674457517,
                        "remaining_time": 0.9253225194,
                        "test": [
                          237.0496709
                        ]
                      },
                      {
                        "iteration": 396,
                        "learn": [
                          143.3657164
                        ],
                        "passed_time": 0.6693515784,
                        "remaining_time": 0.9239412216,
                        "test": [
                          237.0298026
                        ]
                      },
                      {
                        "iteration": 397,
                        "learn": [
                          143.1240054
                        ],
                        "passed_time": 0.6760505171,
                        "remaining_time": 0.9291448061,
                        "test": [
                          236.9321898
                        ]
                      },
                      {
                        "iteration": 398,
                        "learn": [
                          142.8278898
                        ],
                        "passed_time": 0.6799645208,
                        "remaining_time": 0.9304777653,
                        "test": [
                          236.798727
                        ]
                      },
                      {
                        "iteration": 399,
                        "learn": [
                          142.5870572
                        ],
                        "passed_time": 0.6831644307,
                        "remaining_time": 0.9308115368,
                        "test": [
                          236.7973716
                        ]
                      },
                      {
                        "iteration": 400,
                        "learn": [
                          142.320261
                        ],
                        "passed_time": 0.6851141679,
                        "remaining_time": 0.9294316891,
                        "test": [
                          236.7563182
                        ]
                      },
                      {
                        "iteration": 401,
                        "learn": [
                          142.1379074
                        ],
                        "passed_time": 0.6904333273,
                        "remaining_time": 0.9326002406,
                        "test": [
                          236.6921504
                        ]
                      },
                      {
                        "iteration": 402,
                        "learn": [
                          141.8251467
                        ],
                        "passed_time": 0.6947914781,
                        "remaining_time": 0.9344341963,
                        "test": [
                          236.8000751
                        ]
                      },
                      {
                        "iteration": 403,
                        "learn": [
                          141.5857205
                        ],
                        "passed_time": 0.6989820619,
                        "remaining_time": 0.9360131076,
                        "test": [
                          236.7293382
                        ]
                      },
                      {
                        "iteration": 404,
                        "learn": [
                          141.3986633
                        ],
                        "passed_time": 0.7019936308,
                        "remaining_time": 0.9359915078,
                        "test": [
                          236.6382384
                        ]
                      },
                      {
                        "iteration": 405,
                        "learn": [
                          141.2648399
                        ],
                        "passed_time": 0.703849001,
                        "remaining_time": 0.9344202255,
                        "test": [
                          236.5061791
                        ]
                      },
                      {
                        "iteration": 406,
                        "learn": [
                          141.1584387
                        ],
                        "passed_time": 0.708142031,
                        "remaining_time": 0.93606981,
                        "test": [
                          236.515623
                        ]
                      },
                      {
                        "iteration": 407,
                        "learn": [
                          140.9874514
                        ],
                        "passed_time": 0.7117267886,
                        "remaining_time": 0.9367580527,
                        "test": [
                          236.459166
                        ]
                      },
                      {
                        "iteration": 408,
                        "learn": [
                          140.7692573
                        ],
                        "passed_time": 0.7146389785,
                        "remaining_time": 0.9365439914,
                        "test": [
                          236.4752194
                        ]
                      },
                      {
                        "iteration": 409,
                        "learn": [
                          140.5875683
                        ],
                        "passed_time": 0.7166954472,
                        "remaining_time": 0.9352001567,
                        "test": [
                          236.3820672
                        ]
                      },
                      {
                        "iteration": 410,
                        "learn": [
                          140.3312858
                        ],
                        "passed_time": 0.718609093,
                        "remaining_time": 0.9336672888,
                        "test": [
                          236.2267399
                        ]
                      },
                      {
                        "iteration": 411,
                        "learn": [
                          140.1413179
                        ],
                        "passed_time": 0.7200938015,
                        "remaining_time": 0.9315776607,
                        "test": [
                          236.1565042
                        ]
                      },
                      {
                        "iteration": 412,
                        "learn": [
                          139.8797788
                        ],
                        "passed_time": 0.7216809903,
                        "remaining_time": 0.9296229705,
                        "test": [
                          236.0383271
                        ]
                      },
                      {
                        "iteration": 413,
                        "learn": [
                          139.7309971
                        ],
                        "passed_time": 0.7236586147,
                        "remaining_time": 0.9281708319,
                        "test": [
                          235.9741412
                        ]
                      },
                      {
                        "iteration": 414,
                        "learn": [
                          139.530264
                        ],
                        "passed_time": 0.7250014618,
                        "remaining_time": 0.9259054813,
                        "test": [
                          235.9356944
                        ]
                      },
                      {
                        "iteration": 415,
                        "learn": [
                          139.3959383
                        ],
                        "passed_time": 0.7262033946,
                        "remaining_time": 0.9234653743,
                        "test": [
                          235.8196271
                        ]
                      },
                      {
                        "iteration": 416,
                        "learn": [
                          139.1755168
                        ],
                        "passed_time": 0.7281078145,
                        "remaining_time": 0.921920686,
                        "test": [
                          235.7149477
                        ]
                      },
                      {
                        "iteration": 417,
                        "learn": [
                          139.0427951
                        ],
                        "passed_time": 0.7294572058,
                        "remaining_time": 0.9196745154,
                        "test": [
                          235.6559119
                        ]
                      },
                      {
                        "iteration": 418,
                        "learn": [
                          138.8870273
                        ],
                        "passed_time": 0.7306254335,
                        "remaining_time": 0.9172051981,
                        "test": [
                          235.6893545
                        ]
                      },
                      {
                        "iteration": 419,
                        "learn": [
                          138.6617358
                        ],
                        "passed_time": 0.7324125335,
                        "remaining_time": 0.9155156668,
                        "test": [
                          235.5491647
                        ]
                      },
                      {
                        "iteration": 420,
                        "learn": [
                          138.4303945
                        ],
                        "passed_time": 0.7339309775,
                        "remaining_time": 0.9134912879,
                        "test": [
                          235.5941872
                        ]
                      },
                      {
                        "iteration": 421,
                        "learn": [
                          138.186467
                        ],
                        "passed_time": 0.7351218968,
                        "remaining_time": 0.9110633934,
                        "test": [
                          235.5592064
                        ]
                      },
                      {
                        "iteration": 422,
                        "learn": [
                          138.0467924
                        ],
                        "passed_time": 0.736844895,
                        "remaining_time": 0.9092979556,
                        "test": [
                          235.4861778
                        ]
                      },
                      {
                        "iteration": 423,
                        "learn": [
                          137.8772389
                        ],
                        "passed_time": 0.7383141148,
                        "remaining_time": 0.9072208816,
                        "test": [
                          235.4309919
                        ]
                      },
                      {
                        "iteration": 424,
                        "learn": [
                          137.6995156
                        ],
                        "passed_time": 0.7400885636,
                        "remaining_time": 0.9055201249,
                        "test": [
                          235.3801279
                        ]
                      },
                      {
                        "iteration": 425,
                        "learn": [
                          137.6167193
                        ],
                        "passed_time": 0.7416836715,
                        "remaining_time": 0.9036005294,
                        "test": [
                          235.4417479
                        ]
                      },
                      {
                        "iteration": 426,
                        "learn": [
                          137.3648393
                        ],
                        "passed_time": 0.7430114652,
                        "remaining_time": 0.9013581709,
                        "test": [
                          235.3214459
                        ]
                      },
                      {
                        "iteration": 427,
                        "learn": [
                          137.1850106
                        ],
                        "passed_time": 0.7448890079,
                        "remaining_time": 0.8997841521,
                        "test": [
                          235.2819978
                        ]
                      },
                      {
                        "iteration": 428,
                        "learn": [
                          137.1149823
                        ],
                        "passed_time": 0.7465648381,
                        "remaining_time": 0.897966099,
                        "test": [
                          235.3207598
                        ]
                      },
                      {
                        "iteration": 429,
                        "learn": [
                          136.9634041
                        ],
                        "passed_time": 0.7482445658,
                        "remaining_time": 0.8961533753,
                        "test": [
                          235.266928
                        ]
                      },
                      {
                        "iteration": 430,
                        "learn": [
                          136.824176
                        ],
                        "passed_time": 0.7500792148,
                        "remaining_time": 0.8945260241,
                        "test": [
                          235.2316152
                        ]
                      },
                      {
                        "iteration": 431,
                        "learn": [
                          136.7233707
                        ],
                        "passed_time": 0.7518756256,
                        "remaining_time": 0.8928523055,
                        "test": [
                          235.2322397
                        ]
                      },
                      {
                        "iteration": 432,
                        "learn": [
                          136.6121404
                        ],
                        "passed_time": 0.754408617,
                        "remaining_time": 0.8920489882,
                        "test": [
                          235.2829284
                        ]
                      },
                      {
                        "iteration": 433,
                        "learn": [
                          136.4435664
                        ],
                        "passed_time": 0.7562854515,
                        "remaining_time": 0.8904651284,
                        "test": [
                          235.2640392
                        ]
                      },
                      {
                        "iteration": 434,
                        "learn": [
                          136.366464
                        ],
                        "passed_time": 0.7585031966,
                        "remaining_time": 0.8892796098,
                        "test": [
                          235.2249854
                        ]
                      },
                      {
                        "iteration": 435,
                        "learn": [
                          136.2711471
                        ],
                        "passed_time": 0.7602948254,
                        "remaining_time": 0.8875918948,
                        "test": [
                          235.1859105
                        ]
                      },
                      {
                        "iteration": 436,
                        "learn": [
                          136.0506326
                        ],
                        "passed_time": 0.7620484367,
                        "remaining_time": 0.8858595099,
                        "test": [
                          235.1317482
                        ]
                      },
                      {
                        "iteration": 437,
                        "learn": [
                          135.9482412
                        ],
                        "passed_time": 0.7642533814,
                        "remaining_time": 0.8846494621,
                        "test": [
                          235.0833721
                        ]
                      },
                      {
                        "iteration": 438,
                        "learn": [
                          135.7699124
                        ],
                        "passed_time": 0.7665622596,
                        "remaining_time": 0.8835546773,
                        "test": [
                          235.0938465
                        ]
                      },
                      {
                        "iteration": 439,
                        "learn": [
                          135.6430022
                        ],
                        "passed_time": 0.7683615135,
                        "remaining_time": 0.8818694644,
                        "test": [
                          235.1017479
                        ]
                      },
                      {
                        "iteration": 440,
                        "learn": [
                          135.4933205
                        ],
                        "passed_time": 0.7700279442,
                        "remaining_time": 0.8800319362,
                        "test": [
                          235.0871756
                        ]
                      },
                      {
                        "iteration": 441,
                        "learn": [
                          135.3677141
                        ],
                        "passed_time": 0.7717680284,
                        "remaining_time": 0.8782790006,
                        "test": [
                          235.060801
                        ]
                      },
                      {
                        "iteration": 442,
                        "learn": [
                          135.1799427
                        ],
                        "passed_time": 0.7757225759,
                        "remaining_time": 0.8790355149,
                        "test": [
                          234.9643022
                        ]
                      },
                      {
                        "iteration": 443,
                        "learn": [
                          135.0262224
                        ],
                        "passed_time": 0.7773914792,
                        "remaining_time": 0.8771917367,
                        "test": [
                          234.8652743
                        ]
                      },
                      {
                        "iteration": 444,
                        "learn": [
                          134.8991078
                        ],
                        "passed_time": 0.783762379,
                        "remaining_time": 0.8806318865,
                        "test": [
                          234.8955076
                        ]
                      },
                      {
                        "iteration": 445,
                        "learn": [
                          134.8017831
                        ],
                        "passed_time": 0.787007243,
                        "remaining_time": 0.8805305252,
                        "test": [
                          234.9224792
                        ]
                      },
                      {
                        "iteration": 446,
                        "learn": [
                          134.5516797
                        ],
                        "passed_time": 0.7893473991,
                        "remaining_time": 0.8794071694,
                        "test": [
                          234.7485631
                        ]
                      },
                      {
                        "iteration": 447,
                        "learn": [
                          134.4561536
                        ],
                        "passed_time": 0.7926766674,
                        "remaining_time": 0.8793756779,
                        "test": [
                          234.8370881
                        ]
                      },
                      {
                        "iteration": 448,
                        "learn": [
                          134.3048756
                        ],
                        "passed_time": 0.7946028594,
                        "remaining_time": 0.8777795507,
                        "test": [
                          234.7253208
                        ]
                      },
                      {
                        "iteration": 449,
                        "learn": [
                          134.1971174
                        ],
                        "passed_time": 0.7998166755,
                        "remaining_time": 0.8797983431,
                        "test": [
                          234.7535019
                        ]
                      },
                      {
                        "iteration": 450,
                        "learn": [
                          133.9661847
                        ],
                        "passed_time": 0.8018482273,
                        "remaining_time": 0.8782993886,
                        "test": [
                          234.6013222
                        ]
                      },
                      {
                        "iteration": 451,
                        "learn": [
                          133.8688464
                        ],
                        "passed_time": 0.8037273344,
                        "remaining_time": 0.876631805,
                        "test": [
                          234.6037234
                        ]
                      },
                      {
                        "iteration": 452,
                        "learn": [
                          133.7546819
                        ],
                        "passed_time": 0.8086349933,
                        "remaining_time": 0.8782525755,
                        "test": [
                          234.6529612
                        ]
                      },
                      {
                        "iteration": 453,
                        "learn": [
                          133.5585017
                        ],
                        "passed_time": 0.8109957097,
                        "remaining_time": 0.8770900737,
                        "test": [
                          234.5353521
                        ]
                      },
                      {
                        "iteration": 454,
                        "learn": [
                          133.4108423
                        ],
                        "passed_time": 0.8168448464,
                        "remaining_time": 0.8796790654,
                        "test": [
                          234.5454304
                        ]
                      },
                      {
                        "iteration": 455,
                        "learn": [
                          133.23576
                        ],
                        "passed_time": 0.818588894,
                        "remaining_time": 0.8778288798,
                        "test": [
                          234.5080114
                        ]
                      },
                      {
                        "iteration": 456,
                        "learn": [
                          133.1019447
                        ],
                        "passed_time": 0.8222119138,
                        "remaining_time": 0.8779855885,
                        "test": [
                          234.4741145
                        ]
                      },
                      {
                        "iteration": 457,
                        "learn": [
                          133.0350053
                        ],
                        "passed_time": 0.8235438433,
                        "remaining_time": 0.8756896325,
                        "test": [
                          234.4806701
                        ]
                      },
                      {
                        "iteration": 458,
                        "learn": [
                          132.9076911
                        ],
                        "passed_time": 0.827011375,
                        "remaining_time": 0.875659103,
                        "test": [
                          234.3369554
                        ]
                      },
                      {
                        "iteration": 459,
                        "learn": [
                          132.7645263
                        ],
                        "passed_time": 0.8287646995,
                        "remaining_time": 0.8738062592,
                        "test": [
                          234.3706358
                        ]
                      },
                      {
                        "iteration": 460,
                        "learn": [
                          132.5661284
                        ],
                        "passed_time": 0.8327278739,
                        "remaining_time": 0.87427395,
                        "test": [
                          234.3244088
                        ]
                      },
                      {
                        "iteration": 461,
                        "learn": [
                          132.4384326
                        ],
                        "passed_time": 0.8347329428,
                        "remaining_time": 0.8726753493,
                        "test": [
                          234.1290704
                        ]
                      },
                      {
                        "iteration": 462,
                        "learn": [
                          132.2429806
                        ],
                        "passed_time": 0.8375736759,
                        "remaining_time": 0.8719449498,
                        "test": [
                          234.0170275
                        ]
                      },
                      {
                        "iteration": 463,
                        "learn": [
                          132.1442212
                        ],
                        "passed_time": 0.8404036385,
                        "remaining_time": 0.8711942891,
                        "test": [
                          233.9426106
                        ]
                      },
                      {
                        "iteration": 464,
                        "learn": [
                          132.0055656
                        ],
                        "passed_time": 0.8443253251,
                        "remaining_time": 0.8715616259,
                        "test": [
                          233.9328982
                        ]
                      },
                      {
                        "iteration": 465,
                        "learn": [
                          131.871113
                        ],
                        "passed_time": 0.849467962,
                        "remaining_time": 0.8731655661,
                        "test": [
                          233.9593505
                        ]
                      },
                      {
                        "iteration": 466,
                        "learn": [
                          131.687974
                        ],
                        "passed_time": 0.853157748,
                        "remaining_time": 0.8732535408,
                        "test": [
                          233.9543477
                        ]
                      },
                      {
                        "iteration": 467,
                        "learn": [
                          131.5554189
                        ],
                        "passed_time": 0.8613269127,
                        "remaining_time": 0.8778908918,
                        "test": [
                          233.9434318
                        ]
                      },
                      {
                        "iteration": 468,
                        "learn": [
                          131.4301197
                        ],
                        "passed_time": 0.864125887,
                        "remaining_time": 0.8770232883,
                        "test": [
                          233.9177649
                        ]
                      },
                      {
                        "iteration": 469,
                        "learn": [
                          131.2500451
                        ],
                        "passed_time": 0.8671229662,
                        "remaining_time": 0.8763476786,
                        "test": [
                          233.9629847
                        ]
                      },
                      {
                        "iteration": 470,
                        "learn": [
                          131.1217473
                        ],
                        "passed_time": 0.8691099265,
                        "remaining_time": 0.8746456585,
                        "test": [
                          233.9902831
                        ]
                      },
                      {
                        "iteration": 471,
                        "learn": [
                          131.006911
                        ],
                        "passed_time": 0.871056513,
                        "remaining_time": 0.8729019717,
                        "test": [
                          233.9595271
                        ]
                      },
                      {
                        "iteration": 472,
                        "learn": [
                          130.7132002
                        ],
                        "passed_time": 0.8772155758,
                        "remaining_time": 0.8753609974,
                        "test": [
                          233.9325204
                        ]
                      },
                      {
                        "iteration": 473,
                        "learn": [
                          130.557997
                        ],
                        "passed_time": 0.8837631512,
                        "remaining_time": 0.8781697136,
                        "test": [
                          233.9018033
                        ]
                      },
                      {
                        "iteration": 474,
                        "learn": [
                          130.4548966
                        ],
                        "passed_time": 0.8851183208,
                        "remaining_time": 0.8758012859,
                        "test": [
                          233.9317989
                        ]
                      },
                      {
                        "iteration": 475,
                        "learn": [
                          130.3103556
                        ],
                        "passed_time": 0.8864081705,
                        "remaining_time": 0.8733727563,
                        "test": [
                          233.949372
                        ]
                      },
                      {
                        "iteration": 476,
                        "learn": [
                          130.2433512
                        ],
                        "passed_time": 0.8875463498,
                        "remaining_time": 0.8708001922,
                        "test": [
                          234.0729655
                        ]
                      },
                      {
                        "iteration": 477,
                        "learn": [
                          130.1716812
                        ],
                        "passed_time": 0.8894930585,
                        "remaining_time": 0.869023553,
                        "test": [
                          234.1223057
                        ]
                      },
                      {
                        "iteration": 478,
                        "learn": [
                          130.0428574
                        ],
                        "passed_time": 0.8914725329,
                        "remaining_time": 0.86727808,
                        "test": [
                          234.1121298
                        ]
                      },
                      {
                        "iteration": 479,
                        "learn": [
                          129.7719229
                        ],
                        "passed_time": 0.8927474883,
                        "remaining_time": 0.8648491293,
                        "test": [
                          234.1145691
                        ]
                      },
                      {
                        "iteration": 480,
                        "learn": [
                          129.6233452
                        ],
                        "passed_time": 0.8940737785,
                        "remaining_time": 0.8624744973,
                        "test": [
                          234.1278831
                        ]
                      },
                      {
                        "iteration": 481,
                        "learn": [
                          129.5530744
                        ],
                        "passed_time": 0.8952890129,
                        "remaining_time": 0.8599975373,
                        "test": [
                          234.2415221
                        ]
                      },
                      {
                        "iteration": 482,
                        "learn": [
                          129.360726
                        ],
                        "passed_time": 0.8971032106,
                        "remaining_time": 0.8580987232,
                        "test": [
                          234.1398948
                        ]
                      },
                      {
                        "iteration": 483,
                        "learn": [
                          129.1904984
                        ],
                        "passed_time": 0.8991895923,
                        "remaining_time": 0.8564595083,
                        "test": [
                          234.0161644
                        ]
                      },
                      {
                        "iteration": 484,
                        "learn": [
                          129.0654572
                        ],
                        "passed_time": 0.9007935429,
                        "remaining_time": 0.854360886,
                        "test": [
                          234.0329415
                        ]
                      },
                      {
                        "iteration": 485,
                        "learn": [
                          128.862058
                        ],
                        "passed_time": 0.9020465495,
                        "remaining_time": 0.8519328523,
                        "test": [
                          233.9262702
                        ]
                      },
                      {
                        "iteration": 486,
                        "learn": [
                          128.682265
                        ],
                        "passed_time": 0.9032325435,
                        "remaining_time": 0.8494466221,
                        "test": [
                          233.8988583
                        ]
                      },
                      {
                        "iteration": 487,
                        "learn": [
                          128.5493798
                        ],
                        "passed_time": 0.9044671506,
                        "remaining_time": 0.8470112455,
                        "test": [
                          233.7744594
                        ]
                      },
                      {
                        "iteration": 488,
                        "learn": [
                          128.4489124
                        ],
                        "passed_time": 0.9061516622,
                        "remaining_time": 0.845000323,
                        "test": [
                          233.7880289
                        ]
                      },
                      {
                        "iteration": 489,
                        "learn": [
                          128.3760627
                        ],
                        "passed_time": 0.9079329979,
                        "remaining_time": 0.8430806409,
                        "test": [
                          233.8062581
                        ]
                      },
                      {
                        "iteration": 490,
                        "learn": [
                          128.1790822
                        ],
                        "passed_time": 0.9099367924,
                        "remaining_time": 0.8413672174,
                        "test": [
                          233.8576801
                        ]
                      },
                      {
                        "iteration": 491,
                        "learn": [
                          128.1289663
                        ],
                        "passed_time": 0.9113734315,
                        "remaining_time": 0.8391304156,
                        "test": [
                          233.7817263
                        ]
                      },
                      {
                        "iteration": 492,
                        "learn": [
                          127.9451095
                        ],
                        "passed_time": 0.9125741685,
                        "remaining_time": 0.8366805764,
                        "test": [
                          233.7881127
                        ]
                      },
                      {
                        "iteration": 493,
                        "learn": [
                          127.8069612
                        ],
                        "passed_time": 0.9137124286,
                        "remaining_time": 0.8341787556,
                        "test": [
                          233.8697768
                        ]
                      },
                      {
                        "iteration": 494,
                        "learn": [
                          127.6505927
                        ],
                        "passed_time": 0.9152607652,
                        "remaining_time": 0.8320552411,
                        "test": [
                          233.8939092
                        ]
                      },
                      {
                        "iteration": 495,
                        "learn": [
                          127.5368744
                        ],
                        "passed_time": 0.9172022547,
                        "remaining_time": 0.8302899442,
                        "test": [
                          233.9374641
                        ]
                      },
                      {
                        "iteration": 496,
                        "learn": [
                          127.4310444
                        ],
                        "passed_time": 0.918854412,
                        "remaining_time": 0.8282631319,
                        "test": [
                          233.712876
                        ]
                      },
                      {
                        "iteration": 497,
                        "learn": [
                          127.3658167
                        ],
                        "passed_time": 0.920120122,
                        "remaining_time": 0.8258909529,
                        "test": [
                          233.7050141
                        ]
                      },
                      {
                        "iteration": 498,
                        "learn": [
                          127.184714
                        ],
                        "passed_time": 0.9213158146,
                        "remaining_time": 0.8234606279,
                        "test": [
                          233.5898346
                        ]
                      },
                      {
                        "iteration": 499,
                        "learn": [
                          127.0588618
                        ],
                        "passed_time": 0.9227613224,
                        "remaining_time": 0.8212575769,
                        "test": [
                          233.5120553
                        ]
                      },
                      {
                        "iteration": 500,
                        "learn": [
                          126.8823275
                        ],
                        "passed_time": 0.9246820674,
                        "remaining_time": 0.8194787185,
                        "test": [
                          233.4717729
                        ]
                      },
                      {
                        "iteration": 501,
                        "learn": [
                          126.7320045
                        ],
                        "passed_time": 0.9266496483,
                        "remaining_time": 0.8177406259,
                        "test": [
                          233.5156742
                        ]
                      },
                      {
                        "iteration": 502,
                        "learn": [
                          126.6772164
                        ],
                        "passed_time": 0.9284826614,
                        "remaining_time": 0.8158833725,
                        "test": [
                          233.4856006
                        ]
                      },
                      {
                        "iteration": 503,
                        "learn": [
                          126.5673454
                        ],
                        "passed_time": 0.9303495224,
                        "remaining_time": 0.8140558321,
                        "test": [
                          233.4222116
                        ]
                      },
                      {
                        "iteration": 504,
                        "learn": [
                          126.3188092
                        ],
                        "passed_time": 0.9356241627,
                        "remaining_time": 0.8151972903,
                        "test": [
                          233.4123334
                        ]
                      },
                      {
                        "iteration": 505,
                        "learn": [
                          126.1050361
                        ],
                        "passed_time": 0.938213029,
                        "remaining_time": 0.8139832405,
                        "test": [
                          233.5194169
                        ]
                      },
                      {
                        "iteration": 506,
                        "learn": [
                          125.9667662
                        ],
                        "passed_time": 0.9402375919,
                        "remaining_time": 0.8122762629,
                        "test": [
                          233.5303501
                        ]
                      },
                      {
                        "iteration": 507,
                        "learn": [
                          125.7404062
                        ],
                        "passed_time": 0.9456460982,
                        "remaining_time": 0.8134790254,
                        "test": [
                          233.5371538
                        ]
                      },
                      {
                        "iteration": 508,
                        "learn": [
                          125.5549947
                        ],
                        "passed_time": 0.9475856696,
                        "remaining_time": 0.8116843849,
                        "test": [
                          233.5376099
                        ]
                      },
                      {
                        "iteration": 509,
                        "learn": [
                          125.3949291
                        ],
                        "passed_time": 0.9717578366,
                        "remaining_time": 0.8288522724,
                        "test": [
                          233.4677359
                        ]
                      },
                      {
                        "iteration": 510,
                        "learn": [
                          125.3204428
                        ],
                        "passed_time": 0.9738329738,
                        "remaining_time": 0.8270910189,
                        "test": [
                          233.5130202
                        ]
                      },
                      {
                        "iteration": 511,
                        "learn": [
                          125.2147357
                        ],
                        "passed_time": 0.977299387,
                        "remaining_time": 0.8265051457,
                        "test": [
                          233.5380179
                        ]
                      },
                      {
                        "iteration": 512,
                        "learn": [
                          125.13829
                        ],
                        "passed_time": 0.9915223717,
                        "remaining_time": 0.8349662077,
                        "test": [
                          233.3704049
                        ]
                      },
                      {
                        "iteration": 513,
                        "learn": [
                          124.9964636
                        ],
                        "passed_time": 0.9936323203,
                        "remaining_time": 0.8331819651,
                        "test": [
                          233.4334084
                        ]
                      },
                      {
                        "iteration": 514,
                        "learn": [
                          124.7975753
                        ],
                        "passed_time": 0.9970894872,
                        "remaining_time": 0.8325213194,
                        "test": [
                          233.3988244
                        ]
                      },
                      {
                        "iteration": 515,
                        "learn": [
                          124.6691967
                        ],
                        "passed_time": 1.000521384,
                        "remaining_time": 0.8318288254,
                        "test": [
                          233.4179956
                        ]
                      },
                      {
                        "iteration": 516,
                        "learn": [
                          124.48765
                        ],
                        "passed_time": 1.021955566,
                        "remaining_time": 0.8460289791,
                        "test": [
                          233.2791513
                        ]
                      },
                      {
                        "iteration": 517,
                        "learn": [
                          124.4243963
                        ],
                        "passed_time": 1.023641894,
                        "remaining_time": 0.8438129128,
                        "test": [
                          233.4365721
                        ]
                      },
                      {
                        "iteration": 518,
                        "learn": [
                          124.2611021
                        ],
                        "passed_time": 1.029460449,
                        "remaining_time": 0.8449906574,
                        "test": [
                          233.3601317
                        ]
                      },
                      {
                        "iteration": 519,
                        "learn": [
                          124.1038003
                        ],
                        "passed_time": 1.030806925,
                        "remaining_time": 0.8424864292,
                        "test": [
                          233.3258228
                        ]
                      },
                      {
                        "iteration": 520,
                        "learn": [
                          123.9285579
                        ],
                        "passed_time": 1.032044346,
                        "remaining_time": 0.8398978936,
                        "test": [
                          233.4075996
                        ]
                      },
                      {
                        "iteration": 521,
                        "learn": [
                          123.8239665
                        ],
                        "passed_time": 1.033646281,
                        "remaining_time": 0.8376099177,
                        "test": [
                          233.4282556
                        ]
                      },
                      {
                        "iteration": 522,
                        "learn": [
                          123.670256
                        ],
                        "passed_time": 1.035341493,
                        "remaining_time": 0.8353998279,
                        "test": [
                          233.4193651
                        ]
                      },
                      {
                        "iteration": 523,
                        "learn": [
                          123.5148371
                        ],
                        "passed_time": 1.038992856,
                        "remaining_time": 0.8347633441,
                        "test": [
                          233.4086725
                        ]
                      },
                      {
                        "iteration": 524,
                        "learn": [
                          123.4482413
                        ],
                        "passed_time": 1.04659931,
                        "remaining_time": 0.8372794483,
                        "test": [
                          233.2645583
                        ]
                      },
                      {
                        "iteration": 525,
                        "learn": [
                          123.291699
                        ],
                        "passed_time": 1.053494273,
                        "remaining_time": 0.8391903051,
                        "test": [
                          233.1887689
                        ]
                      },
                      {
                        "iteration": 526,
                        "learn": [
                          123.1817699
                        ],
                        "passed_time": 1.05565455,
                        "remaining_time": 0.8373123378,
                        "test": [
                          233.1313139
                        ]
                      },
                      {
                        "iteration": 527,
                        "learn": [
                          123.067215
                        ],
                        "passed_time": 1.057549141,
                        "remaining_time": 0.8352234691,
                        "test": [
                          233.1597999
                        ]
                      },
                      {
                        "iteration": 528,
                        "learn": [
                          122.9579986
                        ],
                        "passed_time": 1.067162133,
                        "remaining_time": 0.8392050046,
                        "test": [
                          233.183773
                        ]
                      },
                      {
                        "iteration": 529,
                        "learn": [
                          122.8456775
                        ],
                        "passed_time": 1.069979597,
                        "remaining_time": 0.8378142128,
                        "test": [
                          233.0673691
                        ]
                      },
                      {
                        "iteration": 530,
                        "learn": [
                          122.640354
                        ],
                        "passed_time": 1.072309991,
                        "remaining_time": 0.8360382983,
                        "test": [
                          233.0412413
                        ]
                      },
                      {
                        "iteration": 531,
                        "learn": [
                          122.4829595
                        ],
                        "passed_time": 1.074677234,
                        "remaining_time": 0.8342889052,
                        "test": [
                          233.0304143
                        ]
                      },
                      {
                        "iteration": 532,
                        "learn": [
                          122.2888503
                        ],
                        "passed_time": 1.076964798,
                        "remaining_time": 0.8324756034,
                        "test": [
                          233.0078766
                        ]
                      },
                      {
                        "iteration": 533,
                        "learn": [
                          122.2052462
                        ],
                        "passed_time": 1.080333855,
                        "remaining_time": 0.831492911,
                        "test": [
                          233.0468367
                        ]
                      },
                      {
                        "iteration": 534,
                        "learn": [
                          122.055879
                        ],
                        "passed_time": 1.082308137,
                        "remaining_time": 0.8294324038,
                        "test": [
                          232.8845636
                        ]
                      },
                      {
                        "iteration": 535,
                        "learn": [
                          121.9190189
                        ],
                        "passed_time": 1.084380758,
                        "remaining_time": 0.8274472576,
                        "test": [
                          232.8604919
                        ]
                      },
                      {
                        "iteration": 536,
                        "learn": [
                          121.8200352
                        ],
                        "passed_time": 1.087017556,
                        "remaining_time": 0.825890434,
                        "test": [
                          232.8750952
                        ]
                      },
                      {
                        "iteration": 537,
                        "learn": [
                          121.653065
                        ],
                        "passed_time": 1.088737577,
                        "remaining_time": 0.8236360481,
                        "test": [
                          232.7951382
                        ]
                      },
                      {
                        "iteration": 538,
                        "learn": [
                          121.5179849
                        ],
                        "passed_time": 1.091032214,
                        "remaining_time": 0.821816473,
                        "test": [
                          232.8289877
                        ]
                      },
                      {
                        "iteration": 539,
                        "learn": [
                          121.353329
                        ],
                        "passed_time": 1.094281051,
                        "remaining_time": 0.8207107883,
                        "test": [
                          232.8249153
                        ]
                      },
                      {
                        "iteration": 540,
                        "learn": [
                          121.2845206
                        ],
                        "passed_time": 1.099146254,
                        "remaining_time": 0.8208042266,
                        "test": [
                          232.8458016
                        ]
                      },
                      {
                        "iteration": 541,
                        "learn": [
                          121.2005688
                        ],
                        "passed_time": 1.102595824,
                        "remaining_time": 0.8198267845,
                        "test": [
                          232.8146615
                        ]
                      },
                      {
                        "iteration": 542,
                        "learn": [
                          121.0315684
                        ],
                        "passed_time": 1.104556591,
                        "remaining_time": 0.8177380287,
                        "test": [
                          232.7409453
                        ]
                      },
                      {
                        "iteration": 543,
                        "learn": [
                          120.8709619
                        ],
                        "passed_time": 1.106294182,
                        "remaining_time": 0.8154852332,
                        "test": [
                          232.6322517
                        ]
                      },
                      {
                        "iteration": 544,
                        "learn": [
                          120.7151558
                        ],
                        "passed_time": 1.108046989,
                        "remaining_time": 0.8132454965,
                        "test": [
                          232.6407648
                        ]
                      },
                      {
                        "iteration": 545,
                        "learn": [
                          120.6241229
                        ],
                        "passed_time": 1.109831601,
                        "remaining_time": 0.8110307856,
                        "test": [
                          232.5969144
                        ]
                      },
                      {
                        "iteration": 546,
                        "learn": [
                          120.4965995
                        ],
                        "passed_time": 1.111585303,
                        "remaining_time": 0.8087951565,
                        "test": [
                          232.5408519
                        ]
                      },
                      {
                        "iteration": 547,
                        "learn": [
                          120.431907
                        ],
                        "passed_time": 1.113273081,
                        "remaining_time": 0.8065135275,
                        "test": [
                          232.5559942
                        ]
                      },
                      {
                        "iteration": 548,
                        "learn": [
                          120.3467271
                        ],
                        "passed_time": 1.114776237,
                        "remaining_time": 0.8041008922,
                        "test": [
                          232.4769183
                        ]
                      },
                      {
                        "iteration": 549,
                        "learn": [
                          120.2707555
                        ],
                        "passed_time": 1.116580942,
                        "remaining_time": 0.8019081307,
                        "test": [
                          232.4602368
                        ]
                      },
                      {
                        "iteration": 550,
                        "learn": [
                          120.2081729
                        ],
                        "passed_time": 1.118238566,
                        "remaining_time": 0.7996116061,
                        "test": [
                          232.4579919
                        ]
                      },
                      {
                        "iteration": 551,
                        "learn": [
                          120.0954624
                        ],
                        "passed_time": 1.119479283,
                        "remaining_time": 0.7970205762,
                        "test": [
                          232.450898
                        ]
                      },
                      {
                        "iteration": 552,
                        "learn": [
                          120.0295875
                        ],
                        "passed_time": 1.121204473,
                        "remaining_time": 0.7947778546,
                        "test": [
                          232.4239004
                        ]
                      },
                      {
                        "iteration": 553,
                        "learn": [
                          119.8801107
                        ],
                        "passed_time": 1.122549426,
                        "remaining_time": 0.7922686384,
                        "test": [
                          232.3948005
                        ]
                      },
                      {
                        "iteration": 554,
                        "learn": [
                          119.773462
                        ],
                        "passed_time": 1.123838068,
                        "remaining_time": 0.7897240477,
                        "test": [
                          232.4084747
                        ]
                      },
                      {
                        "iteration": 555,
                        "learn": [
                          119.7521874
                        ],
                        "passed_time": 1.125020999,
                        "remaining_time": 0.7871100157,
                        "test": [
                          232.3977926
                        ]
                      },
                      {
                        "iteration": 556,
                        "learn": [
                          119.624957
                        ],
                        "passed_time": 1.126201111,
                        "remaining_time": 0.7844991581,
                        "test": [
                          232.4040372
                        ]
                      },
                      {
                        "iteration": 557,
                        "learn": [
                          119.4718493
                        ],
                        "passed_time": 1.127428561,
                        "remaining_time": 0.7819262601,
                        "test": [
                          232.3634592
                        ]
                      },
                      {
                        "iteration": 558,
                        "learn": [
                          119.3154236
                        ],
                        "passed_time": 1.128632175,
                        "remaining_time": 0.7793417164,
                        "test": [
                          232.4140741
                        ]
                      },
                      {
                        "iteration": 559,
                        "learn": [
                          119.2591527
                        ],
                        "passed_time": 1.129786646,
                        "remaining_time": 0.776728319,
                        "test": [
                          232.3160465
                        ]
                      },
                      {
                        "iteration": 560,
                        "learn": [
                          119.0582319
                        ],
                        "passed_time": 1.130958217,
                        "remaining_time": 0.774131828,
                        "test": [
                          232.2333929
                        ]
                      },
                      {
                        "iteration": 561,
                        "learn": [
                          118.8679163
                        ],
                        "passed_time": 1.132103953,
                        "remaining_time": 0.7715228005,
                        "test": [
                          232.0930961
                        ]
                      },
                      {
                        "iteration": 562,
                        "learn": [
                          118.7713256
                        ],
                        "passed_time": 1.133328646,
                        "remaining_time": 0.768972545,
                        "test": [
                          232.0636496
                        ]
                      },
                      {
                        "iteration": 563,
                        "learn": [
                          118.6505026
                        ],
                        "passed_time": 1.134514712,
                        "remaining_time": 0.7664008956,
                        "test": [
                          231.9865414
                        ]
                      },
                      {
                        "iteration": 564,
                        "learn": [
                          118.4148845
                        ],
                        "passed_time": 1.135689451,
                        "remaining_time": 0.7638265336,
                        "test": [
                          231.9095029
                        ]
                      },
                      {
                        "iteration": 565,
                        "learn": [
                          118.3064853
                        ],
                        "passed_time": 1.136884543,
                        "remaining_time": 0.7612707452,
                        "test": [
                          231.9356532
                        ]
                      },
                      {
                        "iteration": 566,
                        "learn": [
                          118.2777518
                        ],
                        "passed_time": 1.138005809,
                        "remaining_time": 0.7586705396,
                        "test": [
                          231.9240363
                        ]
                      },
                      {
                        "iteration": 567,
                        "learn": [
                          118.1270133
                        ],
                        "passed_time": 1.139194738,
                        "remaining_time": 0.7561204513,
                        "test": [
                          231.8908822
                        ]
                      },
                      {
                        "iteration": 568,
                        "learn": [
                          117.9182754
                        ],
                        "passed_time": 1.140376112,
                        "remaining_time": 0.753570155,
                        "test": [
                          231.9346974
                        ]
                      },
                      {
                        "iteration": 569,
                        "learn": [
                          117.8889353
                        ],
                        "passed_time": 1.141545957,
                        "remaining_time": 0.751017077,
                        "test": [
                          231.9078882
                        ]
                      },
                      {
                        "iteration": 570,
                        "learn": [
                          117.8141745
                        ],
                        "passed_time": 1.142766083,
                        "remaining_time": 0.7485017777,
                        "test": [
                          232.0619427
                        ]
                      },
                      {
                        "iteration": 571,
                        "learn": [
                          117.6708696
                        ],
                        "passed_time": 1.143989313,
                        "remaining_time": 0.745993031,
                        "test": [
                          231.9878066
                        ]
                      },
                      {
                        "iteration": 572,
                        "learn": [
                          117.5795664
                        ],
                        "passed_time": 1.145205809,
                        "remaining_time": 0.7434843996,
                        "test": [
                          231.9337452
                        ]
                      },
                      {
                        "iteration": 573,
                        "learn": [
                          117.37691
                        ],
                        "passed_time": 1.146409445,
                        "remaining_time": 0.7409719583,
                        "test": [
                          231.8896587
                        ]
                      },
                      {
                        "iteration": 574,
                        "learn": [
                          117.1856321
                        ],
                        "passed_time": 1.147578972,
                        "remaining_time": 0.7384421212,
                        "test": [
                          231.820858
                        ]
                      },
                      {
                        "iteration": 575,
                        "learn": [
                          117.1063486
                        ],
                        "passed_time": 1.148770155,
                        "remaining_time": 0.7359308803,
                        "test": [
                          231.8287257
                        ]
                      },
                      {
                        "iteration": 576,
                        "learn": [
                          116.9386414
                        ],
                        "passed_time": 1.149977853,
                        "remaining_time": 0.7334347483,
                        "test": [
                          231.8391664
                        ]
                      },
                      {
                        "iteration": 577,
                        "learn": [
                          116.7911129
                        ],
                        "passed_time": 1.151156952,
                        "remaining_time": 0.7309249156,
                        "test": [
                          231.7447072
                        ]
                      },
                      {
                        "iteration": 578,
                        "learn": [
                          116.733115
                        ],
                        "passed_time": 1.152403816,
                        "remaining_time": 0.7284625156,
                        "test": [
                          231.7696765
                        ]
                      },
                      {
                        "iteration": 579,
                        "learn": [
                          116.6314265
                        ],
                        "passed_time": 1.153698676,
                        "remaining_time": 0.7260345114,
                        "test": [
                          231.6808555
                        ]
                      },
                      {
                        "iteration": 580,
                        "learn": [
                          116.4927811
                        ],
                        "passed_time": 1.154836462,
                        "remaining_time": 0.7235120001,
                        "test": [
                          231.6563935
                        ]
                      },
                      {
                        "iteration": 581,
                        "learn": [
                          116.439473
                        ],
                        "passed_time": 1.157735326,
                        "remaining_time": 0.722092652,
                        "test": [
                          231.7969126
                        ]
                      },
                      {
                        "iteration": 582,
                        "learn": [
                          116.3556911
                        ],
                        "passed_time": 1.158910002,
                        "remaining_time": 0.7195976341,
                        "test": [
                          231.7550238
                        ]
                      },
                      {
                        "iteration": 583,
                        "learn": [
                          116.2626972
                        ],
                        "passed_time": 1.160156765,
                        "remaining_time": 0.717151699,
                        "test": [
                          231.7725076
                        ]
                      },
                      {
                        "iteration": 584,
                        "learn": [
                          116.2141484
                        ],
                        "passed_time": 1.161486607,
                        "remaining_time": 0.7147609888,
                        "test": [
                          231.803696
                        ]
                      },
                      {
                        "iteration": 585,
                        "learn": [
                          116.1033869
                        ],
                        "passed_time": 1.162758632,
                        "remaining_time": 0.7123384791,
                        "test": [
                          231.7959442
                        ]
                      },
                      {
                        "iteration": 586,
                        "learn": [
                          116.0216154
                        ],
                        "passed_time": 1.163925595,
                        "remaining_time": 0.7098558145,
                        "test": [
                          231.8236936
                        ]
                      },
                      {
                        "iteration": 587,
                        "learn": [
                          115.9478718
                        ],
                        "passed_time": 1.165213174,
                        "remaining_time": 0.7074508557,
                        "test": [
                          231.837623
                        ]
                      },
                      {
                        "iteration": 588,
                        "learn": [
                          115.8475808
                        ],
                        "passed_time": 1.166418628,
                        "remaining_time": 0.7050000534,
                        "test": [
                          231.7847317
                        ]
                      },
                      {
                        "iteration": 589,
                        "learn": [
                          115.6493026
                        ],
                        "passed_time": 1.167646015,
                        "remaining_time": 0.7025666701,
                        "test": [
                          231.7143121
                        ]
                      },
                      {
                        "iteration": 590,
                        "learn": [
                          115.5122849
                        ],
                        "passed_time": 1.16885922,
                        "remaining_time": 0.7001288729,
                        "test": [
                          231.7131433
                        ]
                      },
                      {
                        "iteration": 591,
                        "learn": [
                          115.3745711
                        ],
                        "passed_time": 1.170262327,
                        "remaining_time": 0.6978084485,
                        "test": [
                          231.6378091
                        ]
                      },
                      {
                        "iteration": 592,
                        "learn": [
                          115.2738048
                        ],
                        "passed_time": 1.171444827,
                        "remaining_time": 0.6953601671,
                        "test": [
                          231.5353707
                        ]
                      },
                      {
                        "iteration": 593,
                        "learn": [
                          115.0809011
                        ],
                        "passed_time": 1.172762472,
                        "remaining_time": 0.6929960062,
                        "test": [
                          231.4563871
                        ]
                      },
                      {
                        "iteration": 594,
                        "learn": [
                          115.0307276
                        ],
                        "passed_time": 1.1739603,
                        "remaining_time": 0.6905648821,
                        "test": [
                          231.5496749
                        ]
                      },
                      {
                        "iteration": 595,
                        "learn": [
                          114.9255939
                        ],
                        "passed_time": 1.175244753,
                        "remaining_time": 0.6881886223,
                        "test": [
                          231.4927382
                        ]
                      },
                      {
                        "iteration": 596,
                        "learn": [
                          114.7757536
                        ],
                        "passed_time": 1.176486476,
                        "remaining_time": 0.6857911116,
                        "test": [
                          231.5032731
                        ]
                      },
                      {
                        "iteration": 597,
                        "learn": [
                          114.568456
                        ],
                        "passed_time": 1.177782591,
                        "remaining_time": 0.6834290284,
                        "test": [
                          231.5230694
                        ]
                      },
                      {
                        "iteration": 598,
                        "learn": [
                          114.4482018
                        ],
                        "passed_time": 1.179051758,
                        "remaining_time": 0.6810549388,
                        "test": [
                          231.4575063
                        ]
                      },
                      {
                        "iteration": 599,
                        "learn": [
                          114.3105635
                        ],
                        "passed_time": 1.180327501,
                        "remaining_time": 0.6786883131,
                        "test": [
                          231.4273932
                        ]
                      },
                      {
                        "iteration": 600,
                        "learn": [
                          114.2686598
                        ],
                        "passed_time": 1.18160473,
                        "remaining_time": 0.676326168,
                        "test": [
                          231.4044491
                        ]
                      },
                      {
                        "iteration": 601,
                        "learn": [
                          114.2247988
                        ],
                        "passed_time": 1.18347858,
                        "remaining_time": 0.6743075631,
                        "test": [
                          231.4382327
                        ]
                      },
                      {
                        "iteration": 602,
                        "learn": [
                          114.0254174
                        ],
                        "passed_time": 1.184797111,
                        "remaining_time": 0.6719744809,
                        "test": [
                          231.4520827
                        ]
                      },
                      {
                        "iteration": 603,
                        "learn": [
                          113.9299503
                        ],
                        "passed_time": 1.185991103,
                        "remaining_time": 0.669574447,
                        "test": [
                          231.4226471
                        ]
                      },
                      {
                        "iteration": 604,
                        "learn": [
                          113.813947
                        ],
                        "passed_time": 1.187163606,
                        "remaining_time": 0.6671663242,
                        "test": [
                          231.4062658
                        ]
                      },
                      {
                        "iteration": 605,
                        "learn": [
                          113.6958678
                        ],
                        "passed_time": 1.188390242,
                        "remaining_time": 0.6647925611,
                        "test": [
                          231.3835093
                        ]
                      },
                      {
                        "iteration": 606,
                        "learn": [
                          113.575909
                        ],
                        "passed_time": 1.189514665,
                        "remaining_time": 0.6623656619,
                        "test": [
                          231.3585746
                        ]
                      },
                      {
                        "iteration": 607,
                        "learn": [
                          113.5098598
                        ],
                        "passed_time": 1.190681555,
                        "remaining_time": 0.6599665854,
                        "test": [
                          231.2468259
                        ]
                      },
                      {
                        "iteration": 608,
                        "learn": [
                          113.4103598
                        ],
                        "passed_time": 1.191863175,
                        "remaining_time": 0.6575796829,
                        "test": [
                          231.1674315
                        ]
                      },
                      {
                        "iteration": 609,
                        "learn": [
                          113.2405347
                        ],
                        "passed_time": 1.193053641,
                        "remaining_time": 0.6552015895,
                        "test": [
                          231.1718419
                        ]
                      },
                      {
                        "iteration": 610,
                        "learn": [
                          113.0999813
                        ],
                        "passed_time": 1.19419863,
                        "remaining_time": 0.6528025243,
                        "test": [
                          231.1170343
                        ]
                      },
                      {
                        "iteration": 611,
                        "learn": [
                          112.9951304
                        ],
                        "passed_time": 1.195389208,
                        "remaining_time": 0.6504323633,
                        "test": [
                          231.0990707
                        ]
                      },
                      {
                        "iteration": 612,
                        "learn": [
                          112.907095
                        ],
                        "passed_time": 1.198604335,
                        "remaining_time": 0.6491625434,
                        "test": [
                          231.0304262
                        ]
                      },
                      {
                        "iteration": 613,
                        "learn": [
                          112.6996121
                        ],
                        "passed_time": 1.201063141,
                        "remaining_time": 0.6474786637,
                        "test": [
                          230.9905943
                        ]
                      },
                      {
                        "iteration": 614,
                        "learn": [
                          112.6531888
                        ],
                        "passed_time": 1.202328229,
                        "remaining_time": 0.6451517328,
                        "test": [
                          230.9671786
                        ]
                      },
                      {
                        "iteration": 615,
                        "learn": [
                          112.6147709
                        ],
                        "passed_time": 1.203501654,
                        "remaining_time": 0.6427792925,
                        "test": [
                          230.9722083
                        ]
                      },
                      {
                        "iteration": 616,
                        "learn": [
                          112.5567664
                        ],
                        "passed_time": 1.204815999,
                        "remaining_time": 0.6404856525,
                        "test": [
                          230.9178583
                        ]
                      },
                      {
                        "iteration": 617,
                        "learn": [
                          112.4791079
                        ],
                        "passed_time": 1.205956655,
                        "remaining_time": 0.6381032785,
                        "test": [
                          230.8717693
                        ]
                      },
                      {
                        "iteration": 618,
                        "learn": [
                          112.4297258
                        ],
                        "passed_time": 1.207168269,
                        "remaining_time": 0.6357622872,
                        "test": [
                          230.8961998
                        ]
                      },
                      {
                        "iteration": 619,
                        "learn": [
                          112.3279793
                        ],
                        "passed_time": 1.208449546,
                        "remaining_time": 0.6334614557,
                        "test": [
                          230.8573787
                        ]
                      },
                      {
                        "iteration": 620,
                        "learn": [
                          112.2780829
                        ],
                        "passed_time": 1.209687626,
                        "remaining_time": 0.6311413703,
                        "test": [
                          230.8516235
                        ]
                      },
                      {
                        "iteration": 621,
                        "learn": [
                          112.1390278
                        ],
                        "passed_time": 1.210859337,
                        "remaining_time": 0.628790299,
                        "test": [
                          230.8136237
                        ]
                      },
                      {
                        "iteration": 622,
                        "learn": [
                          112.0559283
                        ],
                        "passed_time": 1.212009466,
                        "remaining_time": 0.6264318589,
                        "test": [
                          230.7393155
                        ]
                      },
                      {
                        "iteration": 623,
                        "learn": [
                          111.9650823
                        ],
                        "passed_time": 1.213230798,
                        "remaining_time": 0.6241139201,
                        "test": [
                          230.7189514
                        ]
                      },
                      {
                        "iteration": 624,
                        "learn": [
                          111.8342082
                        ],
                        "passed_time": 1.214436371,
                        "remaining_time": 0.6217914222,
                        "test": [
                          230.778187
                        ]
                      },
                      {
                        "iteration": 625,
                        "learn": [
                          111.7565024
                        ],
                        "passed_time": 1.215643098,
                        "remaining_time": 0.6194730801,
                        "test": [
                          230.8096426
                        ]
                      },
                      {
                        "iteration": 626,
                        "learn": [
                          111.6419005
                        ],
                        "passed_time": 1.216843175,
                        "remaining_time": 0.6171549118,
                        "test": [
                          230.7320234
                        ]
                      },
                      {
                        "iteration": 627,
                        "learn": [
                          111.5595838
                        ],
                        "passed_time": 1.218156472,
                        "remaining_time": 0.6148974547,
                        "test": [
                          230.69294
                        ]
                      },
                      {
                        "iteration": 628,
                        "learn": [
                          111.4572562
                        ],
                        "passed_time": 1.219386464,
                        "remaining_time": 0.6126011487,
                        "test": [
                          230.6803043
                        ]
                      },
                      {
                        "iteration": 629,
                        "learn": [
                          111.3746285
                        ],
                        "passed_time": 1.220558057,
                        "remaining_time": 0.6102790283,
                        "test": [
                          230.6265351
                        ]
                      },
                      {
                        "iteration": 630,
                        "learn": [
                          111.3214329
                        ],
                        "passed_time": 1.221754027,
                        "remaining_time": 0.6079726851,
                        "test": [
                          230.6868948
                        ]
                      },
                      {
                        "iteration": 631,
                        "learn": [
                          111.2557755
                        ],
                        "passed_time": 1.222925482,
                        "remaining_time": 0.6056577149,
                        "test": [
                          230.5667799
                        ]
                      },
                      {
                        "iteration": 632,
                        "learn": [
                          111.1486119
                        ],
                        "passed_time": 1.224102505,
                        "remaining_time": 0.603349102,
                        "test": [
                          230.5062909
                        ]
                      },
                      {
                        "iteration": 633,
                        "learn": [
                          111.0509706
                        ],
                        "passed_time": 1.225289877,
                        "remaining_time": 0.6010491353,
                        "test": [
                          230.525898
                        ]
                      },
                      {
                        "iteration": 634,
                        "learn": [
                          110.9786683
                        ],
                        "passed_time": 1.226534017,
                        "remaining_time": 0.5987803862,
                        "test": [
                          230.5523163
                        ]
                      },
                      {
                        "iteration": 635,
                        "learn": [
                          110.8612909
                        ],
                        "passed_time": 1.227681703,
                        "remaining_time": 0.5964679971,
                        "test": [
                          230.4975326
                        ]
                      },
                      {
                        "iteration": 636,
                        "learn": [
                          110.7368532
                        ],
                        "passed_time": 1.22882273,
                        "remaining_time": 0.5941560451,
                        "test": [
                          230.4819151
                        ]
                      },
                      {
                        "iteration": 637,
                        "learn": [
                          110.6750135
                        ],
                        "passed_time": 1.230026698,
                        "remaining_time": 0.5918780507,
                        "test": [
                          230.4791938
                        ]
                      },
                      {
                        "iteration": 638,
                        "learn": [
                          110.5791866
                        ],
                        "passed_time": 1.231287723,
                        "remaining_time": 0.5896307404,
                        "test": [
                          230.3545701
                        ]
                      },
                      {
                        "iteration": 639,
                        "learn": [
                          110.4960961
                        ],
                        "passed_time": 1.232485632,
                        "remaining_time": 0.587356434,
                        "test": [
                          230.3637218
                        ]
                      },
                      {
                        "iteration": 640,
                        "learn": [
                          110.356664
                        ],
                        "passed_time": 1.233761957,
                        "remaining_time": 0.5851226756,
                        "test": [
                          230.3599871
                        ]
                      },
                      {
                        "iteration": 641,
                        "learn": [
                          110.234068
                        ],
                        "passed_time": 1.235032754,
                        "remaining_time": 0.5828892906,
                        "test": [
                          230.3563147
                        ]
                      },
                      {
                        "iteration": 642,
                        "learn": [
                          110.1317031
                        ],
                        "passed_time": 1.236220603,
                        "remaining_time": 0.5806199413,
                        "test": [
                          230.3840231
                        ]
                      },
                      {
                        "iteration": 643,
                        "learn": [
                          110.0721971
                        ],
                        "passed_time": 1.237471128,
                        "remaining_time": 0.5783832445,
                        "test": [
                          230.3576523
                        ]
                      },
                      {
                        "iteration": 644,
                        "learn": [
                          109.9387222
                        ],
                        "passed_time": 1.238687674,
                        "remaining_time": 0.5761338019,
                        "test": [
                          230.3581426
                        ]
                      },
                      {
                        "iteration": 645,
                        "learn": [
                          109.8496751
                        ],
                        "passed_time": 1.240953896,
                        "remaining_time": 0.5743733975,
                        "test": [
                          230.3465933
                        ]
                      },
                      {
                        "iteration": 646,
                        "learn": [
                          109.7338135
                        ],
                        "passed_time": 1.242182255,
                        "remaining_time": 0.5721334035,
                        "test": [
                          230.3293037
                        ]
                      },
                      {
                        "iteration": 647,
                        "learn": [
                          109.6715556
                        ],
                        "passed_time": 1.243312041,
                        "remaining_time": 0.569851352,
                        "test": [
                          230.3388215
                        ]
                      },
                      {
                        "iteration": 648,
                        "learn": [
                          109.5364834
                        ],
                        "passed_time": 1.244594435,
                        "remaining_time": 0.5676424544,
                        "test": [
                          230.2811678
                        ]
                      },
                      {
                        "iteration": 649,
                        "learn": [
                          109.4820517
                        ],
                        "passed_time": 1.24572448,
                        "remaining_time": 0.5653672638,
                        "test": [
                          230.2511669
                        ]
                      },
                      {
                        "iteration": 650,
                        "learn": [
                          109.3818423
                        ],
                        "passed_time": 1.246920517,
                        "remaining_time": 0.5631253949,
                        "test": [
                          230.1454157
                        ]
                      },
                      {
                        "iteration": 651,
                        "learn": [
                          109.2743054
                        ],
                        "passed_time": 1.248188538,
                        "remaining_time": 0.5609190821,
                        "test": [
                          230.1919363
                        ]
                      },
                      {
                        "iteration": 652,
                        "learn": [
                          109.1750291
                        ],
                        "passed_time": 1.249409974,
                        "remaining_time": 0.5586948121,
                        "test": [
                          230.1906414
                        ]
                      },
                      {
                        "iteration": 653,
                        "learn": [
                          109.0600806
                        ],
                        "passed_time": 1.250588136,
                        "remaining_time": 0.556454354,
                        "test": [
                          230.1065458
                        ]
                      },
                      {
                        "iteration": 654,
                        "learn": [
                          108.9678271
                        ],
                        "passed_time": 1.251878638,
                        "remaining_time": 0.554266878,
                        "test": [
                          230.085573
                        ]
                      },
                      {
                        "iteration": 655,
                        "learn": [
                          108.7944417
                        ],
                        "passed_time": 1.253016771,
                        "remaining_time": 0.5520150106,
                        "test": [
                          230.1194731
                        ]
                      },
                      {
                        "iteration": 656,
                        "learn": [
                          108.7032289
                        ],
                        "passed_time": 1.254262268,
                        "remaining_time": 0.5498135969,
                        "test": [
                          230.1126708
                        ]
                      },
                      {
                        "iteration": 657,
                        "learn": [
                          108.6155936
                        ],
                        "passed_time": 1.255455631,
                        "remaining_time": 0.5475923498,
                        "test": [
                          230.0368791
                        ]
                      },
                      {
                        "iteration": 658,
                        "learn": [
                          108.5255253
                        ],
                        "passed_time": 1.256669641,
                        "remaining_time": 0.5453831824,
                        "test": [
                          229.9961589
                        ]
                      },
                      {
                        "iteration": 659,
                        "learn": [
                          108.3608032
                        ],
                        "passed_time": 1.257975323,
                        "remaining_time": 0.5432166168,
                        "test": [
                          230.0444162
                        ]
                      },
                      {
                        "iteration": 660,
                        "learn": [
                          108.2512724
                        ],
                        "passed_time": 1.25916603,
                        "remaining_time": 0.5410032564,
                        "test": [
                          230.0240768
                        ]
                      },
                      {
                        "iteration": 661,
                        "learn": [
                          108.1968111
                        ],
                        "passed_time": 1.260341093,
                        "remaining_time": 0.5387862983,
                        "test": [
                          229.9955482
                        ]
                      },
                      {
                        "iteration": 662,
                        "learn": [
                          108.0999919
                        ],
                        "passed_time": 1.26243952,
                        "remaining_time": 0.5369652259,
                        "test": [
                          229.9937586
                        ]
                      },
                      {
                        "iteration": 663,
                        "learn": [
                          107.9772198
                        ],
                        "passed_time": 1.265904717,
                        "remaining_time": 0.5357217253,
                        "test": [
                          229.9848559
                        ]
                      },
                      {
                        "iteration": 664,
                        "learn": [
                          107.8291187
                        ],
                        "passed_time": 1.2681404,
                        "remaining_time": 0.5339538525,
                        "test": [
                          229.973671
                        ]
                      },
                      {
                        "iteration": 665,
                        "learn": [
                          107.7774511
                        ],
                        "passed_time": 1.269611281,
                        "remaining_time": 0.5318641853,
                        "test": [
                          229.9431776
                        ]
                      },
                      {
                        "iteration": 666,
                        "learn": [
                          107.6039071
                        ],
                        "passed_time": 1.270790029,
                        "remaining_time": 0.5296546149,
                        "test": [
                          229.8827682
                        ]
                      },
                      {
                        "iteration": 667,
                        "learn": [
                          107.4431775
                        ],
                        "passed_time": 1.271957445,
                        "remaining_time": 0.5274434314,
                        "test": [
                          229.8428094
                        ]
                      },
                      {
                        "iteration": 668,
                        "learn": [
                          107.2980093
                        ],
                        "passed_time": 1.273196137,
                        "remaining_time": 0.525264774,
                        "test": [
                          229.7925124
                        ]
                      },
                      {
                        "iteration": 669,
                        "learn": [
                          107.1946444
                        ],
                        "passed_time": 1.274412498,
                        "remaining_time": 0.5230797567,
                        "test": [
                          229.7649098
                        ]
                      },
                      {
                        "iteration": 670,
                        "learn": [
                          107.0258848
                        ],
                        "passed_time": 1.27562046,
                        "remaining_time": 0.5208941968,
                        "test": [
                          229.6703222
                        ]
                      },
                      {
                        "iteration": 671,
                        "learn": [
                          106.9486312
                        ],
                        "passed_time": 1.276807256,
                        "remaining_time": 0.5187029477,
                        "test": [
                          229.6421401
                        ]
                      },
                      {
                        "iteration": 672,
                        "learn": [
                          106.8741211
                        ],
                        "passed_time": 1.277972589,
                        "remaining_time": 0.5165060093,
                        "test": [
                          229.5898723
                        ]
                      },
                      {
                        "iteration": 673,
                        "learn": [
                          106.7064566
                        ],
                        "passed_time": 1.279156448,
                        "remaining_time": 0.5143195809,
                        "test": [
                          229.5674745
                        ]
                      },
                      {
                        "iteration": 674,
                        "learn": [
                          106.5401946
                        ],
                        "passed_time": 1.280361516,
                        "remaining_time": 0.5121446064,
                        "test": [
                          229.456737
                        ]
                      },
                      {
                        "iteration": 675,
                        "learn": [
                          106.4533034
                        ],
                        "passed_time": 1.281534579,
                        "remaining_time": 0.5099597657,
                        "test": [
                          229.4502158
                        ]
                      },
                      {
                        "iteration": 676,
                        "learn": [
                          106.3942412
                        ],
                        "passed_time": 1.282681437,
                        "remaining_time": 0.5077675409,
                        "test": [
                          229.4542241
                        ]
                      },
                      {
                        "iteration": 677,
                        "learn": [
                          106.2028835
                        ],
                        "passed_time": 1.283833056,
                        "remaining_time": 0.5055802742,
                        "test": [
                          229.4178373
                        ]
                      },
                      {
                        "iteration": 678,
                        "learn": [
                          106.1407663
                        ],
                        "passed_time": 1.285110718,
                        "remaining_time": 0.5034454361,
                        "test": [
                          229.3779393
                        ]
                      },
                      {
                        "iteration": 679,
                        "learn": [
                          106.0732448
                        ],
                        "passed_time": 1.286243175,
                        "remaining_time": 0.5012565315,
                        "test": [
                          229.4405121
                        ]
                      },
                      {
                        "iteration": 680,
                        "learn": [
                          105.9819855
                        ],
                        "passed_time": 1.287370384,
                        "remaining_time": 0.499068695,
                        "test": [
                          229.4946091
                        ]
                      },
                      {
                        "iteration": 681,
                        "learn": [
                          105.9268949
                        ],
                        "passed_time": 1.288625743,
                        "remaining_time": 0.4969333876,
                        "test": [
                          229.4962177
                        ]
                      },
                      {
                        "iteration": 682,
                        "learn": [
                          105.8895505
                        ],
                        "passed_time": 1.289855208,
                        "remaining_time": 0.4947907241,
                        "test": [
                          229.5724961
                        ]
                      },
                      {
                        "iteration": 683,
                        "learn": [
                          105.7472206
                        ],
                        "passed_time": 1.291134461,
                        "remaining_time": 0.4926697286,
                        "test": [
                          229.4744642
                        ]
                      },
                      {
                        "iteration": 684,
                        "learn": [
                          105.7055828
                        ],
                        "passed_time": 1.292328155,
                        "remaining_time": 0.4905187157,
                        "test": [
                          229.4964787
                        ]
                      },
                      {
                        "iteration": 685,
                        "learn": [
                          105.6229443
                        ],
                        "passed_time": 1.293535093,
                        "remaining_time": 0.4883754944,
                        "test": [
                          229.4792233
                        ]
                      },
                      {
                        "iteration": 686,
                        "learn": [
                          105.5586728
                        ],
                        "passed_time": 1.2947527,
                        "remaining_time": 0.4862390054,
                        "test": [
                          229.4692154
                        ]
                      },
                      {
                        "iteration": 687,
                        "learn": [
                          105.4738159
                        ],
                        "passed_time": 1.295914808,
                        "remaining_time": 0.4840844557,
                        "test": [
                          229.4970402
                        ]
                      },
                      {
                        "iteration": 688,
                        "learn": [
                          105.4040153
                        ],
                        "passed_time": 1.297097993,
                        "remaining_time": 0.4819406184,
                        "test": [
                          229.4936488
                        ]
                      },
                      {
                        "iteration": 689,
                        "learn": [
                          105.3009938
                        ],
                        "passed_time": 1.298300164,
                        "remaining_time": 0.4798065822,
                        "test": [
                          229.5161997
                        ]
                      },
                      {
                        "iteration": 690,
                        "learn": [
                          105.2531074
                        ],
                        "passed_time": 1.299609323,
                        "remaining_time": 0.4777145702,
                        "test": [
                          229.5408617
                        ]
                      },
                      {
                        "iteration": 691,
                        "learn": [
                          105.1126232
                        ],
                        "passed_time": 1.300794554,
                        "remaining_time": 0.4755795117,
                        "test": [
                          229.5506654
                        ]
                      },
                      {
                        "iteration": 692,
                        "learn": [
                          104.9833566
                        ],
                        "passed_time": 1.302057494,
                        "remaining_time": 0.4734754523,
                        "test": [
                          229.531504
                        ]
                      },
                      {
                        "iteration": 693,
                        "learn": [
                          104.9035531
                        ],
                        "passed_time": 1.303327298,
                        "remaining_time": 0.4713762995,
                        "test": [
                          229.5295698
                        ]
                      },
                      {
                        "iteration": 694,
                        "learn": [
                          104.7628975
                        ],
                        "passed_time": 1.304525784,
                        "remaining_time": 0.4692538791,
                        "test": [
                          229.5003633
                        ]
                      },
                      {
                        "iteration": 695,
                        "learn": [
                          104.7152104
                        ],
                        "passed_time": 1.305722255,
                        "remaining_time": 0.4671333929,
                        "test": [
                          229.6142689
                        ]
                      },
                      {
                        "iteration": 696,
                        "learn": [
                          104.5665095
                        ],
                        "passed_time": 1.306965313,
                        "remaining_time": 0.4650321344,
                        "test": [
                          229.6062345
                        ]
                      },
                      {
                        "iteration": 697,
                        "learn": [
                          104.4369642
                        ],
                        "passed_time": 1.308275871,
                        "remaining_time": 0.462957221,
                        "test": [
                          229.6121413
                        ]
                      },
                      {
                        "iteration": 698,
                        "learn": [
                          104.3234466
                        ],
                        "passed_time": 1.309616959,
                        "remaining_time": 0.4608952389,
                        "test": [
                          229.5286448
                        ]
                      },
                      {
                        "iteration": 699,
                        "learn": [
                          104.202399
                        ],
                        "passed_time": 1.310800533,
                        "remaining_time": 0.4587801865,
                        "test": [
                          229.5034428
                        ]
                      },
                      {
                        "iteration": 700,
                        "learn": [
                          104.1573852
                        ],
                        "passed_time": 1.311941157,
                        "remaining_time": 0.456652842,
                        "test": [
                          229.520963
                        ]
                      },
                      {
                        "iteration": 701,
                        "learn": [
                          104.0540705
                        ],
                        "passed_time": 1.313122627,
                        "remaining_time": 0.454542448,
                        "test": [
                          229.4817081
                        ]
                      },
                      {
                        "iteration": 702,
                        "learn": [
                          103.9015932
                        ],
                        "passed_time": 1.314308102,
                        "remaining_time": 0.4524360748,
                        "test": [
                          229.4054601
                        ]
                      },
                      {
                        "iteration": 703,
                        "learn": [
                          103.8491937
                        ],
                        "passed_time": 1.315509648,
                        "remaining_time": 0.4503378198,
                        "test": [
                          229.3922
                        ]
                      },
                      {
                        "iteration": 704,
                        "learn": [
                          103.7542578
                        ],
                        "passed_time": 1.31671683,
                        "remaining_time": 0.4482440273,
                        "test": [
                          229.3804093
                        ]
                      },
                      {
                        "iteration": 705,
                        "learn": [
                          103.6919032
                        ],
                        "passed_time": 1.317881397,
                        "remaining_time": 0.44613832,
                        "test": [
                          229.3584614
                        ]
                      },
                      {
                        "iteration": 706,
                        "learn": [
                          103.5890683
                        ],
                        "passed_time": 1.319077827,
                        "remaining_time": 0.4440460012,
                        "test": [
                          229.2956391
                        ]
                      },
                      {
                        "iteration": 707,
                        "learn": [
                          103.4596372
                        ],
                        "passed_time": 1.320232115,
                        "remaining_time": 0.4419421063,
                        "test": [
                          229.3033769
                        ]
                      },
                      {
                        "iteration": 708,
                        "learn": [
                          103.3177025
                        ],
                        "passed_time": 1.321494829,
                        "remaining_time": 0.4398769812,
                        "test": [
                          229.2298256
                        ]
                      },
                      {
                        "iteration": 709,
                        "learn": [
                          103.2202822
                        ],
                        "passed_time": 1.322641285,
                        "remaining_time": 0.4377756367,
                        "test": [
                          229.2081136
                        ]
                      },
                      {
                        "iteration": 710,
                        "learn": [
                          103.1552281
                        ],
                        "passed_time": 1.323872567,
                        "remaining_time": 0.4357048956,
                        "test": [
                          229.224306
                        ]
                      },
                      {
                        "iteration": 711,
                        "learn": [
                          103.0823468
                        ],
                        "passed_time": 1.325183372,
                        "remaining_time": 0.4336625359,
                        "test": [
                          229.1944095
                        ]
                      },
                      {
                        "iteration": 712,
                        "learn": [
                          103.0236127
                        ],
                        "passed_time": 1.326379978,
                        "remaining_time": 0.4315850701,
                        "test": [
                          229.2018278
                        ]
                      },
                      {
                        "iteration": 713,
                        "learn": [
                          102.8966183
                        ],
                        "passed_time": 1.327685677,
                        "remaining_time": 0.429545366,
                        "test": [
                          229.1427729
                        ]
                      },
                      {
                        "iteration": 714,
                        "learn": [
                          102.8590492
                        ],
                        "passed_time": 1.328897132,
                        "remaining_time": 0.427477399,
                        "test": [
                          229.123696
                        ]
                      },
                      {
                        "iteration": 715,
                        "learn": [
                          102.7131616
                        ],
                        "passed_time": 1.330078704,
                        "remaining_time": 0.4254022671,
                        "test": [
                          228.9974724
                        ]
                      },
                      {
                        "iteration": 716,
                        "learn": [
                          102.6414613
                        ],
                        "passed_time": 1.331276704,
                        "remaining_time": 0.4233348514,
                        "test": [
                          228.9696339
                        ]
                      },
                      {
                        "iteration": 717,
                        "learn": [
                          102.5317575
                        ],
                        "passed_time": 1.332463548,
                        "remaining_time": 0.4212663305,
                        "test": [
                          228.977477
                        ]
                      },
                      {
                        "iteration": 718,
                        "learn": [
                          102.4375162
                        ],
                        "passed_time": 1.333673691,
                        "remaining_time": 0.4192075859,
                        "test": [
                          228.9886912
                        ]
                      },
                      {
                        "iteration": 719,
                        "learn": [
                          102.3532104
                        ],
                        "passed_time": 1.334932117,
                        "remaining_time": 0.4171662865,
                        "test": [
                          228.9502531
                        ]
                      },
                      {
                        "iteration": 720,
                        "learn": [
                          102.2186972
                        ],
                        "passed_time": 1.33608835,
                        "remaining_time": 0.4150954096,
                        "test": [
                          228.9043802
                        ]
                      },
                      {
                        "iteration": 721,
                        "learn": [
                          102.1241424
                        ],
                        "passed_time": 1.337279775,
                        "remaining_time": 0.413037936,
                        "test": [
                          228.9833073
                        ]
                      },
                      {
                        "iteration": 722,
                        "learn": [
                          102.0166258
                        ],
                        "passed_time": 1.338517261,
                        "remaining_time": 0.4109970014,
                        "test": [
                          228.9354845
                        ]
                      },
                      {
                        "iteration": 723,
                        "learn": [
                          101.9185049
                        ],
                        "passed_time": 1.339792349,
                        "remaining_time": 0.408969764,
                        "test": [
                          228.9677706
                        ]
                      },
                      {
                        "iteration": 724,
                        "learn": [
                          101.8299062
                        ],
                        "passed_time": 1.340927812,
                        "remaining_time": 0.4069022327,
                        "test": [
                          228.9599529
                        ]
                      },
                      {
                        "iteration": 725,
                        "learn": [
                          101.7897811
                        ],
                        "passed_time": 1.342091526,
                        "remaining_time": 0.404845791,
                        "test": [
                          228.9700882
                        ]
                      },
                      {
                        "iteration": 726,
                        "learn": [
                          101.7326164
                        ],
                        "passed_time": 1.343248749,
                        "remaining_time": 0.4027898587,
                        "test": [
                          228.9551707
                        ]
                      },
                      {
                        "iteration": 727,
                        "learn": [
                          101.6858614
                        ],
                        "passed_time": 1.344447676,
                        "remaining_time": 0.4007488264,
                        "test": [
                          228.9173936
                        ]
                      },
                      {
                        "iteration": 728,
                        "learn": [
                          101.5859983
                        ],
                        "passed_time": 1.345733388,
                        "remaining_time": 0.3987358186,
                        "test": [
                          228.8845235
                        ]
                      },
                      {
                        "iteration": 729,
                        "learn": [
                          101.5110094
                        ],
                        "passed_time": 1.346978195,
                        "remaining_time": 0.3967127561,
                        "test": [
                          228.8785568
                        ]
                      },
                      {
                        "iteration": 730,
                        "learn": [
                          101.3890801
                        ],
                        "passed_time": 1.348127237,
                        "remaining_time": 0.3946637876,
                        "test": [
                          228.8438066
                        ]
                      },
                      {
                        "iteration": 731,
                        "learn": [
                          101.3237191
                        ],
                        "passed_time": 1.349372441,
                        "remaining_time": 0.3926452596,
                        "test": [
                          228.8186792
                        ]
                      },
                      {
                        "iteration": 732,
                        "learn": [
                          101.260584
                        ],
                        "passed_time": 1.350618222,
                        "remaining_time": 0.3906290083,
                        "test": [
                          228.8253459
                        ]
                      },
                      {
                        "iteration": 733,
                        "learn": [
                          101.2209279
                        ],
                        "passed_time": 1.351754022,
                        "remaining_time": 0.3885832407,
                        "test": [
                          228.8056298
                        ]
                      },
                      {
                        "iteration": 734,
                        "learn": [
                          101.1351035
                        ],
                        "passed_time": 1.35294915,
                        "remaining_time": 0.3865569,
                        "test": [
                          228.7907863
                        ]
                      },
                      {
                        "iteration": 735,
                        "learn": [
                          101.1090889
                        ],
                        "passed_time": 1.354190376,
                        "remaining_time": 0.3845459083,
                        "test": [
                          228.8084378
                        ]
                      },
                      {
                        "iteration": 736,
                        "learn": [
                          101.0232313
                        ],
                        "passed_time": 1.355371042,
                        "remaining_time": 0.3825199142,
                        "test": [
                          228.7478455
                        ]
                      },
                      {
                        "iteration": 737,
                        "learn": [
                          100.9367451
                        ],
                        "passed_time": 1.356787509,
                        "remaining_time": 0.38056235,
                        "test": [
                          228.7047464
                        ]
                      },
                      {
                        "iteration": 738,
                        "learn": [
                          100.8624128
                        ],
                        "passed_time": 1.357988839,
                        "remaining_time": 0.3785462799,
                        "test": [
                          228.7204778
                        ]
                      },
                      {
                        "iteration": 739,
                        "learn": [
                          100.8244001
                        ],
                        "passed_time": 1.3592448,
                        "remaining_time": 0.3765475459,
                        "test": [
                          228.7532735
                        ]
                      },
                      {
                        "iteration": 740,
                        "learn": [
                          100.7927631
                        ],
                        "passed_time": 1.360373214,
                        "remaining_time": 0.3745157027,
                        "test": [
                          228.7973451
                        ]
                      },
                      {
                        "iteration": 741,
                        "learn": [
                          100.6869941
                        ],
                        "passed_time": 1.361524554,
                        "remaining_time": 0.3724925665,
                        "test": [
                          228.7740572
                        ]
                      },
                      {
                        "iteration": 742,
                        "learn": [
                          100.6074209
                        ],
                        "passed_time": 1.362677121,
                        "remaining_time": 0.3704721109,
                        "test": [
                          228.798133
                        ]
                      },
                      {
                        "iteration": 743,
                        "learn": [
                          100.5026929
                        ],
                        "passed_time": 1.3638441,
                        "remaining_time": 0.3684578819,
                        "test": [
                          228.8594207
                        ]
                      },
                      {
                        "iteration": 744,
                        "learn": [
                          100.4673058
                        ],
                        "passed_time": 1.364961609,
                        "remaining_time": 0.3664326466,
                        "test": [
                          228.8690082
                        ]
                      },
                      {
                        "iteration": 745,
                        "learn": [
                          100.30165
                        ],
                        "passed_time": 1.366171039,
                        "remaining_time": 0.3644343656,
                        "test": [
                          228.8401832
                        ]
                      },
                      {
                        "iteration": 746,
                        "learn": [
                          100.2307582
                        ],
                        "passed_time": 1.367533128,
                        "remaining_time": 0.3624786603,
                        "test": [
                          228.8932683
                        ]
                      },
                      {
                        "iteration": 747,
                        "learn": [
                          100.2008244
                        ],
                        "passed_time": 1.368743445,
                        "remaining_time": 0.3604845703,
                        "test": [
                          228.9188118
                        ]
                      },
                      {
                        "iteration": 748,
                        "learn": [
                          100.1148977
                        ],
                        "passed_time": 1.369944641,
                        "remaining_time": 0.3584901866,
                        "test": [
                          228.8454842
                        ]
                      },
                      {
                        "iteration": 749,
                        "learn": [
                          100.0464186
                        ],
                        "passed_time": 1.371203624,
                        "remaining_time": 0.3565129423,
                        "test": [
                          228.824161
                        ]
                      },
                      {
                        "iteration": 750,
                        "learn": [
                          99.94105198
                        ],
                        "passed_time": 1.374471769,
                        "remaining_time": 0.355056622,
                        "test": [
                          228.8456739
                        ]
                      },
                      {
                        "iteration": 751,
                        "learn": [
                          99.83539292
                        ],
                        "passed_time": 1.3768943,
                        "remaining_time": 0.3533784572,
                        "test": [
                          228.8345734
                        ]
                      },
                      {
                        "iteration": 752,
                        "learn": [
                          99.7893204
                        ],
                        "passed_time": 1.378050179,
                        "remaining_time": 0.3513753446,
                        "test": [
                          228.8062247
                        ]
                      },
                      {
                        "iteration": 753,
                        "learn": [
                          99.71125814
                        ],
                        "passed_time": 1.379298373,
                        "remaining_time": 0.3493978636,
                        "test": [
                          228.760658
                        ]
                      },
                      {
                        "iteration": 754,
                        "learn": [
                          99.64781028
                        ],
                        "passed_time": 1.380483057,
                        "remaining_time": 0.3474063322,
                        "test": [
                          228.7266946
                        ]
                      },
                      {
                        "iteration": 755,
                        "learn": [
                          99.57262535
                        ],
                        "passed_time": 1.381857689,
                        "remaining_time": 0.3454644221,
                        "test": [
                          228.6687018
                        ]
                      },
                      {
                        "iteration": 756,
                        "learn": [
                          99.50819965
                        ],
                        "passed_time": 1.385843684,
                        "remaining_time": 0.3441725399,
                        "test": [
                          228.6831083
                        ]
                      },
                      {
                        "iteration": 757,
                        "learn": [
                          99.40616688
                        ],
                        "passed_time": 1.390174746,
                        "remaining_time": 0.3429586774,
                        "test": [
                          228.6817383
                        ]
                      },
                      {
                        "iteration": 758,
                        "learn": [
                          99.28738382
                        ],
                        "passed_time": 1.391858455,
                        "remaining_time": 0.3410878427,
                        "test": [
                          228.5988907
                        ]
                      },
                      {
                        "iteration": 759,
                        "learn": [
                          99.22088269
                        ],
                        "passed_time": 1.393086828,
                        "remaining_time": 0.3391066622,
                        "test": [
                          228.6760817
                        ]
                      },
                      {
                        "iteration": 760,
                        "learn": [
                          99.12375123
                        ],
                        "passed_time": 1.394402197,
                        "remaining_time": 0.3371484944,
                        "test": [
                          228.7355275
                        ]
                      },
                      {
                        "iteration": 761,
                        "learn": [
                          99.02451454
                        ],
                        "passed_time": 1.395620721,
                        "remaining_time": 0.3351687557,
                        "test": [
                          228.7981805
                        ]
                      },
                      {
                        "iteration": 762,
                        "learn": [
                          98.99641947
                        ],
                        "passed_time": 1.397000878,
                        "remaining_time": 0.3332295671,
                        "test": [
                          228.8236695
                        ]
                      },
                      {
                        "iteration": 763,
                        "learn": [
                          98.88600857
                        ],
                        "passed_time": 1.399057017,
                        "remaining_time": 0.3314519897,
                        "test": [
                          228.8098192
                        ]
                      },
                      {
                        "iteration": 764,
                        "learn": [
                          98.82865173
                        ],
                        "passed_time": 1.400969079,
                        "remaining_time": 0.3296397833,
                        "test": [
                          228.8309318
                        ]
                      },
                      {
                        "iteration": 765,
                        "learn": [
                          98.70180714
                        ],
                        "passed_time": 1.403306524,
                        "remaining_time": 0.3279267204,
                        "test": [
                          228.776977
                        ]
                      },
                      {
                        "iteration": 766,
                        "learn": [
                          98.63164033
                        ],
                        "passed_time": 1.40530906,
                        "remaining_time": 0.3261343059,
                        "test": [
                          228.8200598
                        ]
                      },
                      {
                        "iteration": 767,
                        "learn": [
                          98.52015779
                        ],
                        "passed_time": 1.408863435,
                        "remaining_time": 0.3246989949,
                        "test": [
                          228.7855681
                        ]
                      },
                      {
                        "iteration": 768,
                        "learn": [
                          98.46775951
                        ],
                        "passed_time": 1.410925426,
                        "remaining_time": 0.3229166125,
                        "test": [
                          228.777888
                        ]
                      },
                      {
                        "iteration": 769,
                        "learn": [
                          98.38802705
                        ],
                        "passed_time": 1.416317306,
                        "remaining_time": 0.3218902968,
                        "test": [
                          228.8017089
                        ]
                      },
                      {
                        "iteration": 770,
                        "learn": [
                          98.32079939
                        ],
                        "passed_time": 1.418346174,
                        "remaining_time": 0.320093689,
                        "test": [
                          228.7304021
                        ]
                      },
                      {
                        "iteration": 771,
                        "learn": [
                          98.29354172
                        ],
                        "passed_time": 1.421572268,
                        "remaining_time": 0.31856477,
                        "test": [
                          228.7547232
                        ]
                      },
                      {
                        "iteration": 772,
                        "learn": [
                          98.17785522
                        ],
                        "passed_time": 1.427928786,
                        "remaining_time": 0.3177280093,
                        "test": [
                          228.7626696
                        ]
                      },
                      {
                        "iteration": 773,
                        "learn": [
                          98.13827663
                        ],
                        "passed_time": 1.430004821,
                        "remaining_time": 0.3159312976,
                        "test": [
                          228.7882464
                        ]
                      },
                      {
                        "iteration": 774,
                        "learn": [
                          98.01558575
                        ],
                        "passed_time": 1.434689861,
                        "remaining_time": 0.3147061631,
                        "test": [
                          228.7011296
                        ]
                      },
                      {
                        "iteration": 775,
                        "learn": [
                          97.91594549
                        ],
                        "passed_time": 1.436361872,
                        "remaining_time": 0.3128159232,
                        "test": [
                          228.7029974
                        ]
                      },
                      {
                        "iteration": 776,
                        "learn": [
                          97.78876286
                        ],
                        "passed_time": 1.438396889,
                        "remaining_time": 0.3110047328,
                        "test": [
                          228.6474695
                        ]
                      },
                      {
                        "iteration": 777,
                        "learn": [
                          97.6830159
                        ],
                        "passed_time": 1.444729638,
                        "remaining_time": 0.3101154878,
                        "test": [
                          228.537077
                        ]
                      },
                      {
                        "iteration": 778,
                        "learn": [
                          97.62798419
                        ],
                        "passed_time": 1.448396674,
                        "remaining_time": 0.3086442206,
                        "test": [
                          228.5095374
                        ]
                      },
                      {
                        "iteration": 779,
                        "learn": [
                          97.54681055
                        ],
                        "passed_time": 1.450390535,
                        "remaining_time": 0.3068133824,
                        "test": [
                          228.5009554
                        ]
                      },
                      {
                        "iteration": 780,
                        "learn": [
                          97.43450292
                        ],
                        "passed_time": 1.453780537,
                        "remaining_time": 0.3052752985,
                        "test": [
                          228.5400072
                        ]
                      },
                      {
                        "iteration": 781,
                        "learn": [
                          97.38206749
                        ],
                        "passed_time": 1.459184208,
                        "remaining_time": 0.304152207,
                        "test": [
                          228.54272
                        ]
                      },
                      {
                        "iteration": 782,
                        "learn": [
                          97.30084376
                        ],
                        "passed_time": 1.461246436,
                        "remaining_time": 0.3023268488,
                        "test": [
                          228.5043902
                        ]
                      },
                      {
                        "iteration": 783,
                        "learn": [
                          97.24314928
                        ],
                        "passed_time": 1.466628064,
                        "remaining_time": 0.3011825489,
                        "test": [
                          228.4931505
                        ]
                      },
                      {
                        "iteration": 784,
                        "learn": [
                          97.1426974
                        ],
                        "passed_time": 1.468726988,
                        "remaining_time": 0.299358367,
                        "test": [
                          228.5248986
                        ]
                      },
                      {
                        "iteration": 785,
                        "learn": [
                          97.06278419
                        ],
                        "passed_time": 1.472073108,
                        "remaining_time": 0.2977857814,
                        "test": [
                          228.4898221
                        ]
                      },
                      {
                        "iteration": 786,
                        "learn": [
                          96.99811017
                        ],
                        "passed_time": 1.477553361,
                        "remaining_time": 0.2966371424,
                        "test": [
                          228.4453136
                        ]
                      },
                      {
                        "iteration": 787,
                        "learn": [
                          96.97151419
                        ],
                        "passed_time": 1.479143721,
                        "remaining_time": 0.2947024926,
                        "test": [
                          228.4500799
                        ]
                      },
                      {
                        "iteration": 788,
                        "learn": [
                          96.91542603
                        ],
                        "passed_time": 1.482337671,
                        "remaining_time": 0.2930857754,
                        "test": [
                          228.3867348
                        ]
                      },
                      {
                        "iteration": 789,
                        "learn": [
                          96.8410718
                        ],
                        "passed_time": 1.48770802,
                        "remaining_time": 0.2918920798,
                        "test": [
                          228.3853676
                        ]
                      },
                      {
                        "iteration": 790,
                        "learn": [
                          96.76285256
                        ],
                        "passed_time": 1.489631862,
                        "remaining_time": 0.2900168227,
                        "test": [
                          228.3713349
                        ]
                      },
                      {
                        "iteration": 791,
                        "learn": [
                          96.6489566
                        ],
                        "passed_time": 1.495204567,
                        "remaining_time": 0.2888463367,
                        "test": [
                          228.3036256
                        ]
                      },
                      {
                        "iteration": 792,
                        "learn": [
                          96.59965861
                        ],
                        "passed_time": 1.497202353,
                        "remaining_time": 0.2869795178,
                        "test": [
                          228.2714776
                        ]
                      },
                      {
                        "iteration": 793,
                        "learn": [
                          96.51679258
                        ],
                        "passed_time": 1.499138029,
                        "remaining_time": 0.2851005571,
                        "test": [
                          228.2599521
                        ]
                      },
                      {
                        "iteration": 794,
                        "learn": [
                          96.44872318
                        ],
                        "passed_time": 1.504598816,
                        "remaining_time": 0.2838865691,
                        "test": [
                          228.2531027
                        ]
                      },
                      {
                        "iteration": 795,
                        "learn": [
                          96.29521151
                        ],
                        "passed_time": 1.506704103,
                        "remaining_time": 0.2820338083,
                        "test": [
                          228.2956903
                        ]
                      },
                      {
                        "iteration": 796,
                        "learn": [
                          96.19266768
                        ],
                        "passed_time": 1.511237156,
                        "remaining_time": 0.2806312411,
                        "test": [
                          228.2365809
                        ]
                      },
                      {
                        "iteration": 797,
                        "learn": [
                          96.09869672
                        ],
                        "passed_time": 1.513337412,
                        "remaining_time": 0.2787726812,
                        "test": [
                          228.1551122
                        ]
                      },
                      {
                        "iteration": 798,
                        "learn": [
                          96.0254337
                        ],
                        "passed_time": 1.516231602,
                        "remaining_time": 0.2770585906,
                        "test": [
                          228.1994628
                        ]
                      },
                      {
                        "iteration": 799,
                        "learn": [
                          95.95310246
                        ],
                        "passed_time": 1.521863257,
                        "remaining_time": 0.2758377154,
                        "test": [
                          228.1420868
                        ]
                      },
                      {
                        "iteration": 800,
                        "learn": [
                          95.88479885
                        ],
                        "passed_time": 1.523729455,
                        "remaining_time": 0.2739288908,
                        "test": [
                          228.1728942
                        ]
                      },
                      {
                        "iteration": 801,
                        "learn": [
                          95.78433648
                        ],
                        "passed_time": 1.529492586,
                        "remaining_time": 0.2727150122,
                        "test": [
                          228.1891526
                        ]
                      },
                      {
                        "iteration": 802,
                        "learn": [
                          95.72290813
                        ],
                        "passed_time": 1.531391538,
                        "remaining_time": 0.2708064738,
                        "test": [
                          228.1744879
                        ]
                      },
                      {
                        "iteration": 803,
                        "learn": [
                          95.6195197
                        ],
                        "passed_time": 1.535672782,
                        "remaining_time": 0.2693157492,
                        "test": [
                          228.0831586
                        ]
                      },
                      {
                        "iteration": 804,
                        "learn": [
                          95.56648338
                        ],
                        "passed_time": 1.539346424,
                        "remaining_time": 0.2677124215,
                        "test": [
                          228.1136294
                        ]
                      },
                      {
                        "iteration": 805,
                        "learn": [
                          95.48961493
                        ],
                        "passed_time": 1.54137614,
                        "remaining_time": 0.2658204509,
                        "test": [
                          228.0604889
                        ]
                      },
                      {
                        "iteration": 806,
                        "learn": [
                          95.43404317
                        ],
                        "passed_time": 1.547025932,
                        "remaining_time": 0.2645471854,
                        "test": [
                          228.0802572
                        ]
                      },
                      {
                        "iteration": 807,
                        "learn": [
                          95.36349545
                        ],
                        "passed_time": 1.549393214,
                        "remaining_time": 0.2627065227,
                        "test": [
                          228.0592583
                        ]
                      },
                      {
                        "iteration": 808,
                        "learn": [
                          95.22393788
                        ],
                        "passed_time": 1.551395863,
                        "remaining_time": 0.26080326,
                        "test": [
                          228.070374
                        ]
                      },
                      {
                        "iteration": 809,
                        "learn": [
                          95.13415076
                        ],
                        "passed_time": 1.556994545,
                        "remaining_time": 0.2594990908,
                        "test": [
                          228.0458781
                        ]
                      },
                      {
                        "iteration": 810,
                        "learn": [
                          95.05374669
                        ],
                        "passed_time": 1.558961079,
                        "remaining_time": 0.257584198,
                        "test": [
                          228.0114372
                        ]
                      },
                      {
                        "iteration": 811,
                        "learn": [
                          94.99740867
                        ],
                        "passed_time": 1.56237797,
                        "remaining_time": 0.2559067364,
                        "test": [
                          228.029901
                        ]
                      },
                      {
                        "iteration": 812,
                        "learn": [
                          94.91065928
                        ],
                        "passed_time": 1.567504798,
                        "remaining_time": 0.2545026241,
                        "test": [
                          227.9945983
                        ]
                      },
                      {
                        "iteration": 813,
                        "learn": [
                          94.80108787
                        ],
                        "passed_time": 1.569428501,
                        "remaining_time": 0.2525738742,
                        "test": [
                          227.9584016
                        ]
                      },
                      {
                        "iteration": 814,
                        "learn": [
                          94.73175435
                        ],
                        "passed_time": 1.57379947,
                        "remaining_time": 0.2510354982,
                        "test": [
                          227.9951703
                        ]
                      },
                      {
                        "iteration": 815,
                        "learn": [
                          94.62496148
                        ],
                        "passed_time": 1.579275886,
                        "remaining_time": 0.2496649379,
                        "test": [
                          227.9516059
                        ]
                      },
                      {
                        "iteration": 816,
                        "learn": [
                          94.54777842
                        ],
                        "passed_time": 1.582032877,
                        "remaining_time": 0.247858272,
                        "test": [
                          227.9638082
                        ]
                      },
                      {
                        "iteration": 817,
                        "learn": [
                          94.49492395
                        ],
                        "passed_time": 1.583547412,
                        "remaining_time": 0.245856383,
                        "test": [
                          227.9694075
                        ]
                      },
                      {
                        "iteration": 818,
                        "learn": [
                          94.44854999
                        ],
                        "passed_time": 1.585262425,
                        "remaining_time": 0.243886527,
                        "test": [
                          227.9530896
                        ]
                      },
                      {
                        "iteration": 819,
                        "learn": [
                          94.36675611
                        ],
                        "passed_time": 1.587274898,
                        "remaining_time": 0.241962637,
                        "test": [
                          227.9030864
                        ]
                      },
                      {
                        "iteration": 820,
                        "learn": [
                          94.22907232
                        ],
                        "passed_time": 1.588612512,
                        "remaining_time": 0.2399366035,
                        "test": [
                          227.8730427
                        ]
                      },
                      {
                        "iteration": 821,
                        "learn": [
                          94.16059492
                        ],
                        "passed_time": 1.589923075,
                        "remaining_time": 0.2379081974,
                        "test": [
                          227.8006699
                        ]
                      },
                      {
                        "iteration": 822,
                        "learn": [
                          94.12133577
                        ],
                        "passed_time": 1.591807933,
                        "remaining_time": 0.235966668,
                        "test": [
                          227.779217
                        ]
                      },
                      {
                        "iteration": 823,
                        "learn": [
                          94.07554107
                        ],
                        "passed_time": 1.593781159,
                        "remaining_time": 0.2340382527,
                        "test": [
                          227.7642373
                        ]
                      },
                      {
                        "iteration": 824,
                        "learn": [
                          94.00153516
                        ],
                        "passed_time": 1.595837741,
                        "remaining_time": 0.2321218532,
                        "test": [
                          227.7542458
                        ]
                      },
                      {
                        "iteration": 825,
                        "learn": [
                          93.94390488
                        ],
                        "passed_time": 1.59757931,
                        "remaining_time": 0.2301597311,
                        "test": [
                          227.7416601
                        ]
                      },
                      {
                        "iteration": 826,
                        "learn": [
                          93.86330965
                        ],
                        "passed_time": 1.598803025,
                        "remaining_time": 0.2281242526,
                        "test": [
                          227.7618624
                        ]
                      },
                      {
                        "iteration": 827,
                        "learn": [
                          93.80593309
                        ],
                        "passed_time": 1.600072166,
                        "remaining_time": 0.2260971539,
                        "test": [
                          227.7431794
                        ]
                      },
                      {
                        "iteration": 828,
                        "learn": [
                          93.73068961
                        ],
                        "passed_time": 1.601313174,
                        "remaining_time": 0.2240679472,
                        "test": [
                          227.6743597
                        ]
                      },
                      {
                        "iteration": 829,
                        "learn": [
                          93.68101648
                        ],
                        "passed_time": 1.603193455,
                        "remaining_time": 0.2221292136,
                        "test": [
                          227.6185391
                        ]
                      },
                      {
                        "iteration": 830,
                        "learn": [
                          93.59946493
                        ],
                        "passed_time": 1.605100701,
                        "remaining_time": 0.22019432,
                        "test": [
                          227.6682756
                        ]
                      },
                      {
                        "iteration": 831,
                        "learn": [
                          93.55021612
                        ],
                        "passed_time": 1.606618473,
                        "remaining_time": 0.2182065956,
                        "test": [
                          227.6280033
                        ]
                      },
                      {
                        "iteration": 832,
                        "learn": [
                          93.49219502
                        ],
                        "passed_time": 1.607800312,
                        "remaining_time": 0.2161748318,
                        "test": [
                          227.6502592
                        ]
                      },
                      {
                        "iteration": 833,
                        "learn": [
                          93.38448893
                        ],
                        "passed_time": 1.609054597,
                        "remaining_time": 0.2141547485,
                        "test": [
                          227.6581126
                        ]
                      },
                      {
                        "iteration": 834,
                        "learn": [
                          93.32485929
                        ],
                        "passed_time": 1.610796891,
                        "remaining_time": 0.212200788,
                        "test": [
                          227.6641485
                        ]
                      },
                      {
                        "iteration": 835,
                        "learn": [
                          93.25200869
                        ],
                        "passed_time": 1.612749142,
                        "remaining_time": 0.2102747087,
                        "test": [
                          227.6791981
                        ]
                      },
                      {
                        "iteration": 836,
                        "learn": [
                          93.19728249
                        ],
                        "passed_time": 1.6144944,
                        "remaining_time": 0.208321858,
                        "test": [
                          227.6691343
                        ]
                      },
                      {
                        "iteration": 837,
                        "learn": [
                          93.11680279
                        ],
                        "passed_time": 1.615745873,
                        "remaining_time": 0.206306454,
                        "test": [
                          227.6220186
                        ]
                      },
                      {
                        "iteration": 838,
                        "learn": [
                          93.04115888
                        ],
                        "passed_time": 1.617088499,
                        "remaining_time": 0.2043043873,
                        "test": [
                          227.6335925
                        ]
                      },
                      {
                        "iteration": 839,
                        "learn": [
                          92.96881959
                        ],
                        "passed_time": 1.61829852,
                        "remaining_time": 0.2022873151,
                        "test": [
                          227.5782613
                        ]
                      },
                      {
                        "iteration": 840,
                        "learn": [
                          92.88086308
                        ],
                        "passed_time": 1.620257724,
                        "remaining_time": 0.2003648078,
                        "test": [
                          227.4899441
                        ]
                      },
                      {
                        "iteration": 841,
                        "learn": [
                          92.84414089
                        ],
                        "passed_time": 1.621724662,
                        "remaining_time": 0.1983819955,
                        "test": [
                          227.4984612
                        ]
                      },
                      {
                        "iteration": 842,
                        "learn": [
                          92.79335685
                        ],
                        "passed_time": 1.622922254,
                        "remaining_time": 0.1963678172,
                        "test": [
                          227.5166346
                        ]
                      },
                      {
                        "iteration": 843,
                        "learn": [
                          92.74051894
                        ],
                        "passed_time": 1.624989257,
                        "remaining_time": 0.1944596149,
                        "test": [
                          227.5445688
                        ]
                      },
                      {
                        "iteration": 844,
                        "learn": [
                          92.69116608
                        ],
                        "passed_time": 1.627017997,
                        "remaining_time": 0.1925465086,
                        "test": [
                          227.5756574
                        ]
                      },
                      {
                        "iteration": 845,
                        "learn": [
                          92.64040586
                        ],
                        "passed_time": 1.628309093,
                        "remaining_time": 0.1905468087,
                        "test": [
                          227.5938792
                        ]
                      },
                      {
                        "iteration": 846,
                        "learn": [
                          92.52516815
                        ],
                        "passed_time": 1.629582672,
                        "remaining_time": 0.1885467554,
                        "test": [
                          227.5397053
                        ]
                      },
                      {
                        "iteration": 847,
                        "learn": [
                          92.455963
                        ],
                        "passed_time": 1.633279813,
                        "remaining_time": 0.1868256389,
                        "test": [
                          227.5878102
                        ]
                      },
                      {
                        "iteration": 848,
                        "learn": [
                          92.40163043
                        ],
                        "passed_time": 1.636471447,
                        "remaining_time": 0.1850427078,
                        "test": [
                          227.6135507
                        ]
                      },
                      {
                        "iteration": 849,
                        "learn": [
                          92.35985642
                        ],
                        "passed_time": 1.639779262,
                        "remaining_time": 0.183269447,
                        "test": [
                          227.6025439
                        ]
                      },
                      {
                        "iteration": 850,
                        "learn": [
                          92.31208848
                        ],
                        "passed_time": 1.641862421,
                        "remaining_time": 0.1813573062,
                        "test": [
                          227.6295614
                        ]
                      },
                      {
                        "iteration": 851,
                        "learn": [
                          92.21148573
                        ],
                        "passed_time": 1.649536261,
                        "remaining_time": 0.1800550144,
                        "test": [
                          227.6205101
                        ]
                      },
                      {
                        "iteration": 852,
                        "learn": [
                          92.1272992
                        ],
                        "passed_time": 1.654395068,
                        "remaining_time": 0.1784341691,
                        "test": [
                          227.6193465
                        ]
                      },
                      {
                        "iteration": 853,
                        "learn": [
                          92.03694909
                        ],
                        "passed_time": 1.65798328,
                        "remaining_time": 0.1766703495,
                        "test": [
                          227.6457417
                        ]
                      },
                      {
                        "iteration": 854,
                        "learn": [
                          91.9841693
                        ],
                        "passed_time": 1.660646114,
                        "remaining_time": 0.1748048541,
                        "test": [
                          227.6286873
                        ]
                      },
                      {
                        "iteration": 855,
                        "learn": [
                          91.94698732
                        ],
                        "passed_time": 1.662644949,
                        "remaining_time": 0.1728684585,
                        "test": [
                          227.6306772
                        ]
                      },
                      {
                        "iteration": 856,
                        "learn": [
                          91.87399179
                        ],
                        "passed_time": 1.66854573,
                        "remaining_time": 0.1713325837,
                        "test": [
                          227.5724216
                        ]
                      },
                      {
                        "iteration": 857,
                        "learn": [
                          91.81233224
                        ],
                        "passed_time": 1.670785134,
                        "remaining_time": 0.1694152759,
                        "test": [
                          227.5685151
                        ]
                      },
                      {
                        "iteration": 858,
                        "learn": [
                          91.75293084
                        ],
                        "passed_time": 1.672648773,
                        "remaining_time": 0.1674595977,
                        "test": [
                          227.5632942
                        ]
                      },
                      {
                        "iteration": 859,
                        "learn": [
                          91.65589531
                        ],
                        "passed_time": 1.678683401,
                        "remaining_time": 0.1659163827,
                        "test": [
                          227.5687762
                        ]
                      },
                      {
                        "iteration": 860,
                        "learn": [
                          91.55999955
                        ],
                        "passed_time": 1.680768475,
                        "remaining_time": 0.1639774122,
                        "test": [
                          227.5538224
                        ]
                      },
                      {
                        "iteration": 861,
                        "learn": [
                          91.51484032
                        ],
                        "passed_time": 1.684197843,
                        "remaining_time": 0.1621675417,
                        "test": [
                          227.5865896
                        ]
                      },
                      {
                        "iteration": 862,
                        "learn": [
                          91.44725359
                        ],
                        "passed_time": 1.691076258,
                        "remaining_time": 0.1606816375,
                        "test": [
                          227.5804059
                        ]
                      },
                      {
                        "iteration": 863,
                        "learn": [
                          91.39775715
                        ],
                        "passed_time": 1.693813329,
                        "remaining_time": 0.1587949996,
                        "test": [
                          227.5870905
                        ]
                      },
                      {
                        "iteration": 864,
                        "learn": [
                          91.34398782
                        ],
                        "passed_time": 1.695678363,
                        "remaining_time": 0.1568257445,
                        "test": [
                          227.5824578
                        ]
                      },
                      {
                        "iteration": 865,
                        "learn": [
                          91.23261905
                        ],
                        "passed_time": 1.702028449,
                        "remaining_time": 0.1552658747,
                        "test": [
                          227.58096
                        ]
                      },
                      {
                        "iteration": 866,
                        "learn": [
                          91.13483132
                        ],
                        "passed_time": 1.703681377,
                        "remaining_time": 0.153272373,
                        "test": [
                          227.6415345
                        ]
                      },
                      {
                        "iteration": 867,
                        "learn": [
                          91.11705721
                        ],
                        "passed_time": 1.705702053,
                        "remaining_time": 0.1513122789,
                        "test": [
                          227.6391744
                        ]
                      },
                      {
                        "iteration": 868,
                        "learn": [
                          91.02959647
                        ],
                        "passed_time": 1.707748132,
                        "remaining_time": 0.149354267,
                        "test": [
                          227.6586455
                        ]
                      },
                      {
                        "iteration": 869,
                        "learn": [
                          90.9263361
                        ],
                        "passed_time": 1.709053506,
                        "remaining_time": 0.1473321988,
                        "test": [
                          227.6575552
                        ]
                      },
                      {
                        "iteration": 870,
                        "learn": [
                          90.89689814
                        ],
                        "passed_time": 1.710363264,
                        "remaining_time": 0.1453121487,
                        "test": [
                          227.6512107
                        ]
                      },
                      {
                        "iteration": 871,
                        "learn": [
                          90.85150625
                        ],
                        "passed_time": 1.711595495,
                        "remaining_time": 0.1432872376,
                        "test": [
                          227.6127793
                        ]
                      },
                      {
                        "iteration": 872,
                        "learn": [
                          90.80525293
                        ],
                        "passed_time": 1.713521138,
                        "remaining_time": 0.1413213309,
                        "test": [
                          227.6160148
                        ]
                      },
                      {
                        "iteration": 873,
                        "learn": [
                          90.76254038
                        ],
                        "passed_time": 1.715496557,
                        "remaining_time": 0.1393595601,
                        "test": [
                          227.5823707
                        ]
                      },
                      {
                        "iteration": 874,
                        "learn": [
                          90.67179794
                        ],
                        "passed_time": 1.720830159,
                        "remaining_time": 0.1376664127,
                        "test": [
                          227.5936275
                        ]
                      },
                      {
                        "iteration": 875,
                        "learn": [
                          90.61605779
                        ],
                        "passed_time": 1.722188299,
                        "remaining_time": 0.135651818,
                        "test": [
                          227.6115
                        ]
                      },
                      {
                        "iteration": 876,
                        "learn": [
                          90.57839106
                        ],
                        "passed_time": 1.723486171,
                        "remaining_time": 0.1336340475,
                        "test": [
                          227.6128855
                        ]
                      },
                      {
                        "iteration": 877,
                        "learn": [
                          90.56245835
                        ],
                        "passed_time": 1.725033684,
                        "remaining_time": 0.1316369667,
                        "test": [
                          227.6005564
                        ]
                      },
                      {
                        "iteration": 878,
                        "learn": [
                          90.44369818
                        ],
                        "passed_time": 1.726899188,
                        "remaining_time": 0.1296647854,
                        "test": [
                          227.5964871
                        ]
                      },
                      {
                        "iteration": 879,
                        "learn": [
                          90.36571593
                        ],
                        "passed_time": 1.728752311,
                        "remaining_time": 0.1276919321,
                        "test": [
                          227.5626673
                        ]
                      },
                      {
                        "iteration": 880,
                        "learn": [
                          90.32565937
                        ],
                        "passed_time": 1.730046524,
                        "remaining_time": 0.1256787486,
                        "test": [
                          227.5473791
                        ]
                      },
                      {
                        "iteration": 881,
                        "learn": [
                          90.28403526
                        ],
                        "passed_time": 1.731634745,
                        "remaining_time": 0.1236881961,
                        "test": [
                          227.588813
                        ]
                      },
                      {
                        "iteration": 882,
                        "learn": [
                          90.21693781
                        ],
                        "passed_time": 1.732926326,
                        "remaining_time": 0.1216777261,
                        "test": [
                          227.5550094
                        ]
                      },
                      {
                        "iteration": 883,
                        "learn": [
                          90.16573287
                        ],
                        "passed_time": 1.734939299,
                        "remaining_time": 0.119718662,
                        "test": [
                          227.5692577
                        ]
                      },
                      {
                        "iteration": 884,
                        "learn": [
                          90.05757264
                        ],
                        "passed_time": 1.73703944,
                        "remaining_time": 0.1177653857,
                        "test": [
                          227.510579
                        ]
                      },
                      {
                        "iteration": 885,
                        "learn": [
                          89.9478133
                        ],
                        "passed_time": 1.738286426,
                        "remaining_time": 0.1157549651,
                        "test": [
                          227.53504
                        ]
                      },
                      {
                        "iteration": 886,
                        "learn": [
                          89.85811467
                        ],
                        "passed_time": 1.739499363,
                        "remaining_time": 0.1137440395,
                        "test": [
                          227.4752431
                        ]
                      },
                      {
                        "iteration": 887,
                        "learn": [
                          89.77925148
                        ],
                        "passed_time": 1.74073815,
                        "remaining_time": 0.1117365704,
                        "test": [
                          227.4362518
                        ]
                      },
                      {
                        "iteration": 888,
                        "learn": [
                          89.72610326
                        ],
                        "passed_time": 1.743121567,
                        "remaining_time": 0.1098029333,
                        "test": [
                          227.3931112
                        ]
                      },
                      {
                        "iteration": 889,
                        "learn": [
                          89.68520084
                        ],
                        "passed_time": 1.745072478,
                        "remaining_time": 0.1078415576,
                        "test": [
                          227.3848491
                        ]
                      },
                      {
                        "iteration": 890,
                        "learn": [
                          89.65240487
                        ],
                        "passed_time": 1.747023404,
                        "remaining_time": 0.1058802063,
                        "test": [
                          227.3626317
                        ]
                      },
                      {
                        "iteration": 891,
                        "learn": [
                          89.58700241
                        ],
                        "passed_time": 1.752879761,
                        "remaining_time": 0.1041509275,
                        "test": [
                          227.3676381
                        ]
                      },
                      {
                        "iteration": 892,
                        "learn": [
                          89.5276304
                        ],
                        "passed_time": 1.754891837,
                        "remaining_time": 0.1021885504,
                        "test": [
                          227.3732144
                        ]
                      },
                      {
                        "iteration": 893,
                        "learn": [
                          89.47285461
                        ],
                        "passed_time": 1.757001358,
                        "remaining_time": 0.1002316211,
                        "test": [
                          227.3350306
                        ]
                      },
                      {
                        "iteration": 894,
                        "learn": [
                          89.42294598
                        ],
                        "passed_time": 1.762939768,
                        "remaining_time": 0.09848825521,
                        "test": [
                          227.3526885
                        ]
                      },
                      {
                        "iteration": 895,
                        "learn": [
                          89.37529152
                        ],
                        "passed_time": 1.765027083,
                        "remaining_time": 0.0965249186,
                        "test": [
                          227.3967585
                        ]
                      },
                      {
                        "iteration": 896,
                        "learn": [
                          89.33931169
                        ],
                        "passed_time": 1.770428655,
                        "remaining_time": 0.09473865713,
                        "test": [
                          227.4748765
                        ]
                      },
                      {
                        "iteration": 897,
                        "learn": [
                          89.25361116
                        ],
                        "passed_time": 1.771740741,
                        "remaining_time": 0.09273030604,
                        "test": [
                          227.4459665
                        ]
                      },
                      {
                        "iteration": 898,
                        "learn": [
                          89.21097196
                        ],
                        "passed_time": 1.772966474,
                        "remaining_time": 0.09071908543,
                        "test": [
                          227.3948139
                        ]
                      },
                      {
                        "iteration": 899,
                        "learn": [
                          89.12301461
                        ],
                        "passed_time": 1.774242786,
                        "remaining_time": 0.08871213931,
                        "test": [
                          227.340001
                        ]
                      },
                      {
                        "iteration": 900,
                        "learn": [
                          89.06848916
                        ],
                        "passed_time": 1.77551345,
                        "remaining_time": 0.08670653918,
                        "test": [
                          227.3318451
                        ]
                      },
                      {
                        "iteration": 901,
                        "learn": [
                          88.94386708
                        ],
                        "passed_time": 1.776748911,
                        "remaining_time": 0.08470089042,
                        "test": [
                          227.3342742
                        ]
                      },
                      {
                        "iteration": 902,
                        "learn": [
                          88.85217564
                        ],
                        "passed_time": 1.777980818,
                        "remaining_time": 0.08269678223,
                        "test": [
                          227.3123397
                        ]
                      },
                      {
                        "iteration": 903,
                        "learn": [
                          88.81457574
                        ],
                        "passed_time": 1.779233499,
                        "remaining_time": 0.08069532464,
                        "test": [
                          227.3496621
                        ]
                      },
                      {
                        "iteration": 904,
                        "learn": [
                          88.74767292
                        ],
                        "passed_time": 1.780432228,
                        "remaining_time": 0.07869313714,
                        "test": [
                          227.3945805
                        ]
                      },
                      {
                        "iteration": 905,
                        "learn": [
                          88.63502893
                        ],
                        "passed_time": 1.781637664,
                        "remaining_time": 0.07669301203,
                        "test": [
                          227.4200713
                        ]
                      },
                      {
                        "iteration": 906,
                        "learn": [
                          88.5180161
                        ],
                        "passed_time": 1.782874152,
                        "remaining_time": 0.07469594024,
                        "test": [
                          227.3914077
                        ]
                      },
                      {
                        "iteration": 907,
                        "learn": [
                          88.47552333
                        ],
                        "passed_time": 1.784131803,
                        "remaining_time": 0.07270140608,
                        "test": [
                          227.4267011
                        ]
                      },
                      {
                        "iteration": 908,
                        "learn": [
                          88.44250408
                        ],
                        "passed_time": 1.785340994,
                        "remaining_time": 0.07070657404,
                        "test": [
                          227.3933769
                        ]
                      },
                      {
                        "iteration": 909,
                        "learn": [
                          88.40320101
                        ],
                        "passed_time": 1.786470886,
                        "remaining_time": 0.06871041869,
                        "test": [
                          227.4248667
                        ]
                      },
                      {
                        "iteration": 910,
                        "learn": [
                          88.32811375
                        ],
                        "passed_time": 1.787691804,
                        "remaining_time": 0.06671956237,
                        "test": [
                          227.3649903
                        ]
                      },
                      {
                        "iteration": 911,
                        "learn": [
                          88.29828542
                        ],
                        "passed_time": 1.788941434,
                        "remaining_time": 0.06473143348,
                        "test": [
                          227.3710926
                        ]
                      },
                      {
                        "iteration": 912,
                        "learn": [
                          88.26905309
                        ],
                        "passed_time": 1.79015411,
                        "remaining_time": 0.06274362709,
                        "test": [
                          227.4106596
                        ]
                      },
                      {
                        "iteration": 913,
                        "learn": [
                          88.18928738
                        ],
                        "passed_time": 1.791421136,
                        "remaining_time": 0.06075936019,
                        "test": [
                          227.4026614
                        ]
                      },
                      {
                        "iteration": 914,
                        "learn": [
                          88.16850849
                        ],
                        "passed_time": 1.792683503,
                        "remaining_time": 0.05877650829,
                        "test": [
                          227.3916866
                        ]
                      },
                      {
                        "iteration": 915,
                        "learn": [
                          88.11957976
                        ],
                        "passed_time": 1.795601159,
                        "remaining_time": 0.05684763494,
                        "test": [
                          227.4075507
                        ]
                      },
                      {
                        "iteration": 916,
                        "learn": [
                          88.01288697
                        ],
                        "passed_time": 1.797672478,
                        "remaining_time": 0.05489076267,
                        "test": [
                          227.4555919
                        ]
                      },
                      {
                        "iteration": 917,
                        "learn": [
                          87.9657014
                        ],
                        "passed_time": 1.799041148,
                        "remaining_time": 0.05291297494,
                        "test": [
                          227.4806272
                        ]
                      },
                      {
                        "iteration": 918,
                        "learn": [
                          87.94573184
                        ],
                        "passed_time": 1.800333258,
                        "remaining_time": 0.05093434681,
                        "test": [
                          227.4697956
                        ]
                      },
                      {
                        "iteration": 919,
                        "learn": [
                          87.87222078
                        ],
                        "passed_time": 1.801642996,
                        "remaining_time": 0.0489576901,
                        "test": [
                          227.4864631
                        ]
                      },
                      {
                        "iteration": 920,
                        "learn": [
                          87.82447556
                        ],
                        "passed_time": 1.802892206,
                        "remaining_time": 0.04698090438,
                        "test": [
                          227.504105
                        ]
                      },
                      {
                        "iteration": 921,
                        "learn": [
                          87.75353211
                        ],
                        "passed_time": 1.804155649,
                        "remaining_time": 0.04500605198,
                        "test": [
                          227.4938098
                        ]
                      },
                      {
                        "iteration": 922,
                        "learn": [
                          87.70999556
                        ],
                        "passed_time": 1.805452812,
                        "remaining_time": 0.04303354481,
                        "test": [
                          227.5253383
                        ]
                      },
                      {
                        "iteration": 923,
                        "learn": [
                          87.65119669
                        ],
                        "passed_time": 1.806709159,
                        "remaining_time": 0.0410615718,
                        "test": [
                          227.5504963
                        ]
                      },
                      {
                        "iteration": 924,
                        "learn": [
                          87.58965761
                        ],
                        "passed_time": 1.807876167,
                        "remaining_time": 0.03908921443,
                        "test": [
                          227.5297011
                        ]
                      },
                      {
                        "iteration": 925,
                        "learn": [
                          87.51656679
                        ],
                        "passed_time": 1.809172266,
                        "remaining_time": 0.03712124519,
                        "test": [
                          227.5410745
                        ]
                      },
                      {
                        "iteration": 926,
                        "learn": [
                          87.46941475
                        ],
                        "passed_time": 1.810366778,
                        "remaining_time": 0.03515275298,
                        "test": [
                          227.5172671
                        ]
                      },
                      {
                        "iteration": 927,
                        "learn": [
                          87.43246555
                        ],
                        "passed_time": 1.811620417,
                        "remaining_time": 0.03318701194,
                        "test": [
                          227.5638797
                        ]
                      },
                      {
                        "iteration": 928,
                        "learn": [
                          87.37763945
                        ],
                        "passed_time": 1.812954531,
                        "remaining_time": 0.03122418999,
                        "test": [
                          227.5421959
                        ]
                      },
                      {
                        "iteration": 929,
                        "learn": [
                          87.30868381
                        ],
                        "passed_time": 1.814168882,
                        "remaining_time": 0.02926078841,
                        "test": [
                          227.5325889
                        ]
                      },
                      {
                        "iteration": 930,
                        "learn": [
                          87.20535812
                        ],
                        "passed_time": 1.82011396,
                        "remaining_time": 0.02737013474,
                        "test": [
                          227.5155312
                        ]
                      },
                      {
                        "iteration": 931,
                        "learn": [
                          87.15099272
                        ],
                        "passed_time": 1.822226541,
                        "remaining_time": 0.025417323,
                        "test": [
                          227.5599386
                        ]
                      },
                      {
                        "iteration": 932,
                        "learn": [
                          87.06077169
                        ],
                        "passed_time": 1.824572214,
                        "remaining_time": 0.02346716674,
                        "test": [
                          227.5992873
                        ]
                      },
                      {
                        "iteration": 933,
                        "learn": [
                          86.97653145
                        ],
                        "passed_time": 1.830499871,
                        "remaining_time": 0.02155834965,
                        "test": [
                          227.574796
                        ]
                      },
                      {
                        "iteration": 934,
                        "learn": [
                          86.9216791
                        ],
                        "passed_time": 1.83253279,
                        "remaining_time": 0.01959928118,
                        "test": [
                          227.5625098
                        ]
                      },
                      {
                        "iteration": 935,
                        "learn": [
                          86.87623779
                        ],
                        "passed_time": 1.836955662,
                        "remaining_time": 0.01766303521,
                        "test": [
                          227.5657835
                        ]
                      },
                      {
                        "iteration": 936,
                        "learn": [
                          86.85265593
                        ],
                        "passed_time": 1.840681913,
                        "remaining_time": 0.01571553394,
                        "test": [
                          227.5921811
                        ]
                      },
                      {
                        "iteration": 937,
                        "learn": [
                          86.81429696
                        ],
                        "passed_time": 1.842160085,
                        "remaining_time": 0.01374746332,
                        "test": [
                          227.5884578
                        ]
                      },
                      {
                        "iteration": 938,
                        "learn": [
                          86.7426572
                        ],
                        "passed_time": 1.843398952,
                        "remaining_time": 0.01177890704,
                        "test": [
                          227.5813216
                        ]
                      },
                      {
                        "iteration": 939,
                        "learn": [
                          86.67255983
                        ],
                        "passed_time": 1.844710548,
                        "remaining_time": 0.00981229015,
                        "test": [
                          227.6100416
                        ]
                      },
                      {
                        "iteration": 940,
                        "learn": [
                          86.62206689
                        ],
                        "passed_time": 1.845914881,
                        "remaining_time": 0.007846609483,
                        "test": [
                          227.6259783
                        ]
                      },
                      {
                        "iteration": 941,
                        "learn": [
                          86.59968071
                        ],
                        "passed_time": 1.847056673,
                        "remaining_time": 0.005882346094,
                        "test": [
                          227.648103
                        ]
                      },
                      {
                        "iteration": 942,
                        "learn": [
                          86.52306478
                        ],
                        "passed_time": 1.848261114,
                        "remaining_time": 0.003919959945,
                        "test": [
                          227.6390238
                        ]
                      },
                      {
                        "iteration": 943,
                        "learn": [
                          86.49328841
                        ],
                        "passed_time": 1.851720666,
                        "remaining_time": 0.001961568502,
                        "test": [
                          227.6476357
                        ]
                      },
                      {
                        "iteration": 944,
                        "learn": [
                          86.433158
                        ],
                        "passed_time": 1.853049814,
                        "remaining_time": 0,
                        "test": [
                          227.590113
                        ]
                      }
                    ],
                    "meta": {
                      "iteration_count": 945,
                      "launch_mode": "Train",
                      "learn_metrics": [
                        {
                          "best_value": "Min",
                          "name": "RMSE"
                        }
                      ],
                      "learn_sets": [
                        "learn"
                      ],
                      "name": "experiment",
                      "parameters": "",
                      "test_metrics": [
                        {
                          "best_value": "Min",
                          "name": "RMSE"
                        }
                      ],
                      "test_sets": [
                        "test"
                      ]
                    }
                  },
                  "passed_iterations": 944,
                  "total_iterations": 945
                },
                "name": "catboost_info",
                "path": "catboost_info"
              }
            },
            "layout": "IPY_MODEL_97c97039b94244678a96588a930713e0"
          }
        }
      }
    }
  },
  "nbformat": 4,
  "nbformat_minor": 0
}
